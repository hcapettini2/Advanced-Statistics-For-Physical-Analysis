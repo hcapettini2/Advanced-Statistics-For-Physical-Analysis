{
 "cells": [
  {
   "cell_type": "markdown",
   "metadata": {},
   "source": [
    "# Laboratory session 07\n",
    "\n",
    " Capettini Hilario (Matricola N. 2013031)"
   ]
  },
  {
   "cell_type": "code",
   "execution_count": 30,
   "metadata": {
    "ExecuteTime": {
     "end_time": "2021-05-25T12:46:40.297480Z",
     "start_time": "2021-05-25T12:46:40.208Z"
    }
   },
   "outputs": [],
   "source": [
    "library(\"tibble\")\n",
    "library(\"tidyverse\")\n",
    "library(\"magrittr\")\n",
    "library(Bolstad2)\n",
    "library(showtext)\n",
    "showtext_auto()\n",
    "\n",
    "set_plot_dimensions <- function(width_choice, height_choice) {\n",
    "        options(repr.plot.width=width_choice, repr.plot.height=height_choice)\n",
    "        }"
   ]
  },
  {
   "cell_type": "markdown",
   "metadata": {},
   "source": [
    "## Exercise 1\n",
    "\n",
    "-  a well established and diffused method for detecting a disease in blood fails to detect the presence of disease in 15% of the patients that actually have the disease.\n",
    "\n",
    "-  A young UniPD startUp has developed an innovative method of screening. During the qualification phase, a random sample of $n = 75$ patients known to have the disease is screened using the new method.\n"
   ]
  },
  {
   "cell_type": "markdown",
   "metadata": {},
   "source": [
    "###  what is the probability distribution of y, the number of times the new method fails to detect the disease ?\n"
   ]
  },
  {
   "cell_type": "markdown",
   "metadata": {},
   "source": [
    "The binomial distribution is the discrete probability distribution of the number of successes in a sequence of $n$ INDEPENDENT experiments, each asking a yes–no question, and each with its own Boolean-valued outcome: success or failure."
   ]
  },
  {
   "cell_type": "markdown",
   "metadata": {},
   "source": [
    "###  on the n = 75 patients sample, the new method fails to detect the disease in y = 6 cases. What is the frequentist estimator of the failure probability of the new method ?"
   ]
  },
  {
   "cell_type": "markdown",
   "metadata": {},
   "source": [
    "As presented during the lessons, in the frequentist approach, an unbiased estimator for the binomial distribution is $$p_F = \\frac{y}{n}$$ where $y$ is the number of successes in $n$ trials. Furthermore the properties of this estimators are: \n",
    "\n",
    "$$E[p_F]= p$$ \n",
    "\n",
    "$$Var[p_F]=\\frac{pq}{n}$$ \n",
    "\n",
    "$$MSE[p_F] = Bias[p_F,p]^2 + Var[p_F] = \\frac{pq}{n}$$"
   ]
  },
  {
   "cell_type": "code",
   "execution_count": 44,
   "metadata": {
    "ExecuteTime": {
     "end_time": "2021-05-25T13:12:58.966235Z",
     "start_time": "2021-05-25T13:12:58.934Z"
    }
   },
   "outputs": [
    {
     "name": "stdout",
     "output_type": "stream",
     "text": [
      "[1] \"The frequentist estimator of the failure probability of the new method is 0.08\"\n"
     ]
    }
   ],
   "source": [
    "y <- 6\n",
    "n <- 75\n",
    "estimator <- y/n\n",
    "\n",
    "print(paste(\"The frequentist estimator of the failure probability of the new method is\",estimator))"
   ]
  },
  {
   "cell_type": "markdown",
   "metadata": {},
   "source": [
    "### setup a bayesian computation of the posterior probability, assuming a beta distribution with mean value 0.15 and standard deviation 0.14. Plot the posterior distribution for y, and mark on the plot the mean value and variance\n"
   ]
  },
  {
   "cell_type": "markdown",
   "metadata": {},
   "source": [
    "The relation between the beta distribution parameters $\\alpha$ and $\\beta$ and the distribution mean and standard deviation is known to be:\n",
    "\n",
    "$$\\mu= \\frac{\\alpha}{\\alpha + \\beta}$$\n",
    "\n",
    "$$\\sigma^2 = \\frac{\\alpha \\beta}{(\\alpha + \\beta)^2(\\alpha + \\beta +1)}$$\n",
    "\n",
    "those two relation can be easily inverted to obtain the parameters given certain values for the mean and the standard deviation\n",
    "\n",
    "$$\\alpha = \\left[\\frac{\\mu(1-\\mu)}{\\sigma^2}-1 \\right]\\mu$$\n",
    "\n",
    "$$\\beta = \\alpha \\left(\\frac{1}{\\mu}-1\\right)$$"
   ]
  },
  {
   "cell_type": "code",
   "execution_count": 45,
   "metadata": {
    "ExecuteTime": {
     "end_time": "2021-05-25T13:13:00.585306Z",
     "start_time": "2021-05-25T13:13:00.508Z"
    }
   },
   "outputs": [],
   "source": [
    "prior_mean <- 0.15\n",
    "prior_std  <- 0.14\n",
    "alpha <-(prior_mean * (1-prior_mean) / prior_std**2 -1) * prior_mean\n",
    "beta  <-alpha * (1/prior_mean -1)\n",
    "\n",
    "\n",
    "p <- seq(0,1,0.001)\n",
    "prior <- dbeta(p,alpha,beta)\n",
    "\n",
    "n <- 75\n",
    "y <- 6\n",
    "\n",
    "likelihood  <-  dbinom(x = y, size = n, prob = p)\n",
    "\n",
    "posterior <- prior * likelihood  \n",
    "posterior <- posterior/ sintegral(p,posterior)$int\n",
    "\n",
    "dprior <- data.frame(p, prior,likelihood,posterior)\n",
    "\n"
   ]
  },
  {
   "cell_type": "markdown",
   "metadata": {},
   "source": [
    "As we know for this case the posterior can be obtained analytically and it is again a beta distribution with parameters $\\alpha'= \\alpha +y $ and $\\beta' = \\beta+n-y$. Given these parameters we can obtain the posterior mean and standard deviation."
   ]
  },
  {
   "cell_type": "code",
   "execution_count": 46,
   "metadata": {
    "ExecuteTime": {
     "end_time": "2021-05-25T13:13:02.202088Z",
     "start_time": "2021-05-25T13:13:02.164Z"
    }
   },
   "outputs": [],
   "source": [
    "alpha_p <- alpha + y\n",
    "beta_p  <- beta + n - y\n",
    "posterior_mean      <- (alpha_p) / (alpha_p + beta_p)\n",
    "posterior_variance  <-  (alpha_p*beta_p)/((alpha_p+beta_p)**2 * (alpha_p+beta_p+1))"
   ]
  },
  {
   "cell_type": "code",
   "execution_count": 49,
   "metadata": {
    "ExecuteTime": {
     "end_time": "2021-05-25T13:14:05.652277Z",
     "start_time": "2021-05-25T13:14:05.616Z"
    }
   },
   "outputs": [
    {
     "data": {
      "text/html": [
       "0.0847867418721085"
      ],
      "text/latex": [
       "0.0847867418721085"
      ],
      "text/markdown": [
       "0.0847867418721085"
      ],
      "text/plain": [
       "[1] 0.08478674"
      ]
     },
     "metadata": {},
     "output_type": "display_data"
    },
    {
     "data": {
      "text/html": [
       "0.000952062488504845"
      ],
      "text/latex": [
       "0.000952062488504845"
      ],
      "text/markdown": [
       "0.000952062488504845"
      ],
      "text/plain": [
       "[1] 0.0009520625"
      ]
     },
     "metadata": {},
     "output_type": "display_data"
    }
   ],
   "source": [
    "posterior_mean;posterior_variance"
   ]
  },
  {
   "cell_type": "code",
   "execution_count": 116,
   "metadata": {
    "ExecuteTime": {
     "end_time": "2021-05-25T14:47:20.916203Z",
     "start_time": "2021-05-25T14:47:20.371Z"
    }
   },
   "outputs": [
    {
     "name": "stderr",
     "output_type": "stream",
     "text": [
      "Warning message:\n",
      "“Removed 800 row(s) containing missing values (geom_path).”Warning message:\n",
      "“Removed 801 row(s) containing missing values (geom_path).”"
     ]
    },
    {
     "data": {
      "image/png": "[encoded data removed]",
      "text/plain": [
       "plot without title"
      ]
     },
     "metadata": {},
     "output_type": "display_data"
    }
   ],
   "source": [
    "set_plot_dimensions(8, 3)\n",
    "colors <- c('Prior' = \"#F8766D\", 'Likelihood' = \"#7CAE00\", 'Posterior' = \"#00BFC4\")\n",
    "\n",
    "ggplot(dprior, aes(x = p)) +\n",
    "    geom_line (aes(y = prior, color = 'Prior')) +\n",
    "   # geom_line (aes(y = likelihood, color = 'Likelihood')) +\n",
    "    geom_line (aes(y = posterior, color = 'Posterior')) +\n",
    "    geom_vline(xintercept = posterior_mean, color=\"#00BFC4\", size = 0.5)+\n",
    "    geom_vline(xintercept = posterior_mean+posterior_variance, color=\"#7CAE00\", size = 0.1)+\n",
    "    geom_vline(xintercept = posterior_mean-posterior_variance, color=\"#7CAE00\", size = 0.1)+\n",
    "    xlim(0,0.20)+\n",
    "    labs(title =\"Prior and posterior densities\",\n",
    "         x = \"p\",\n",
    "         y = \"Density\",\n",
    "         color = \"\") +\n",
    "    scale_color_manual(values = colors)"
   ]
  },
  {
   "cell_type": "code",
   "execution_count": 78,
   "metadata": {
    "ExecuteTime": {
     "end_time": "2021-05-25T13:25:14.160979Z",
     "start_time": "2021-05-25T13:25:14.128Z"
    }
   },
   "outputs": [
    {
     "name": "stdout",
     "output_type": "stream",
     "text": [
      "[1] \"Te mean value for the posterior is  0.0848 with a variance of 9.52E-04\"\n"
     ]
    }
   ],
   "source": [
    "print(paste(\"Te mean value for the posterior is \",sprintf(\"%.4f\",posterior_mean),\n",
    "            \"with a variance of\",sprintf(\"%1.2E\",posterior_variance)))"
   ]
  },
  {
   "cell_type": "markdown",
   "metadata": {},
   "source": [
    "###  Perform a test of hypothesis assuming that if the probability of failing to the detect the desease in ill patients is greater or equal than 15%, the new test is no better that the traditional method. Test the sample at a 5% level of significance in the Bayesian way.\n"
   ]
  },
  {
   "cell_type": "markdown",
   "metadata": {},
   "source": [
    "we wish to test $$H_0\\,:\\, P_{UNIPD} \\leq P_{OLD}$$ at a level of significance $\\alpha=0.05$.\n",
    "\n",
    "For this purpose we integrate the posterior $$P(H_0: P_{UNIPD}\\,\\leq \\, P_{OLD}|y) = \\int_{0}^{P_{OLD}} g(p\\,|\\,y)\\,dp $$"
   ]
  },
  {
   "cell_type": "code",
   "execution_count": 124,
   "metadata": {
    "ExecuteTime": {
     "end_time": "2021-05-25T15:26:41.485920Z",
     "start_time": "2021-05-25T15:26:41.427Z"
    }
   },
   "outputs": [
    {
     "data": {
      "text/html": [
       "0.0533951048951049"
      ],
      "text/latex": [
       "0.0533951048951049"
      ],
      "text/markdown": [
       "0.0533951048951049"
      ],
      "text/plain": [
       "[1] 0.0533951"
      ]
     },
     "metadata": {},
     "output_type": "display_data"
    }
   ],
   "source": [
    "p_old <- 0.15\n",
    "alpha <- 0.05\n",
    "\n",
    "posterior_integral  <- sintegral(p,posterior)\n",
    "\n",
    "d  <- abs(u$y-0.15)                       #Just a trick to convert our area of interest into a trackleable minimum\n",
    "estimation <-u$x[max((1:length(u$y))[d==min(d)])]\n",
    "estimation"
   ]
  },
  {
   "cell_type": "code",
   "execution_count": 126,
   "metadata": {
    "ExecuteTime": {
     "end_time": "2021-05-25T15:26:59.021117Z",
     "start_time": "2021-05-25T15:26:58.981Z"
    }
   },
   "outputs": [
    {
     "name": "stdout",
     "output_type": "stream",
     "text": [
      "[1] \"The result 0.0534 is lower than alpha = 0.05 therefore we reject the null hypothesis at 5 % level of significance.\"\n"
     ]
    }
   ],
   "source": [
    "if (estimation < alpha){\n",
    "    print(paste(\"The result\",sprintf(\"%.4f\",estimation),\"is higher than alpha =\",alpha,\"therefore we cannot reject the null hypothesis at\",\n",
    "           alpha * 100,\"% level of significance.\"))\n",
    "    \n",
    "}else{print(paste(\"The result\",sprintf(\"%.4f\",estimation),\"is lower than alpha =\",alpha,\"therefore we reject the null hypothesis at\",\n",
    "           alpha*100,\"% level of significance.\"))}\n",
    "\n"
   ]
  },
  {
   "cell_type": "markdown",
   "metadata": {},
   "source": [
    "###  Perform the same hypothesis test in the classical frequentist way.\n"
   ]
  },
  {
   "cell_type": "code",
   "execution_count": 120,
   "metadata": {
    "ExecuteTime": {
     "end_time": "2021-05-25T14:55:26.426562Z",
     "start_time": "2021-05-25T14:55:26.390Z"
    }
   },
   "outputs": [
    {
     "data": {
      "text/plain": [
       "\n",
       "\tExact binomial test\n",
       "\n",
       "data:  y and n\n",
       "number of successes = 6, number of trials = 75, p-value = 0.1047\n",
       "alternative hypothesis: true probability of success is not equal to 0.15\n",
       "95 percent confidence interval:\n",
       " 0.02992514 0.16603687\n",
       "sample estimates:\n",
       "probability of success \n",
       "                  0.08 \n"
      ]
     },
     "metadata": {},
     "output_type": "display_data"
    }
   ],
   "source": [
    "#\n",
    "binom.test(x=y, n=n, p=0.15)\n"
   ]
  },
  {
   "cell_type": "code",
   "execution_count": 112,
   "metadata": {
    "ExecuteTime": {
     "end_time": "2021-05-25T14:39:02.965650Z",
     "start_time": "2021-05-25T14:39:02.770Z"
    }
   },
   "outputs": [],
   "source": [
    "?binom.test"
   ]
  },
  {
   "cell_type": "markdown",
   "metadata": {},
   "source": [
    "## Exercise 2\n",
    "\n",
    "- Ladislaus Josephovich Bortkiewicz was a Russian economist and statistician. He noted that the Poisson distribution can be very useful in applied statistics when describing low-frequency events in a large population. In a famous example he showed that the number of deaths by horse kick among the Prussian army follows the Poisson distribution.\n",
    " \n",
    "- Considering the following to sets of observations taken over a fixed large time interval in two different corps:\n",
    "\n",
    "<table>\n",
    "  <tr>\n",
    "    <td> y death soldiers;</td>\n",
    "    <td>0</td>\n",
    "    <td>1</td>\n",
    "    <td>2</td>\n",
    "    <td>3</td>\n",
    "    <td>4</td>\n",
    "    <td>$\\gt 5$</td>\n",
    "  </tr>\n",
    "  <tr>\n",
    "    <td>$n_1$ observations</td>\n",
    "    <td>109</td>\n",
    "    <td>65</td>\n",
    "    <td>22</td>\n",
    "    <td>3</td>\n",
    "    <td>1</td>\n",
    "    <td>$0$</td>\n",
    "  </tr>\n",
    "  <tr>\n",
    "    <td>$n_2$ observations</td>\n",
    "    <td>144</td>\n",
    "    <td>91</td>\n",
    "    <td>32</td>\n",
    "    <td>11</td>\n",
    "    <td>2</td>\n",
    "    <td>$0$</td>\n",
    "  </tr>\n",
    "</table>\n",
    " "
   ]
  },
  {
   "cell_type": "markdown",
   "metadata": {},
   "source": [
    "###  assuming a uniform prior, compute and plot the posterior distribution for $\\lambda$, the death rate over the measurement time. Determine the posterior mean, median and variance, and compute the 95% credibility interval.\n"
   ]
  },
  {
   "cell_type": "code",
   "execution_count": null,
   "metadata": {},
   "outputs": [],
   "source": []
  },
  {
   "cell_type": "markdown",
   "metadata": {},
   "source": [
    "###  assuming now a Jeffreys’ prior, $$ g(\\lambda) \\propto 1/\\sqrt{\\lambda}, \\; with \\; \\lambda \\lt 0$$  compute and plot the posterior distribution for λ, the death rate over the measurement time.  Determine the posterior mean, median and variance, and compute the 95% credibility interval.\n",
    "\n"
   ]
  },
  {
   "cell_type": "code",
   "execution_count": null,
   "metadata": {},
   "outputs": [],
   "source": []
  },
  {
   "cell_type": "markdown",
   "metadata": {},
   "source": [
    "##  Exercise 3\n",
    "\n",
    "- A study on water quality of streams, a high level of bacter X was defined as a level greater than 100 per 100 ml of stream water. $n = 116$ samples were taken from streams having a high environmental impact on pandas. Out of these, $y = 11$ had a high bacter X level.\n",
    "\n",
    "- indicating with $p$ the probability that a sample of water taken from the stream has a high bacter X level,\n"
   ]
  },
  {
   "cell_type": "markdown",
   "metadata": {},
   "source": [
    "###  find the frequentist estimator for $p$\n"
   ]
  },
  {
   "cell_type": "code",
   "execution_count": null,
   "metadata": {},
   "outputs": [],
   "source": []
  },
  {
   "cell_type": "markdown",
   "metadata": {},
   "source": [
    "### using a $\\texttt{Beta}(1, 10)$ prior for $p$, calculate and posterior distribution $P (p|y)$\n"
   ]
  },
  {
   "cell_type": "code",
   "execution_count": null,
   "metadata": {},
   "outputs": [],
   "source": []
  },
  {
   "cell_type": "markdown",
   "metadata": {},
   "source": [
    "###  find the bayesian estimator for $p$, the posterior mean and variance, and a 95% credible interval\n"
   ]
  },
  {
   "cell_type": "code",
   "execution_count": null,
   "metadata": {},
   "outputs": [],
   "source": []
  },
  {
   "cell_type": "markdown",
   "metadata": {},
   "source": [
    "###  test the hypotesis $$H_o : p = 0.1 \\; \\text{versus} \\; H_1 : p \\neq0.1$$ at 5% level of significance with both the frequentist and bayesian approach"
   ]
  },
  {
   "cell_type": "code",
   "execution_count": null,
   "metadata": {},
   "outputs": [],
   "source": []
  },
  {
   "cell_type": "markdown",
   "metadata": {},
   "source": [
    "-  a new measurement, performed one month later on $n = 165$ water samples, gives $y = 9$ high bacter X level\n"
   ]
  },
  {
   "cell_type": "markdown",
   "metadata": {},
   "source": [
    "### find the frequentist estimator for p\n"
   ]
  },
  {
   "cell_type": "code",
   "execution_count": null,
   "metadata": {},
   "outputs": [],
   "source": []
  },
  {
   "cell_type": "markdown",
   "metadata": {},
   "source": [
    "###  find a bayesian estimator for $p$, assuming both a $Beta(1, 10)$ prior for $p$, and assuming the posterior probability of the older measurement as the prior for the new one.\n"
   ]
  },
  {
   "cell_type": "code",
   "execution_count": null,
   "metadata": {},
   "outputs": [],
   "source": []
  },
  {
   "cell_type": "markdown",
   "metadata": {},
   "source": [
    "### find the bayesian estimator for $p$, the posterior mean and variance, and a 95% credible interval\n",
    " "
   ]
  },
  {
   "cell_type": "code",
   "execution_count": null,
   "metadata": {},
   "outputs": [],
   "source": []
  },
  {
   "cell_type": "markdown",
   "metadata": {},
   "source": [
    "###  test the hypotesis $$H_o : p = 0.1 \\; \\text{versus} \\; H_1 : p \\neq0.1$$ at 5% level of significance with both the frequentist and bayesian approach\n",
    "\n"
   ]
  },
  {
   "cell_type": "code",
   "execution_count": null,
   "metadata": {},
   "outputs": [],
   "source": []
  }
 ],
 "metadata": {
  "kernelspec": {
   "display_name": "R [conda env:r-tutorial]",
   "language": "R",
   "name": "conda-env-r-tutorial-r"
  },
  "language_info": {
   "codemirror_mode": "r",
   "file_extension": ".r",
   "mimetype": "text/x-r-source",
   "name": "R",
   "pygments_lexer": "r",
   "version": "3.6.1"
  },
  "toc": {
   "base_numbering": 1,
   "nav_menu": {},
   "number_sections": true,
   "sideBar": true,
   "skip_h1_title": false,
   "title_cell": "Table of Contents",
   "title_sidebar": "Contents",
   "toc_cell": false,
   "toc_position": {},
   "toc_section_display": true,
   "toc_window_display": false
  }
 },
 "nbformat": 4,
 "nbformat_minor": 4
}
