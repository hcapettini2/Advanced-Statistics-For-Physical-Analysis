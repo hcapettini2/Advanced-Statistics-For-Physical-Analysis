{
 "cells": [
  {
   "cell_type": "markdown",
   "metadata": {},
   "source": [
    "# Laboratory session 07\n",
    "\n",
    " Capettini Hilario (Matricola N. 2013031)"
   ]
  },
  {
   "cell_type": "code",
   "execution_count": 1,
   "metadata": {
    "ExecuteTime": {
     "end_time": "2021-05-26T10:10:02.318493Z",
     "start_time": "2021-05-26T10:09:59.866Z"
    }
   },
   "outputs": [
    {
     "name": "stderr",
     "output_type": "stream",
     "text": [
      "── Attaching packages ─────────────────────────────────────── tidyverse 1.3.0 ──\n",
      "✔ ggplot2 3.3.3     ✔ dplyr   1.0.5\n",
      "✔ tidyr   1.1.3     ✔ stringr 1.4.0\n",
      "✔ readr   1.3.1     ✔ forcats 0.4.0\n",
      "✔ purrr   0.3.4     \n",
      "── Conflicts ────────────────────────────────────────── tidyverse_conflicts() ──\n",
      "✖ dplyr::filter() masks stats::filter()\n",
      "✖ dplyr::lag()    masks stats::lag()\n",
      "\n",
      "Attaching package: ‘magrittr’\n",
      "\n",
      "The following object is masked from ‘package:purrr’:\n",
      "\n",
      "    set_names\n",
      "\n",
      "The following object is masked from ‘package:tidyr’:\n",
      "\n",
      "    extract\n",
      "\n",
      "Loading required package: sysfonts\n",
      "Loading required package: showtextdb\n"
     ]
    }
   ],
   "source": [
    "library(\"tibble\")\n",
    "library(\"tidyverse\")\n",
    "library(\"magrittr\")\n",
    "library(Bolstad2)\n",
    "library(showtext)\n",
    "showtext_auto()\n",
    "\n",
    "set_plot_dimensions <- function(width_choice, height_choice) {\n",
    "        options(repr.plot.width=width_choice, repr.plot.height=height_choice)\n",
    "        }"
   ]
  },
  {
   "cell_type": "markdown",
   "metadata": {},
   "source": [
    "## Exercise 1\n",
    "\n",
    "-  a well established and diffused method for detecting a disease in blood fails to detect the presence of disease in 15% of the patients that actually have the disease.\n",
    "\n",
    "-  A young UniPD startUp has developed an innovative method of screening. During the qualification phase, a random sample of $n = 75$ patients known to have the disease is screened using the new method.\n"
   ]
  },
  {
   "cell_type": "markdown",
   "metadata": {},
   "source": [
    "###  what is the probability distribution of y, the number of times the new method fails to detect the disease ?\n"
   ]
  },
  {
   "cell_type": "markdown",
   "metadata": {},
   "source": [
    "The binomial distribution is the discrete probability distribution of the number of successes in a sequence of $n$ INDEPENDENT experiments, each asking a yes–no question, and each with its own Boolean-valued outcome: success or failure."
   ]
  },
  {
   "cell_type": "markdown",
   "metadata": {},
   "source": [
    "###  on the n = 75 patients sample, the new method fails to detect the disease in y = 6 cases. What is the frequentist estimator of the failure probability of the new method ?"
   ]
  },
  {
   "cell_type": "markdown",
   "metadata": {},
   "source": [
    "As presented during the lessons, in the frequentist approach, an unbiased estimator for the binomial distribution is $$p_F = \\frac{y}{n}$$ where $y$ is the number of successes in $n$ trials. Furthermore the properties of this estimators are: \n",
    "\n",
    "$$E[p_F]= p$$ \n",
    "\n",
    "$$Var[p_F]=\\frac{pq}{n}$$ \n",
    "\n",
    "$$MSE[p_F] = Bias[p_F,p]^2 + Var[p_F] = \\frac{pq}{n}$$"
   ]
  },
  {
   "cell_type": "code",
   "execution_count": 175,
   "metadata": {
    "ExecuteTime": {
     "end_time": "2021-05-26T08:33:57.809027Z",
     "start_time": "2021-05-26T08:33:57.760Z"
    }
   },
   "outputs": [
    {
     "name": "stdout",
     "output_type": "stream",
     "text": [
      "[1] \"The frequentist estimator of the failure probability of the new method is 0.08\"\n"
     ]
    }
   ],
   "source": [
    "y <- 6\n",
    "n <- 75\n",
    "estimator <- y/n\n",
    "\n",
    "print(paste(\"The frequentist estimator of the failure probability of the new method is\",estimator))"
   ]
  },
  {
   "cell_type": "markdown",
   "metadata": {},
   "source": [
    "### setup a bayesian computation of the posterior probability, assuming a beta distribution with mean value 0.15 and standard deviation 0.14. Plot the posterior distribution for y, and mark on the plot the mean value and variance\n"
   ]
  },
  {
   "cell_type": "markdown",
   "metadata": {},
   "source": [
    "The relation between the beta distribution parameters $\\alpha$ and $\\beta$ and the distribution mean and standard deviation is known to be:\n",
    "\n",
    "$$\\mu= \\frac{\\alpha}{\\alpha + \\beta}$$\n",
    "\n",
    "$$\\sigma^2 = \\frac{\\alpha \\beta}{(\\alpha + \\beta)^2(\\alpha + \\beta +1)}$$\n",
    "\n",
    "those two relation can be easily inverted to obtain the parameters given certain values for the mean and the standard deviation\n",
    "\n",
    "$$\\alpha = \\left[\\frac{\\mu(1-\\mu)}{\\sigma^2}-1 \\right]\\mu$$\n",
    "\n",
    "$$\\beta = \\alpha \\left(\\frac{1}{\\mu}-1\\right)$$"
   ]
  },
  {
   "cell_type": "code",
   "execution_count": 176,
   "metadata": {
    "ExecuteTime": {
     "end_time": "2021-05-26T08:33:58.744188Z",
     "start_time": "2021-05-26T08:33:58.657Z"
    }
   },
   "outputs": [],
   "source": [
    "prior_mean <- 0.15\n",
    "prior_std  <- 0.14\n",
    "alpha <-(prior_mean * (1-prior_mean) / prior_std**2 -1) * prior_mean\n",
    "beta  <-alpha * (1/prior_mean -1)\n",
    "\n",
    "\n",
    "p <- seq(0,1,0.001)\n",
    "prior <- dbeta(p,alpha,beta)\n",
    "\n",
    "n <- 75\n",
    "y <- 6\n",
    "\n",
    "likelihood  <-  dbinom(x = y, size = n, prob = p)\n",
    "\n",
    "posterior <- prior * likelihood  \n",
    "posterior <- posterior/ sintegral(p,posterior)$int\n",
    "\n",
    "df <- data.frame(p, prior,likelihood,posterior)\n",
    "\n"
   ]
  },
  {
   "cell_type": "markdown",
   "metadata": {},
   "source": [
    "As we know for this case the posterior can be obtained analytically and it is again a beta distribution with parameters $\\alpha'= \\alpha +y $ and $\\beta' = \\beta+n-y$. Given these parameters we can obtain the posterior mean and standard deviation."
   ]
  },
  {
   "cell_type": "code",
   "execution_count": 177,
   "metadata": {
    "ExecuteTime": {
     "end_time": "2021-05-26T08:33:59.459327Z",
     "start_time": "2021-05-26T08:33:59.416Z"
    }
   },
   "outputs": [],
   "source": [
    "alpha_p <- alpha + y\n",
    "beta_p  <- beta + n - y\n",
    "posterior_mean      <- (alpha_p) / (alpha_p + beta_p)\n",
    "posterior_variance  <-  (alpha_p*beta_p)/((alpha_p+beta_p)**2 * (alpha_p+beta_p+1))"
   ]
  },
  {
   "cell_type": "code",
   "execution_count": 178,
   "metadata": {
    "ExecuteTime": {
     "end_time": "2021-05-26T08:34:00.675021Z",
     "start_time": "2021-05-26T08:33:59.846Z"
    }
   },
   "outputs": [
    {
     "name": "stderr",
     "output_type": "stream",
     "text": [
      "Warning message:\n",
      "“Removed 800 row(s) containing missing values (geom_path).”Warning message:\n",
      "“Removed 801 row(s) containing missing values (geom_path).”"
     ]
    },
    {
     "data": {
      "image/png": "[encoded data removed]",
      "text/plain": [
       "plot without title"
      ]
     },
     "metadata": {},
     "output_type": "display_data"
    }
   ],
   "source": [
    "set_plot_dimensions(8, 3)\n",
    "colors <- c('Prior' = \"#F8766D\", 'Likelihood' = \"#7CAE00\", 'Posterior' = \"#00BFC4\")\n",
    "\n",
    "ggplot(df, aes(x = p)) +\n",
    "    geom_line (aes(y = prior, color = 'Prior')) +\n",
    "   # geom_line (aes(y = likelihood, color = 'Likelihood')) +\n",
    "    geom_line (aes(y = posterior, color = 'Posterior')) +\n",
    "    geom_vline(xintercept = posterior_mean, color=\"#00BFC4\", size = 0.5)+\n",
    "    geom_vline(xintercept = posterior_mean+posterior_variance, color=\"#7CAE00\", size = 0.1)+\n",
    "    geom_vline(xintercept = posterior_mean-posterior_variance, color=\"#7CAE00\", size = 0.1)+\n",
    "    xlim(0,0.20)+\n",
    "    labs(title =\"Prior and posterior densities\",\n",
    "         x = \"p\",\n",
    "         y = \"Density\",\n",
    "         color = \"\") +\n",
    "    scale_color_manual(values = colors)"
   ]
  },
  {
   "cell_type": "code",
   "execution_count": 179,
   "metadata": {
    "ExecuteTime": {
     "end_time": "2021-05-26T08:34:01.220572Z",
     "start_time": "2021-05-26T08:34:01.193Z"
    }
   },
   "outputs": [
    {
     "name": "stdout",
     "output_type": "stream",
     "text": [
      "[1] \"Te mean value for the posterior is  0.0848 with a variance of 9.52E-04\"\n"
     ]
    }
   ],
   "source": [
    "print(paste(\"Te mean value for the posterior is \",sprintf(\"%.4f\",posterior_mean),\n",
    "            \"with a variance of\",sprintf(\"%1.2E\",posterior_variance)))"
   ]
  },
  {
   "cell_type": "markdown",
   "metadata": {},
   "source": [
    "###  Perform a test of hypothesis assuming that if the probability of failing to the detect the desease in ill patients is greater or equal than 15%, the new test is no better that the traditional method. Test the sample at a 5% level of significance in the Bayesian way.\n"
   ]
  },
  {
   "cell_type": "markdown",
   "metadata": {},
   "source": [
    "we wish to test $$H_0\\,:\\, P_{UNIPD} \\leq P_{OLD}$$ at a level of significance $\\alpha=0.05$.\n",
    "\n",
    "For this purpose we integrate the posterior $$P(H_0: P_{UNIPD}\\,\\leq \\, P_{OLD}|y) = \\int_{0}^{P_{OLD}} g(p\\,|\\,y)\\,dp $$"
   ]
  },
  {
   "cell_type": "code",
   "execution_count": 40,
   "metadata": {
    "ExecuteTime": {
     "end_time": "2021-05-26T06:04:44.147875Z",
     "start_time": "2021-05-26T06:04:44.092Z"
    }
   },
   "outputs": [
    {
     "data": {
      "text/html": [
       "0.0533951048951049"
      ],
      "text/latex": [
       "0.0533951048951049"
      ],
      "text/markdown": [
       "0.0533951048951049"
      ],
      "text/plain": [
       "[1] 0.0533951"
      ]
     },
     "metadata": {},
     "output_type": "display_data"
    }
   ],
   "source": [
    "p_old <- 0.15\n",
    "alpha <- 0.05\n",
    "\n",
    "posterior_integral  <- sintegral(p,posterior)\n",
    "\n",
    "d  <- abs(posterior_integral$y-0.15)                       #Just a trick to convert our area of interest into a trackleable minimum\n",
    "estimation <-posterior_integral$x[max((1:length(posterior_integral$y))[d==min(d)])]"
   ]
  },
  {
   "cell_type": "code",
   "execution_count": 61,
   "metadata": {
    "ExecuteTime": {
     "end_time": "2021-05-26T06:17:40.299260Z",
     "start_time": "2021-05-26T06:17:39.329Z"
    }
   },
   "outputs": [
    {
     "name": "stderr",
     "output_type": "stream",
     "text": [
      "Warning message:\n",
      "“Removed 1 rows containing missing values (position_stack).”Warning message:\n",
      "“Removed 801 row(s) containing missing values (geom_path).”"
     ]
    },
    {
     "data": {
      "image/png": "[encoded data removed]",
      "text/plain": [
       "plot without title"
      ]
     },
     "metadata": {},
     "output_type": "display_data"
    }
   ],
   "source": [
    "#ggplot(data = df, mapping = aes(x = p, y = posterior)) +\n",
    "#    geom_line()+\n",
    "#    geom_area(mapping = aes(x = ifelse(p>0.0 & p< alpha , p, 0.0)), fill = \"#00BFC4\")+\n",
    "#    xlim(0,0.25)+ ylim(0,15)\n",
    "\n",
    "ggplot(df, aes(x = p)) +\n",
    "    geom_line (aes(y = posterior, color = 'Posterior')) +\n",
    "    geom_area(mapping = aes(y=posterior,x = ifelse(p>0.0 & p< alpha , p, 0.0)), fill = \"#00BFC4\")+\n",
    "    geom_text(mapping=aes(x=0.025, y=6, label=sprintf(\"%.3f\",estimation)),colour=\"#00BFC4\", size=6)+\n",
    "\n",
    "    xlim(0,0.20)+ylim(0,15)+\n",
    "    labs(title =\"Posterior density\",\n",
    "         x = \"p\",\n",
    "         y = \"Density\",\n",
    "         color = \"\") +\n",
    "    scale_color_manual(values = colors)"
   ]
  },
  {
   "cell_type": "code",
   "execution_count": 63,
   "metadata": {
    "ExecuteTime": {
     "end_time": "2021-05-26T06:18:48.664464Z",
     "start_time": "2021-05-26T06:18:48.640Z"
    }
   },
   "outputs": [
    {
     "name": "stdout",
     "output_type": "stream",
     "text": [
      "[1] \"The result 0.0534 is higher than alpha = 0.05 therefore we cannot reject the null hypothesis at 5 % level of significance.\"\n"
     ]
    }
   ],
   "source": [
    "if (estimation > alpha){\n",
    "    print(paste(\"The result\",sprintf(\"%.4f\",estimation),\"is higher than alpha =\",alpha,\"therefore we cannot reject the null hypothesis at\",\n",
    "           alpha * 100,\"% level of significance.\"))\n",
    "    \n",
    "}else{print(paste(\"The result\",sprintf(\"%.4f\",estimation),\"is lower than alpha =\",alpha,\"therefore we reject the null hypothesis at\",\n",
    "           alpha*100,\"% level of significance.\"))}\n",
    "\n"
   ]
  },
  {
   "cell_type": "markdown",
   "metadata": {},
   "source": [
    "###  Perform the same hypothesis test in the classical frequentist way.\n"
   ]
  },
  {
   "cell_type": "code",
   "execution_count": 120,
   "metadata": {
    "ExecuteTime": {
     "end_time": "2021-05-25T14:55:26.426562Z",
     "start_time": "2021-05-25T14:55:26.390Z"
    }
   },
   "outputs": [
    {
     "data": {
      "text/plain": [
       "\n",
       "\tExact binomial test\n",
       "\n",
       "data:  y and n\n",
       "number of successes = 6, number of trials = 75, p-value = 0.1047\n",
       "alternative hypothesis: true probability of success is not equal to 0.15\n",
       "95 percent confidence interval:\n",
       " 0.02992514 0.16603687\n",
       "sample estimates:\n",
       "probability of success \n",
       "                  0.08 \n"
      ]
     },
     "metadata": {},
     "output_type": "display_data"
    }
   ],
   "source": [
    "#\n",
    "binom.test(x=y, n=n, p=0.15)\n"
   ]
  },
  {
   "cell_type": "markdown",
   "metadata": {
    "ExecuteTime": {
     "end_time": "2021-05-25T14:39:02.965650Z",
     "start_time": "2021-05-25T14:39:02.770Z"
    }
   },
   "source": [
    "As the probability of success (failure of the test in our case) is lower that 15 percent we cannot reject the null hypothesis. ????????????????????????????????????????"
   ]
  },
  {
   "cell_type": "markdown",
   "metadata": {},
   "source": [
    "## Exercise 2\n",
    "\n",
    "- Ladislaus Josephovich Bortkiewicz was a Russian economist and statistician. He noted that the Poisson distribution can be very useful in applied statistics when describing low-frequency events in a large population. In a famous example he showed that the number of deaths by horse kick among the Prussian army follows the Poisson distribution.\n",
    " \n",
    "- Considering the following to sets of observations taken over a fixed large time interval in two different corps:\n",
    "\n",
    "<table>\n",
    "  <tr>\n",
    "    <td> y death soldiers;</td>\n",
    "    <td>0</td>\n",
    "    <td>1</td>\n",
    "    <td>2</td>\n",
    "    <td>3</td>\n",
    "    <td>4</td>\n",
    "    <td>$\\gt 5$</td>\n",
    "  </tr>\n",
    "  <tr>\n",
    "    <td>$n_1$ observations</td>\n",
    "    <td>109</td>\n",
    "    <td>65</td>\n",
    "    <td>22</td>\n",
    "    <td>3</td>\n",
    "    <td>1</td>\n",
    "    <td>$0$</td>\n",
    "  </tr>\n",
    "  <tr>\n",
    "    <td>$n_2$ observations</td>\n",
    "    <td>144</td>\n",
    "    <td>91</td>\n",
    "    <td>32</td>\n",
    "    <td>11</td>\n",
    "    <td>2</td>\n",
    "    <td>$0$</td>\n",
    "  </tr>\n",
    "</table>\n",
    " \n",
    " \n",
    " <a href=\"https://www.mun.ca/biology/scarr/smcPoisson_distributions.html#:~:text=In%20a%20classic%20example%2C%20Bortkiewicz,men%20were%20kicked%20to%20death\">This is an explanatory link for the data</a>. "
   ]
  },
  {
   "cell_type": "code",
   "execution_count": 10,
   "metadata": {
    "ExecuteTime": {
     "end_time": "2021-05-26T10:13:02.488148Z",
     "start_time": "2021-05-26T10:13:02.454Z"
    }
   },
   "outputs": [],
   "source": [
    "#df <- data.frame()\n",
    "death_soldiers <-c(0,1,2,3,4,5)\n",
    "n1 <- c(109,65,22,3,1,0)\n",
    "n2 <- c(144,91,32,11,2,0)\n",
    "data <- data.frame(death_soldiers,n1,n2)"
   ]
  },
  {
   "cell_type": "code",
   "execution_count": 11,
   "metadata": {
    "ExecuteTime": {
     "end_time": "2021-05-26T10:13:03.342654Z",
     "start_time": "2021-05-26T10:13:02.892Z"
    }
   },
   "outputs": [
    {
     "data": {
      "image/png": "[encoded data removed]",
      "text/plain": [
       "plot without title"
      ]
     },
     "metadata": {},
     "output_type": "display_data"
    }
   ],
   "source": [
    "dfm <- pivot_longer(data, -death_soldiers, names_to=\"variable\", values_to=\"value\")\n",
    "ggplot(dfm,aes(x = death_soldiers,y = value)) + \n",
    "    geom_bar(aes(fill = variable),stat = \"identity\",position = \"dodge\")+\n",
    "    \n",
    "labs(title =\"\",\n",
    "         x = \"Death soldiers\",\n",
    "         y = \"Observations\",\n",
    "         color = \"Set\")"
   ]
  },
  {
   "cell_type": "markdown",
   "metadata": {},
   "source": [
    "###  assuming a uniform prior, compute and plot the posterior distribution for $\\lambda$, the death rate over the measurement time. Determine the posterior mean, median and variance, and compute the 95% credibility interval.\n"
   ]
  },
  {
   "cell_type": "markdown",
   "metadata": {},
   "source": [
    "This time I will go for the analytical form of the posterior using the conjugate priors.\n",
    "\n",
    "The uniform prior can be represented by a beta distribution with parameters $\\alpha=1$, $\\beta=1$."
   ]
  },
  {
   "cell_type": "code",
   "execution_count": 12,
   "metadata": {
    "ExecuteTime": {
     "end_time": "2021-05-26T10:13:10.028403Z",
     "start_time": "2021-05-26T10:13:09.990Z"
    }
   },
   "outputs": [],
   "source": [
    "gamma_mean <- function(a,b) return(a/b)\n",
    "\n",
    "#Given that there is no simple expression for the gamma(a,b) median we\n",
    "#obtain it numerically\n",
    "posterior_median <- function(p,posterior) {\n",
    "    integral  <- sintegral(p,posterior)\n",
    "    d  <- abs(integral$y-0.5)                       #Just a trick to convert our area of interest into a trackleable minimum\n",
    "    estimation <-integral$x[max((1:length(integral$y))[d==min(d)])]\n",
    "    return(estimation)}\n",
    "\n",
    "gamma_variance <- function(a,b) return(a/(b**2))\n",
    "\n",
    "credibility_interval <- function(credibility,p,posterior){\n",
    "    #credibility must be between 0 and 1\n",
    "    cdf  <- sintegral(p,posterior)\n",
    "    a <- (1-credibility)/2\n",
    "    b <- (credibility + a)\n",
    "    d<-abs(cdf$y-a)\n",
    "    posterior.min <- cdf$x[max((1:length(cdf$y))[d==min(d)])]\n",
    "\n",
    "    d<-abs(cdf$y-b)\n",
    "    posterior.max <- cdf$x[max((1:length(cdf$y))[d==min(d)])]\n",
    "    return(c(posterior.min,posterior.max))\n",
    "    \n",
    "}\n",
    "\n",
    "print_results <- function(prior,dataset,mean,median,variance,interval) {\n",
    "    cat(\"---------------------------------\",\"\\n\")\n",
    "    cat(paste(\"Type of prior:\",prior),\"\\n\")\n",
    "    cat(paste(\"Dataset:      \",dataset),\"\\n\")\n",
    "    cat(\"---------------------------------\",\"\\n\")\n",
    "    \n",
    "    cat(paste(\"Mean   \",sprintf(\"%.3f\",mean)),\"\\n\")\n",
    "    cat(paste(\"Median \",sprintf(\"%.3f\",median)),\"\\n\")\n",
    "    cat(paste(\"Variance \",sprintf(\"%.3f\",variance)),\"\\n\")\n",
    "    cat(paste(\"95% confidence interval \",\"[\",sprintf(\"%.3f\",interval[1]),\",\",sprintf(\"%.3f\",interval[2]),\"]\"),\"\\n\")\n",
    "\n",
    "}"
   ]
  },
  {
   "cell_type": "code",
   "execution_count": 13,
   "metadata": {
    "ExecuteTime": {
     "end_time": "2021-05-26T10:13:24.323540Z",
     "start_time": "2021-05-26T10:13:24.284Z"
    }
   },
   "outputs": [],
   "source": [
    "lambda <- seq(0,40,0.01)\n",
    "alpha_n1 <- 1 + sum(data$n1 * data$death_soldiers)\n",
    "beta_n1  <- length(data$n1)\n",
    "alpha_n2 <- 1+sum(data$n2 * data$death_soldiers)\n",
    "beta_n2  <- length(data$n2)\n",
    "\n",
    "posterior_uniform_n1 <- dgamma(lambda,alpha_n1,beta_n1)\n",
    "posterior_uniform_n2 <- dgamma(lambda,alpha_n2,beta_n2)\n",
    "\n",
    "results <- data.frame(lambda, posterior_uniform_n1,posterior_uniform_n2)"
   ]
  },
  {
   "cell_type": "code",
   "execution_count": 14,
   "metadata": {
    "ExecuteTime": {
     "end_time": "2021-05-26T10:13:25.371777Z",
     "start_time": "2021-05-26T10:13:25.285Z"
    }
   },
   "outputs": [],
   "source": [
    "n1_mean <- gamma_mean(alpha_n1,beta_n1)\n",
    "n1_variance <-gamma_variance(alpha_n1,beta_n1)\n",
    "n1_median <- posterior_median(lambda,posterior_uniform_n1)\n",
    "n1_interval <- credibility_interval(0.95,lambda,posterior_uniform_n1)\n",
    "\n",
    "n2_mean <- gamma_mean(alpha_n2,beta_n2)\n",
    "n2_variance <-gamma_variance(alpha_n2,beta_n2)\n",
    "n2_median <- posterior_median(lambda,posterior_uniform_n2)\n",
    "n2_interval <- credibility_interval(0.95,lambda,posterior_uniform_n2)"
   ]
  },
  {
   "cell_type": "code",
   "execution_count": 15,
   "metadata": {
    "ExecuteTime": {
     "end_time": "2021-05-26T10:13:31.110297Z",
     "start_time": "2021-05-26T10:13:30.457Z"
    }
   },
   "outputs": [
    {
     "name": "stdout",
     "output_type": "stream",
     "text": [
      "--------------------------------- \n",
      "Type of prior: Uniform \n",
      "Dataset:       n1 \n",
      "--------------------------------- \n",
      "Mean    20.500 \n",
      "Median  20.440 \n",
      "Variance  3.417 \n",
      "95% confidence interval  [ 17.031 , 24.269 ] \n",
      "[1] \"\"\n",
      "--------------------------------- \n",
      "Type of prior: Uniform \n",
      "Dataset:       n2 \n",
      "--------------------------------- \n",
      "Mean    32.833 \n",
      "Median  32.777 \n",
      "Variance  5.472 \n",
      "95% confidence interval  [ 28.408 , 37.566 ] \n"
     ]
    },
    {
     "name": "stderr",
     "output_type": "stream",
     "text": [
      "Warning message:\n",
      "“Removed 1000 row(s) containing missing values (geom_path).”Warning message:\n",
      "“Removed 1000 row(s) containing missing values (geom_path).”"
     ]
    },
    {
     "data": {
      "image/png": "[encoded data removed]",
      "text/plain": [
       "plot without title"
      ]
     },
     "metadata": {},
     "output_type": "display_data"
    }
   ],
   "source": [
    "#print results\n",
    "print_results(\"Uniform\",\"n1\",n1_mean,n1_median,n1_variance,n1_interval)\n",
    "print(\"\")\n",
    "print_results(\"Uniform\",\"n2\",n2_mean,n2_median,n2_variance,n2_interval)\n",
    "\n",
    "\n",
    "set_plot_dimensions(8, 3)\n",
    "colors <- c('n1' = \"#F8766D\", 'n2' = \"#7CAE00\")\n",
    "\n",
    "ggplot(results, aes(x = lambda)) +\n",
    "    geom_line (aes(y = posterior_uniform_n1, color = 'n1')) +\n",
    "    geom_vline(xintercept = n1_mean, color=\"#F8766D\", linetype=\"dotted\", size = 1.0)+\n",
    "    geom_vline(xintercept = n1_interval[1], color=\"#F8766D\", linetype=\"dotdash\", size = 0.5)+\n",
    "    geom_vline(xintercept = n1_interval[2], color=\"#F8766D\", linetype=\"dotdash\", size = 0.5)+\n",
    "\n",
    "    geom_line (aes(y = posterior_uniform_n2, color = 'n2')) +\n",
    "    geom_vline(xintercept = n2_mean, color=\"#7CAE00\", linetype=\"dotted\", size = 1.0)+\n",
    "    geom_vline(xintercept = n2_interval[1], color=\"#7CAE00\", linetype=\"dotdash\", size = 0.5)+\n",
    "    geom_vline(xintercept = n2_interval[2], color=\"#7CAE00\", linetype=\"dotdash\", size = 0.5)+\n",
    "    xlim(10,40)+\n",
    "    labs(title =\"Posterior densities for the lambda parameter\",\n",
    "         x = \"lambda\",\n",
    "         y = \"Density\",\n",
    "         color = \"\") +\n",
    "    scale_color_manual(values = colors)"
   ]
  },
  {
   "cell_type": "markdown",
   "metadata": {},
   "source": [
    "###  assuming now a Jeffreys’ prior, $$ g(\\lambda) \\propto 1/\\sqrt{\\lambda}, \\; with \\; \\lambda \\gt 0$$  compute and plot the posterior distribution for λ, the death rate over the measurement time.  Determine the posterior mean, median and variance, and compute the 95% credibility interval.\n",
    "\n"
   ]
  },
  {
   "cell_type": "code",
   "execution_count": 16,
   "metadata": {
    "ExecuteTime": {
     "end_time": "2021-05-26T10:14:00.775191Z",
     "start_time": "2021-05-26T10:14:00.737Z"
    }
   },
   "outputs": [],
   "source": [
    "lambda <- seq(0,40,0.01)\n",
    "alpha_n1_j <- 0.5 + sum(data$n1 * data$death_soldiers)\n",
    "beta_n1_j  <- length(data$n1)\n",
    "alpha_n2_j <- 0.5 + sum(data$n2 * data$death_soldiers)\n",
    "beta_n2_j  <- length(data$n2)\n",
    "\n",
    "posterior_jeff_n1 <- dgamma(lambda,alpha_n1_j,beta_n1_j)\n",
    "posterior_jeff_n2 <- dgamma(lambda,alpha_n2_j,beta_n2_j)\n",
    "\n",
    "results <- data.frame(lambda, posterior_jeff_n1,posterior_jeff_n2)"
   ]
  },
  {
   "cell_type": "code",
   "execution_count": 17,
   "metadata": {
    "ExecuteTime": {
     "end_time": "2021-05-26T10:14:01.245984Z",
     "start_time": "2021-05-26T10:14:01.201Z"
    }
   },
   "outputs": [],
   "source": [
    "n1_mean_j     <- gamma_mean(alpha_n1_j,beta_n1_j)\n",
    "n1_variance_j <- gamma_variance(alpha_n1_j,beta_n1_j)\n",
    "n1_median_j   <- posterior_median(lambda,posterior_jeff_n1)\n",
    "n1_interval_j <- credibility_interval(0.95,lambda,posterior_jeff_n1)\n",
    "\n",
    "n2_mean_j     <- gamma_mean(alpha_n2_j,beta_n2_j)\n",
    "n2_variance_j <- gamma_variance(alpha_n2_j,beta_n2_j)\n",
    "n2_median_j   <- posterior_median(lambda,posterior_jeff_n2)\n",
    "n2_interval_j <- credibility_interval(0.95,lambda,posterior_jeff_n2)"
   ]
  },
  {
   "cell_type": "code",
   "execution_count": 18,
   "metadata": {
    "ExecuteTime": {
     "end_time": "2021-05-26T10:14:10.453809Z",
     "start_time": "2021-05-26T10:14:09.832Z"
    }
   },
   "outputs": [
    {
     "name": "stdout",
     "output_type": "stream",
     "text": [
      "--------------------------------- \n",
      "Type of prior: Uniform \n",
      "Dataset:       n1 \n",
      "--------------------------------- \n",
      "Mean    20.417 \n",
      "Median  20.360 \n",
      "Variance  3.403 \n",
      "95% confidence interval  [ 16.961 , 24.179 ] \n",
      "[1] \"\"\n",
      "--------------------------------- \n",
      "Type of prior: Uniform \n",
      "Dataset:       n2 \n",
      "--------------------------------- \n",
      "Mean    32.750 \n",
      "Median  32.687 \n",
      "Variance  5.458 \n",
      "95% confidence interval  [ 28.328 , 37.476 ] \n"
     ]
    },
    {
     "name": "stderr",
     "output_type": "stream",
     "text": [
      "Warning message:\n",
      "“Removed 1000 row(s) containing missing values (geom_path).”Warning message:\n",
      "“Removed 1000 row(s) containing missing values (geom_path).”"
     ]
    },
    {
     "data": {
      "image/png": "[encoded data removed]",
      "text/plain": [
       "plot without title"
      ]
     },
     "metadata": {},
     "output_type": "display_data"
    }
   ],
   "source": [
    "#print results\n",
    "print_results(\"Uniform\",\"n1\",n1_mean_j,n1_median_j,n1_variance_j,n1_interval_j)\n",
    "print(\"\")\n",
    "print_results(\"Uniform\",\"n2\",n2_mean_j,n2_median_j,n2_variance_j,n2_interval_j)\n",
    "\n",
    "\n",
    "set_plot_dimensions(8, 3)\n",
    "colors <- c('n1' = \"#F8766D\", 'n2' = \"#7CAE00\")\n",
    "\n",
    "ggplot(results, aes(x = lambda)) +\n",
    "    geom_line (aes(y = posterior_jeff_n1, color = 'n1')) +\n",
    "    geom_vline(xintercept = n1_mean_j, color=\"#F8766D\", linetype=\"dotted\", size = 1.0)+\n",
    "    geom_vline(xintercept = n1_interval_j[1], color=\"#F8766D\", linetype=\"dotdash\", size = 0.5)+\n",
    "    geom_vline(xintercept = n1_interval_j[2], color=\"#F8766D\", linetype=\"dotdash\", size = 0.5)+\n",
    "\n",
    "    geom_line (aes(y = posterior_jeff_n2, color = 'n2')) +\n",
    "    geom_vline(xintercept = n2_mean_j, color=\"#7CAE00\", linetype=\"dotted\", size = 1.0)+\n",
    "    geom_vline(xintercept = n2_interval_j[1], color=\"#7CAE00\", linetype=\"dotdash\", size = 0.5)+\n",
    "    geom_vline(xintercept = n2_interval_j[2], color=\"#7CAE00\", linetype=\"dotdash\", size = 0.5)+\n",
    "    xlim(10,40)+\n",
    "    labs(title =\"Posterior densities for the lambda parameter\",\n",
    "         x = \"lambda\",\n",
    "         y = \"Density\",\n",
    "         color = \"\") +\n",
    "    scale_color_manual(values = colors)"
   ]
  },
  {
   "cell_type": "markdown",
   "metadata": {},
   "source": [
    "##  Exercise 3\n",
    "\n",
    "- A study on water quality of streams, a high level of bacter X was defined as a level greater than 100 per 100 ml of stream water. $n = 116$ samples were taken from streams having a high environmental impact on pandas. Out of these, $y = 11$ had a high bacter X level.\n",
    "\n",
    "- indicating with $p$ the probability that a sample of water taken from the stream has a high bacter X level,\n"
   ]
  },
  {
   "cell_type": "markdown",
   "metadata": {},
   "source": [
    "###  find the frequentist estimator for $p$\n"
   ]
  },
  {
   "cell_type": "code",
   "execution_count": null,
   "metadata": {},
   "outputs": [],
   "source": []
  },
  {
   "cell_type": "markdown",
   "metadata": {},
   "source": [
    "### using a $\\texttt{Beta}(1, 10)$ prior for $p$, calculate and posterior distribution $P (p|y)$\n"
   ]
  },
  {
   "cell_type": "code",
   "execution_count": null,
   "metadata": {},
   "outputs": [],
   "source": []
  },
  {
   "cell_type": "markdown",
   "metadata": {},
   "source": [
    "###  find the bayesian estimator for $p$, the posterior mean and variance, and a 95% credible interval\n"
   ]
  },
  {
   "cell_type": "code",
   "execution_count": null,
   "metadata": {},
   "outputs": [],
   "source": []
  },
  {
   "cell_type": "markdown",
   "metadata": {},
   "source": [
    "###  test the hypotesis $$H_o : p = 0.1 \\; \\text{versus} \\; H_1 : p \\neq0.1$$ at 5% level of significance with both the frequentist and bayesian approach"
   ]
  },
  {
   "cell_type": "code",
   "execution_count": null,
   "metadata": {},
   "outputs": [],
   "source": []
  },
  {
   "cell_type": "markdown",
   "metadata": {},
   "source": [
    "-  a new measurement, performed one month later on $n = 165$ water samples, gives $y = 9$ high bacter X level\n"
   ]
  },
  {
   "cell_type": "markdown",
   "metadata": {},
   "source": [
    "### find the frequentist estimator for p\n"
   ]
  },
  {
   "cell_type": "code",
   "execution_count": null,
   "metadata": {},
   "outputs": [],
   "source": []
  },
  {
   "cell_type": "markdown",
   "metadata": {},
   "source": [
    "###  find a bayesian estimator for $p$, assuming both a $Beta(1, 10)$ prior for $p$, and assuming the posterior probability of the older measurement as the prior for the new one.\n"
   ]
  },
  {
   "cell_type": "code",
   "execution_count": null,
   "metadata": {},
   "outputs": [],
   "source": []
  },
  {
   "cell_type": "markdown",
   "metadata": {},
   "source": [
    "### find the bayesian estimator for $p$, the posterior mean and variance, and a 95% credible interval\n",
    " "
   ]
  },
  {
   "cell_type": "code",
   "execution_count": null,
   "metadata": {},
   "outputs": [],
   "source": []
  },
  {
   "cell_type": "markdown",
   "metadata": {},
   "source": [
    "###  test the hypotesis $$H_o : p = 0.1 \\; \\text{versus} \\; H_1 : p \\neq0.1$$ at 5% level of significance with both the frequentist and bayesian approach\n",
    "\n"
   ]
  },
  {
   "cell_type": "code",
   "execution_count": null,
   "metadata": {},
   "outputs": [],
   "source": []
  }
 ],
 "metadata": {
  "kernelspec": {
   "display_name": "R [conda env:r-tutorial]",
   "language": "R",
   "name": "conda-env-r-tutorial-r"
  },
  "language_info": {
   "codemirror_mode": "r",
   "file_extension": ".r",
   "mimetype": "text/x-r-source",
   "name": "R",
   "pygments_lexer": "r",
   "version": "3.6.1"
  },
  "toc": {
   "base_numbering": 1,
   "nav_menu": {},
   "number_sections": true,
   "sideBar": true,
   "skip_h1_title": false,
   "title_cell": "Table of Contents",
   "title_sidebar": "Contents",
   "toc_cell": false,
   "toc_position": {},
   "toc_section_display": true,
   "toc_window_display": false
  }
 },
 "nbformat": 4,
 "nbformat_minor": 4
}
