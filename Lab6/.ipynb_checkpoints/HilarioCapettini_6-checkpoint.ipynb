{
 "cells": [
  {
   "cell_type": "markdown",
   "metadata": {},
   "source": [
    "# Laboratory session 06\n",
    "\n",
    " Capettini Hilario (Matricola N. 2013031)"
   ]
  },
  {
   "cell_type": "code",
   "execution_count": 40,
   "metadata": {
    "ExecuteTime": {
     "end_time": "2021-05-20T09:33:04.074115Z",
     "start_time": "2021-05-20T09:33:03.991Z"
    }
   },
   "outputs": [],
   "source": [
    "#Imports\n",
    "library(\"tibble\")\n",
    "library(\"tidyverse\")\n",
    "library(\"magrittr\")\n",
    "library(Bolstad2)       #integral\n",
    "\n",
    "library(showtext)\n",
    "showtext_auto()\n",
    "\n",
    "set_plot_dimensions <- function(width_choice, height_choice) {\n",
    "        options(repr.plot.width=width_choice, repr.plot.height=height_choice)\n",
    "        }"
   ]
  },
  {
   "cell_type": "markdown",
   "metadata": {},
   "source": [
    "##  Exercise 1\n"
   ]
  },
  {
   "cell_type": "markdown",
   "metadata": {},
   "source": [
    "-  The number of particles emitted by a radioactive source during a fixed interval of time $(\\Delta t = 10 s)$ follows a Poisson distribution on the parameter $\\mu$. The number of particles observed during consecutive time intervals is: $4, 1, 3, 1, 3$\n"
   ]
  },
  {
   "cell_type": "markdown",
   "metadata": {},
   "source": [
    "###  suppose a uniform prior distribution for the parameter $\\mu$\n",
    "\n",
    "- determine and draw the posterior distribution for μ, given the data\n",
    " \n",
    "\n",
    "- evaluate mean, median and variance, both analytically and numerically in R\n",
    "\n"
   ]
  },
  {
   "cell_type": "code",
   "execution_count": 71,
   "metadata": {
    "ExecuteTime": {
     "end_time": "2021-05-20T09:53:15.190799Z",
     "start_time": "2021-05-20T09:53:15.138Z"
    }
   },
   "outputs": [],
   "source": [
    "#We are in presence of a Poisson process and we want to use a uniform prior\n",
    "#this can be represented by a Gamma function with alpha = 1 lambda=0\n",
    "\n",
    "#measurements\n",
    "samples <- c(4,1,3,1,3)\n",
    "n <- length(samples)\n",
    "\n",
    "#Prior\n",
    "x <- seq(0,10,0.01)\n",
    "alpha_pri  <- 1 \n",
    "lambda_pri <- 0\n",
    "\n",
    "prior  <- dgamma(x=x, shape=alpha_pri, rate=lambda_pri)\n",
    "\n",
    "#Posterior\n",
    "#It can berepresented by a Gamma(alpha,lambda) function with alpha=sum(x_i)+1 and lambda = 5\n",
    "alpha_post  <- 1+sum(samples) \n",
    "lambda_post <- n\n",
    "\n",
    "posterior  <- dgamma(x=x, shape=alpha_post, rate=lambda_post)\n",
    "\n",
    "df1 <- data.frame(x, prior, posterior)"
   ]
  },
  {
   "cell_type": "code",
   "execution_count": 73,
   "metadata": {
    "ExecuteTime": {
     "end_time": "2021-05-20T09:53:26.788227Z",
     "start_time": "2021-05-20T09:53:25.571Z"
    }
   },
   "outputs": [
    {
     "data": {
      "image/png": "[encoded data removed]",
      "text/plain": [
       "plot without title"
      ]
     },
     "metadata": {},
     "output_type": "display_data"
    }
   ],
   "source": [
    "set_plot_dimensions(8, 3)\n",
    "colors <- c('Posterior' = \"#F8766D\")\n",
    "\n",
    "ggplot(df1, aes(x = x,y = posterior, color = 'Posterior')) +\n",
    "    geom_area(fill='#F8766D')  +\n",
    "    labs(title =\"Bayesian inference for poisson process with uniform prior\",\n",
    "         x = \"x\",\n",
    "         y = \"Probability\",\n",
    "         color = \"\") +\n",
    "    scale_color_manual(values = colors)"
   ]
  },
  {
   "cell_type": "markdown",
   "metadata": {},
   "source": [
    "The mean of a Gamma($\\alpha,\\lambda$) function is given by\n",
    "$$E = \\frac{\\alpha}{\\lambda}$$\n",
    "\n",
    "While the variance is given by\n",
    "$$ Var =\\frac{\\alpha}{\\lambda ^2}$$"
   ]
  },
  {
   "cell_type": "code",
   "execution_count": 74,
   "metadata": {
    "ExecuteTime": {
     "end_time": "2021-05-20T09:53:30.059730Z",
     "start_time": "2021-05-20T09:53:30.035Z"
    }
   },
   "outputs": [],
   "source": [
    "mean <- sintegral(x,x*posterior)$int\n",
    "variance <- sintegral(x,x*x*posterior)$int - mean**2"
   ]
  },
  {
   "cell_type": "code",
   "execution_count": 75,
   "metadata": {
    "ExecuteTime": {
     "end_time": "2021-05-20T09:53:30.454384Z",
     "start_time": "2021-05-20T09:53:30.412Z"
    }
   },
   "outputs": [
    {
     "name": "stdout",
     "output_type": "stream",
     "text": [
      "[1] \"The analitically obtained mean value for the posterior is =   2.600000\"\n",
      "[1] \"The numerically obtained mean value for the posterior is =   2.599998\"\n"
     ]
    }
   ],
   "source": [
    "print(paste(\"The analitically obtained mean value for the posterior is =  \", sprintf(\"%.6f\",alpha_post/lambda_post)))\n",
    "print(paste(\"The numerically obtained mean value for the posterior is =  \", sprintf(\"%.6f\",mean)))"
   ]
  },
  {
   "cell_type": "code",
   "execution_count": 76,
   "metadata": {
    "ExecuteTime": {
     "end_time": "2021-05-20T09:53:31.056851Z",
     "start_time": "2021-05-20T09:53:31.026Z"
    }
   },
   "outputs": [
    {
     "name": "stdout",
     "output_type": "stream",
     "text": [
      "[1] \"The analitically obtained variance value for the posterior is =   0.52000\"\n",
      "[1] \"The numerically obtained variance value for the posterior is =   0.52001\"\n"
     ]
    }
   ],
   "source": [
    "print(paste(\"The analitically obtained variance value for the posterior is =  \", sprintf(\"%.5f\",alpha_post/lambda_post**2)))\n",
    "print(paste(\"The numerically obtained variance value for the posterior is =  \", sprintf(\"%.5f\",variance)))"
   ]
  },
  {
   "cell_type": "code",
   "execution_count": 85,
   "metadata": {
    "ExecuteTime": {
     "end_time": "2021-05-20T10:00:54.565244Z",
     "start_time": "2021-05-20T10:00:54.530Z"
    }
   },
   "outputs": [
    {
     "name": "stdout",
     "output_type": "stream",
     "text": [
      "[1] \"The numerically obtained median value for the posterior is =   2.54\"\n"
     ]
    }
   ],
   "source": [
    "for (i in x){if (pgamma(i, shape=alpha_post, rate=lambda_post) >= 0.5){break}}\n",
    "median <- i\n",
    "\n",
    "print(paste(\"The numerically obtained median value for the posterior is =  \", sprintf(\"%.2f\",median)))"
   ]
  },
  {
   "cell_type": "markdown",
   "metadata": {},
   "source": [
    "###  suppose a Jeffrey’s prior for the parameter $\\mu$\n",
    "\n",
    "- determine and draw the posterior distribution for $\\mu$, given the data\n",
    " \n",
    "\n",
    "- evaluate mean, median and variance, both analytically and numerically in R\n"
   ]
  },
  {
   "cell_type": "code",
   "execution_count": 86,
   "metadata": {
    "ExecuteTime": {
     "end_time": "2021-05-20T10:01:01.667581Z",
     "start_time": "2021-05-20T10:01:01.630Z"
    }
   },
   "outputs": [],
   "source": [
    "#Prior\n",
    "alpha_pri  <- 0.5\n",
    "lambda_pri <- 0\n",
    "\n",
    "prior  <- dgamma(x=x, shape=alpha_pri, rate=lambda_pri)\n",
    "\n",
    "#Posterior\n",
    "#It can berepresented by a Gamma(alpha,lambda) function with alpha=sum(x_i)+0.5 and lambda = 5\n",
    "alpha_post  <- alpha_pri + sum(samples) \n",
    "lambda_post <- lambda_pri + n\n",
    "\n",
    "posterior  <- dgamma(x=x, shape=alpha_post, rate=lambda_post)\n",
    "\n",
    "dfjef <- data.frame(x, prior, posterior)"
   ]
  },
  {
   "cell_type": "code",
   "execution_count": 87,
   "metadata": {
    "ExecuteTime": {
     "end_time": "2021-05-20T10:01:03.453336Z",
     "start_time": "2021-05-20T10:01:02.073Z"
    }
   },
   "outputs": [
    {
     "data": {
      "image/png": "[encoded data removed]",
      "text/plain": [
       "plot without title"
      ]
     },
     "metadata": {},
     "output_type": "display_data"
    }
   ],
   "source": [
    "set_plot_dimensions(8, 3)\n",
    "colors <- c('Posterior' = \"#7CAE00\")\n",
    "\n",
    "ggplot(df1, aes(x = x,y = posterior, color = 'Posterior')) +\n",
    "    geom_area(fill='#7CAE00')  +\n",
    "    labs(title =\"Bayesian inference for poisson process with Jeffrey’s prior\",\n",
    "         x = \"x\",\n",
    "         y = \"Probability\",\n",
    "         color = \"\") +\n",
    "    scale_color_manual(values = colors)"
   ]
  },
  {
   "cell_type": "code",
   "execution_count": 88,
   "metadata": {
    "ExecuteTime": {
     "end_time": "2021-05-20T10:01:09.494423Z",
     "start_time": "2021-05-20T10:01:09.469Z"
    }
   },
   "outputs": [],
   "source": [
    "mean <- sintegral(x,x*posterior)$int\n",
    "variance <- sintegral(x,x*x*posterior)$int - mean**2"
   ]
  },
  {
   "cell_type": "code",
   "execution_count": 89,
   "metadata": {
    "ExecuteTime": {
     "end_time": "2021-05-20T10:01:10.090705Z",
     "start_time": "2021-05-20T10:01:10.051Z"
    }
   },
   "outputs": [
    {
     "name": "stdout",
     "output_type": "stream",
     "text": [
      "[1] \"The analitically obtained mean value for the posterior is =   2.500000\"\n",
      "[1] \"The numerically obtained mean value for the posterior is =   2.499998\"\n"
     ]
    }
   ],
   "source": [
    "print(paste(\"The analitically obtained mean value for the posterior is =  \", sprintf(\"%.6f\",alpha_post/lambda_post)))\n",
    "print(paste(\"The numerically obtained mean value for the posterior is =  \", sprintf(\"%.6f\",mean)))"
   ]
  },
  {
   "cell_type": "code",
   "execution_count": 90,
   "metadata": {
    "ExecuteTime": {
     "end_time": "2021-05-20T10:01:10.638578Z",
     "start_time": "2021-05-20T10:01:10.602Z"
    }
   },
   "outputs": [
    {
     "name": "stdout",
     "output_type": "stream",
     "text": [
      "[1] \"The analitically obtained variance value for the posterior is =   0.50000\"\n",
      "[1] \"The numerically obtained variance value for the posterior is =   0.50001\"\n"
     ]
    }
   ],
   "source": [
    "print(paste(\"The analitically obtained variance value for the posterior is =  \", sprintf(\"%.5f\",alpha_post/lambda_post**2)))\n",
    "print(paste(\"The numerically obtained variance value for the posterior is =  \", sprintf(\"%.5f\",variance)))"
   ]
  },
  {
   "cell_type": "code",
   "execution_count": 91,
   "metadata": {
    "ExecuteTime": {
     "end_time": "2021-05-20T10:01:15.317703Z",
     "start_time": "2021-05-20T10:01:15.277Z"
    }
   },
   "outputs": [
    {
     "name": "stdout",
     "output_type": "stream",
     "text": [
      "[1] \"The numerically obtained median value for the posterior is =   2.44\"\n"
     ]
    }
   ],
   "source": [
    "for (i in x){if (pgamma(i, shape=alpha_post, rate=lambda_post) >= 0.5){break}}\n",
    "median <- i\n",
    "\n",
    "print(paste(\"The numerically obtained median value for the posterior is =  \", sprintf(\"%.2f\",median)))"
   ]
  },
  {
   "cell_type": "markdown",
   "metadata": {},
   "source": [
    "###  evaluate a $95$% credibility interval for the results obtained with both priors. Compare the result with that obtained using a normal approximation for the posterior distribution, with the same mean and standard deviation\n"
   ]
  },
  {
   "cell_type": "code",
   "execution_count": null,
   "metadata": {},
   "outputs": [],
   "source": []
  },
  {
   "cell_type": "code",
   "execution_count": null,
   "metadata": {},
   "outputs": [],
   "source": []
  },
  {
   "cell_type": "code",
   "execution_count": null,
   "metadata": {},
   "outputs": [],
   "source": []
  },
  {
   "cell_type": "markdown",
   "metadata": {},
   "source": []
  },
  {
   "cell_type": "markdown",
   "metadata": {},
   "source": [
    "## Exercise 2\n"
   ]
  },
  {
   "cell_type": "markdown",
   "metadata": {},
   "source": [
    "- given 30 the problem of the lightouse discussed Parameter last estimation week, study I the case in which both the position along the shore ($\\alpha$) and the distance out at sea ($\\beta$) are unknown\n",
    "\n",
    "<img src=\"images\\lighthouse.png\">"
   ]
  },
  {
   "cell_type": "markdown",
   "metadata": {},
   "source": []
  },
  {
   "cell_type": "markdown",
   "metadata": {},
   "source": [
    "## Exercise 3\n"
   ]
  },
  {
   "cell_type": "markdown",
   "metadata": {},
   "source": [
    "- given the signal over the background example discussed last week, analyze and discuss the following cases:"
   ]
  },
  {
   "cell_type": "code",
   "execution_count": null,
   "metadata": {},
   "outputs": [],
   "source": []
  },
  {
   "cell_type": "markdown",
   "metadata": {},
   "source": [
    "### vary the sampling resolution of used to generate the data, keeping the same sampling range\n",
    "\n",
    "$\\texttt{xdat <- seq(from=-7*w,to=7*w, by=0.5*w)}$"
   ]
  },
  {
   "cell_type": "markdown",
   "metadata": {},
   "source": [
    "- change the resolution $w={0.1,0.25,1,2,3}$\n",
    "\n",
    "- Check the effect on the results"
   ]
  },
  {
   "cell_type": "code",
   "execution_count": null,
   "metadata": {},
   "outputs": [],
   "source": []
  },
  {
   "cell_type": "markdown",
   "metadata": {},
   "source": [
    "### change the ratio A/B used to simulate the data (keeping both positive in accordance with the prior)\n",
    "\n",
    "- Check the effect on the results"
   ]
  },
  {
   "cell_type": "code",
   "execution_count": null,
   "metadata": {},
   "outputs": [],
   "source": []
  }
 ],
 "metadata": {
  "kernelspec": {
   "display_name": "R [conda env:r-tutorial]",
   "language": "R",
   "name": "conda-env-r-tutorial-r"
  },
  "language_info": {
   "codemirror_mode": "r",
   "file_extension": ".r",
   "mimetype": "text/x-r-source",
   "name": "R",
   "pygments_lexer": "r",
   "version": "3.6.1"
  },
  "toc": {
   "base_numbering": 1,
   "nav_menu": {},
   "number_sections": true,
   "sideBar": true,
   "skip_h1_title": false,
   "title_cell": "Table of Contents",
   "title_sidebar": "Contents",
   "toc_cell": false,
   "toc_position": {},
   "toc_section_display": true,
   "toc_window_display": false
  }
 },
 "nbformat": 4,
 "nbformat_minor": 4
}
