{
 "cells": [
  {
   "cell_type": "markdown",
   "metadata": {},
   "source": [
    "Imports"
   ]
  },
  {
   "cell_type": "code",
   "execution_count": 1,
   "metadata": {
    "ExecuteTime": {
     "end_time": "2021-07-05T07:02:31.405142Z",
     "start_time": "2021-07-05T07:02:28.654Z"
    }
   },
   "outputs": [
    {
     "name": "stderr",
     "output_type": "stream",
     "text": [
      "Loading required package: sysfonts\n",
      "Loading required package: showtextdb\n"
     ]
    }
   ],
   "source": [
    "library(showtext)\n",
    "showtext_auto()\n",
    "library(Bolstad2)"
   ]
  },
  {
   "cell_type": "code",
   "execution_count": 49,
   "metadata": {
    "ExecuteTime": {
     "end_time": "2021-07-05T07:35:36.619515Z",
     "start_time": "2021-07-05T07:35:36.597Z"
    }
   },
   "outputs": [],
   "source": [
    "#Measurements\n",
    "a <- (c(514,536,345,440,427,443,386,418,364,483,506,385,410,561,275,306,294,402,350,343,480,334,324,414,296))"
   ]
  },
  {
   "cell_type": "code",
   "execution_count": 53,
   "metadata": {
    "ExecuteTime": {
     "end_time": "2021-07-05T07:36:47.912774Z",
     "start_time": "2021-07-05T07:36:47.852Z"
    },
    "scrolled": false
   },
   "outputs": [],
   "source": [
    "options(repr.plot.width=4,repr.plot.height=4)\n",
    "\n",
    "#Prior data\n",
    "mean_prior <-325\n",
    "std_prior <-80\n",
    "#Posterior fixed parameter\n",
    "std_lk <-80\n",
    "\n",
    "#Range of possible means\n",
    "x <- seq(0,800,0.25)\n",
    "\n",
    "# Initial Prior, likelihood and posterior\n",
    "prior <- dnorm(x, mean_prior, std_prior)\n",
    "likelihood <- dnorm(a[1],x,std_lk)\n",
    "posterior <- prior*likelihood\n",
    "\n",
    "#Start sequential analysis \n",
    "for (i in a[2:length(a)]){\n",
    "    posterior <- posterior * dnorm(i,x,std_lk)\n",
    "}\n",
    "\n",
    "#Normalization\n",
    "posterior <- posterior/sintegral(x,posterior)$int"
   ]
  },
  {
   "cell_type": "code",
   "execution_count": 54,
   "metadata": {
    "ExecuteTime": {
     "end_time": "2021-07-05T07:36:51.450643Z",
     "start_time": "2021-07-05T07:36:51.421Z"
    }
   },
   "outputs": [
    {
     "data": {
      "text/html": [
       "398.5"
      ],
      "text/latex": [
       "398.5"
      ],
      "text/markdown": [
       "398.5"
      ],
      "text/plain": [
       "[1] 398.5"
      ]
     },
     "metadata": {},
     "output_type": "display_data"
    }
   ],
   "source": [
    "mean.post <- x[which(posterior==max(posterior))]\n",
    "mean.post"
   ]
  },
  {
   "cell_type": "code",
   "execution_count": 55,
   "metadata": {
    "ExecuteTime": {
     "end_time": "2021-07-05T07:36:51.898170Z",
     "start_time": "2021-07-05T07:36:51.852Z"
    }
   },
   "outputs": [],
   "source": [
    "posterior_cdf <- sintegral(x,posterior)\n",
    "\n",
    "p.min <- posterior_cdf$x[length(posterior_cdf$y[posterior_cdf$y<0.025])]\n",
    "p.max <- posterior_cdf$x[length(posterior_cdf$y[posterior_cdf$y<0.975])]"
   ]
  },
  {
   "cell_type": "code",
   "execution_count": 56,
   "metadata": {
    "ExecuteTime": {
     "end_time": "2021-07-05T07:36:52.381758Z",
     "start_time": "2021-07-05T07:36:52.345Z"
    }
   },
   "outputs": [
    {
     "name": "stdout",
     "output_type": "stream",
     "text": [
      "[1] \"Interval of 95 % [ 367.510153077163 428.990940331147 ] with a mean value of 398.5\"\n"
     ]
    }
   ],
   "source": [
    "print(paste(\"Interval of 95 %\",\"[\",p.min,p.max,\"]\",\"with a mean value of\",mean.post))"
   ]
  },
  {
   "cell_type": "code",
   "execution_count": 57,
   "metadata": {
    "ExecuteTime": {
     "end_time": "2021-07-05T07:36:53.024531Z",
     "start_time": "2021-07-05T07:36:52.917Z"
    }
   },
   "outputs": [
    {
     "data": {
      "image/png": "[encoded data removed]",
      "text/plain": [
       "plot without title"
      ]
     },
     "metadata": {},
     "output_type": "display_data"
    }
   ],
   "source": [
    "plot(x,posterior,type=\"l\",col=\"black\",xlim=c(350,450))\n",
    "\n",
    "text(x=400,y=0.015,labels=\"mean\",col=\"red\")\n",
    "abline(v=mean.post,col=\"red\")\n",
    "text(x=360,y=0.015,labels=\"95%\",col=\"blue\")\n",
    "abline(v=p.min,col=\"blue\")\n",
    "text(x=440,y=0.015,labels=\"95%\",col=\"blue\")\n",
    "abline(v=p.max,col=\"blue\")\n"
   ]
  },
  {
   "cell_type": "code",
   "execution_count": 48,
   "metadata": {
    "ExecuteTime": {
     "end_time": "2021-07-05T07:23:59.612124Z",
     "start_time": "2021-07-05T07:23:59.574Z"
    }
   },
   "outputs": [
    {
     "data": {
      "text/html": [
       "0.0973496804728886"
      ],
      "text/latex": [
       "0.0973496804728886"
      ],
      "text/markdown": [
       "0.0973496804728886"
      ],
      "text/plain": [
       "[1] 0.09734968"
      ]
     },
     "metadata": {},
     "output_type": "display_data"
    }
   ],
   "source": [
    "int <- posterior_cdf$y[max(which(posterior_cdf$x<350))]\n",
    "int*100"
   ]
  },
  {
   "cell_type": "markdown",
   "metadata": {},
   "source": [
    "As 0.1 % is smaller than 5% we reject the null hypothesis. In favor of the H1 hypothesis."
   ]
  },
  {
   "cell_type": "code",
   "execution_count": null,
   "metadata": {},
   "outputs": [],
   "source": []
  }
 ],
 "metadata": {
  "kernelspec": {
   "display_name": "R [conda env:r-tutorial]",
   "language": "R",
   "name": "conda-env-r-tutorial-r"
  },
  "language_info": {
   "codemirror_mode": "r",
   "file_extension": ".r",
   "mimetype": "text/x-r-source",
   "name": "R",
   "pygments_lexer": "r",
   "version": "3.6.1"
  },
  "toc": {
   "base_numbering": 1,
   "nav_menu": {},
   "number_sections": true,
   "sideBar": true,
   "skip_h1_title": false,
   "title_cell": "Table of Contents",
   "title_sidebar": "Contents",
   "toc_cell": false,
   "toc_position": {},
   "toc_section_display": true,
   "toc_window_display": false
  }
 },
 "nbformat": 4,
 "nbformat_minor": 4
}
