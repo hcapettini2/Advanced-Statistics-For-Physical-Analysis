{
 "cells": [
  {
   "cell_type": "markdown",
   "metadata": {},
   "source": [
    "## R data types: Data Frames"
   ]
  },
  {
   "cell_type": "markdown",
   "metadata": {},
   "source": [
    "### R Data frames"
   ]
  },
  {
   "cell_type": "markdown",
   "metadata": {},
   "source": [
    "- Two important S3 vectors built on top of lists are <span style=\"color:blue\">data frames</span> and <span style=\"color:blue\">tibbles</span>\n",
    "- A data frame is like a matrix, with a 2-dim rows-and-columns structure\n",
    "- It is <span style=\"color:blue\">a named list of vectors</span>, with attributes for columns and rows names, (<span style=\"color:blue\">names, row.names</span>), belonging to the <span style=\"color:blue\">data.frames class</span>\n",
    "\n",
    "    - <span style=\"color:blue\">technically, a data frame is a list with all equal length vectors</span>"
   ]
  },
  {
   "cell_type": "markdown",
   "metadata": {},
   "source": [
    "IMAGEN"
   ]
  },
  {
   "cell_type": "code",
   "execution_count": 1,
   "metadata": {},
   "outputs": [
    {
     "data": {
      "text/html": [
       "'list'"
      ],
      "text/latex": [
       "'list'"
      ],
      "text/markdown": [
       "'list'"
      ],
      "text/plain": [
       "[1] \"list\""
      ]
     },
     "metadata": {},
     "output_type": "display_data"
    }
   ],
   "source": [
    "df1 <- data.frame(x = 1:3, y = letters[1:3])\n",
    "typeof(df1)"
   ]
  },
  {
   "cell_type": "code",
   "execution_count": 2,
   "metadata": {},
   "outputs": [
    {
     "data": {
      "text/html": [
       "<dl>\n",
       "\t<dt>$names</dt>\n",
       "\t\t<dd><ol class=list-inline>\n",
       "\t<li>'x'</li>\n",
       "\t<li>'y'</li>\n",
       "</ol>\n",
       "</dd>\n",
       "\t<dt>$class</dt>\n",
       "\t\t<dd>'data.frame'</dd>\n",
       "\t<dt>$row.names</dt>\n",
       "\t\t<dd><ol class=list-inline>\n",
       "\t<li>1</li>\n",
       "\t<li>2</li>\n",
       "\t<li>3</li>\n",
       "</ol>\n",
       "</dd>\n",
       "</dl>\n"
      ],
      "text/latex": [
       "\\begin{description}\n",
       "\\item[\\$names] \\begin{enumerate*}\n",
       "\\item 'x'\n",
       "\\item 'y'\n",
       "\\end{enumerate*}\n",
       "\n",
       "\\item[\\$class] 'data.frame'\n",
       "\\item[\\$row.names] \\begin{enumerate*}\n",
       "\\item 1\n",
       "\\item 2\n",
       "\\item 3\n",
       "\\end{enumerate*}\n",
       "\n",
       "\\end{description}\n"
      ],
      "text/markdown": [
       "$names\n",
       ":   1. 'x'\n",
       "2. 'y'\n",
       "\n",
       "\n",
       "\n",
       "$class\n",
       ":   'data.frame'\n",
       "$row.names\n",
       ":   1. 1\n",
       "2. 2\n",
       "3. 3\n",
       "\n",
       "\n",
       "\n",
       "\n",
       "\n"
      ],
      "text/plain": [
       "$names\n",
       "[1] \"x\" \"y\"\n",
       "\n",
       "$class\n",
       "[1] \"data.frame\"\n",
       "\n",
       "$row.names\n",
       "[1] 1 2 3\n"
      ]
     },
     "metadata": {},
     "output_type": "display_data"
    }
   ],
   "source": [
    "attributes(df1)"
   ]
  },
  {
   "cell_type": "code",
   "execution_count": 3,
   "metadata": {},
   "outputs": [
    {
     "name": "stdout",
     "output_type": "stream",
     "text": [
      "'data.frame':\t3 obs. of  2 variables:\n",
      " $ x: int  1 2 3\n",
      " $ y: Factor w/ 3 levels \"a\",\"b\",\"c\": 1 2 3\n"
     ]
    }
   ],
   "source": [
    "str(df1)"
   ]
  },
  {
   "cell_type": "markdown",
   "metadata": {},
   "source": [
    "#### examples"
   ]
  },
  {
   "cell_type": "markdown",
   "metadata": {},
   "source": [
    "- we have a table with the results of two exams for the student of an hypothetical course, and we want to <span style=\"color:blue\">import them</span> in a <span style=\"color:blue\">data.frame</span>"
   ]
  },
  {
   "cell_type": "code",
   "execution_count": 6,
   "metadata": {},
   "outputs": [
    {
     "data": {
      "text/html": [
       "<table>\n",
       "<thead><tr><th scope=col>exam1</th><th scope=col>exam2</th><th scope=col>gender</th></tr></thead>\n",
       "<tbody>\n",
       "\t<tr><td>27</td><td>25</td><td>M </td></tr>\n",
       "\t<tr><td>28</td><td>30</td><td>F </td></tr>\n",
       "</tbody>\n",
       "</table>\n"
      ],
      "text/latex": [
       "\\begin{tabular}{r|lll}\n",
       " exam1 & exam2 & gender\\\\\n",
       "\\hline\n",
       "\t 27 & 25 & M \\\\\n",
       "\t 28 & 30 & F \\\\\n",
       "\\end{tabular}\n"
      ],
      "text/markdown": [
       "\n",
       "| exam1 | exam2 | gender |\n",
       "|---|---|---|\n",
       "| 27 | 25 | M  |\n",
       "| 28 | 30 | F  |\n",
       "\n"
      ],
      "text/plain": [
       "  exam1 exam2 gender\n",
       "1 27    25    M     \n",
       "2 28    30    F     "
      ]
     },
     "metadata": {},
     "output_type": "display_data"
    }
   ],
   "source": [
    "exam1 <- c(27,28,24,24,30,26,23,23,24,28,27,25)\n",
    "exam2 <- c(25,30,26,24,30,30,25,25,30,28,27,28)\n",
    "gender <-c(\"M\",\"F\",\"M\",\"M\",\"M\",\"M\",\"M\",\"M\",\"F\",\"F\",\"M\",\"F\")\n",
    "\n",
    "dc <- data.frame(exam1, exam2, gender)\n",
    "#extract the first two lines of the data frame\n",
    "head(dc,n=2)"
   ]
  },
  {
   "cell_type": "code",
   "execution_count": 7,
   "metadata": {},
   "outputs": [
    {
     "name": "stdout",
     "output_type": "stream",
     "text": [
      "'data.frame':\t12 obs. of  3 variables:\n",
      " $ exam1 : num  27 28 24 24 30 26 23 23 24 28 ...\n",
      " $ exam2 : num  25 30 26 24 30 30 25 25 30 28 ...\n",
      " $ gender: chr  \"M\" \"F\" \"M\" \"M\" ...\n"
     ]
    }
   ],
   "source": [
    "dc1 <- data.frame(exam1, exam2, gender,\n",
    "                 stringsAsFactors = FALSE)\n",
    "str(dc1)"
   ]
  },
  {
   "cell_type": "markdown",
   "metadata": {},
   "source": [
    "#### Objects creation"
   ]
  },
  {
   "cell_type": "markdown",
   "metadata": {},
   "source": [
    "- Data frames are list of vectors, therefore <span style=\"color:blue\">copy-on-modify  has important consequences</span>\n",
    "\n",
    "IMAGE"
   ]
  },
  {
   "cell_type": "code",
   "execution_count": 8,
   "metadata": {},
   "outputs": [
    {
     "data": {
      "text/html": [
       "<table>\n",
       "<thead><tr><th scope=col>x</th><th scope=col>y</th></tr></thead>\n",
       "<tbody>\n",
       "\t<tr><td>1</td><td>5</td></tr>\n",
       "\t<tr><td>2</td><td>7</td></tr>\n",
       "\t<tr><td>3</td><td>9</td></tr>\n",
       "</tbody>\n",
       "</table>\n"
      ],
      "text/latex": [
       "\\begin{tabular}{r|ll}\n",
       " x & y\\\\\n",
       "\\hline\n",
       "\t 1 & 5\\\\\n",
       "\t 2 & 7\\\\\n",
       "\t 3 & 9\\\\\n",
       "\\end{tabular}\n"
      ],
      "text/markdown": [
       "\n",
       "| x | y |\n",
       "|---|---|\n",
       "| 1 | 5 |\n",
       "| 2 | 7 |\n",
       "| 3 | 9 |\n",
       "\n"
      ],
      "text/plain": [
       "  x y\n",
       "1 1 5\n",
       "2 2 7\n",
       "3 3 9"
      ]
     },
     "metadata": {},
     "output_type": "display_data"
    }
   ],
   "source": [
    "d1 <- data.frame(x = c(1,2,3),\n",
    "                 y = c(5,7,9))\n",
    "d1"
   ]
  },
  {
   "cell_type": "markdown",
   "metadata": {},
   "source": [
    "- if we <span style=\"color:blue\">modify a column</span> then <span style=\"color:blue\">only the reference to the new column will be updated</span>\n",
    "\n",
    "IMAGE"
   ]
  },
  {
   "cell_type": "code",
   "execution_count": 9,
   "metadata": {},
   "outputs": [
    {
     "data": {
      "text/html": [
       "<table>\n",
       "<thead><tr><th scope=col>x</th><th scope=col>y</th></tr></thead>\n",
       "<tbody>\n",
       "\t<tr><td>1 </td><td>10</td></tr>\n",
       "\t<tr><td>2 </td><td>14</td></tr>\n",
       "\t<tr><td>3 </td><td>18</td></tr>\n",
       "</tbody>\n",
       "</table>\n"
      ],
      "text/latex": [
       "\\begin{tabular}{r|ll}\n",
       " x & y\\\\\n",
       "\\hline\n",
       "\t 1  & 10\\\\\n",
       "\t 2  & 14\\\\\n",
       "\t 3  & 18\\\\\n",
       "\\end{tabular}\n"
      ],
      "text/markdown": [
       "\n",
       "| x | y |\n",
       "|---|---|\n",
       "| 1  | 10 |\n",
       "| 2  | 14 |\n",
       "| 3  | 18 |\n",
       "\n"
      ],
      "text/plain": [
       "  x y \n",
       "1 1 10\n",
       "2 2 14\n",
       "3 3 18"
      ]
     },
     "metadata": {},
     "output_type": "display_data"
    }
   ],
   "source": [
    "d2 <- d1\n",
    "d2[, 2] <- d2[,2] * 2\n",
    "d2"
   ]
  },
  {
   "cell_type": "markdown",
   "metadata": {},
   "source": [
    "- but <span style=\"color:blue\">if any row is modified</span> then <span style=\"color:blue\">every column is modified</span> because every column must be copied\n",
    "\n",
    "IMAGE"
   ]
  },
  {
   "cell_type": "code",
   "execution_count": 11,
   "metadata": {},
   "outputs": [
    {
     "data": {
      "text/html": [
       "<table>\n",
       "<thead><tr><th scope=col>x</th><th scope=col>y</th></tr></thead>\n",
       "<tbody>\n",
       "\t<tr><td>3 </td><td>15</td></tr>\n",
       "\t<tr><td>2 </td><td> 7</td></tr>\n",
       "\t<tr><td>3 </td><td> 9</td></tr>\n",
       "</tbody>\n",
       "</table>\n"
      ],
      "text/latex": [
       "\\begin{tabular}{r|ll}\n",
       " x & y\\\\\n",
       "\\hline\n",
       "\t 3  & 15\\\\\n",
       "\t 2  &  7\\\\\n",
       "\t 3  &  9\\\\\n",
       "\\end{tabular}\n"
      ],
      "text/markdown": [
       "\n",
       "| x | y |\n",
       "|---|---|\n",
       "| 3  | 15 |\n",
       "| 2  |  7 |\n",
       "| 3  |  9 |\n",
       "\n"
      ],
      "text/plain": [
       "  x y \n",
       "1 3 15\n",
       "2 2  7\n",
       "3 3  9"
      ]
     },
     "metadata": {},
     "output_type": "display_data"
    }
   ],
   "source": [
    "d3 <- d1\n",
    "d3[1,] <- d3[1,] * 3\n",
    "d3"
   ]
  },
  {
   "cell_type": "markdown",
   "metadata": {},
   "source": [
    "#### Modify-in-place"
   ]
  },
  {
   "cell_type": "markdown",
   "metadata": {},
   "source": [
    "- Modifying an R object usually <span style=\"color:blue\">creates a copy</span>\n",
    "- but there are <span style=\"color:blue\">2 exceptions</span>:\n",
    "    -<span style=\"color:blue\">objects with single binding</span> get a special performance optimization\n",
    "    -<span style=\"color:blue\">environments</span>, a special type of object, <span style=\"color:blue\">are always modified in place</span>"
   ]
  },
  {
   "cell_type": "code",
   "execution_count": 15,
   "metadata": {
    "scrolled": false
   },
   "outputs": [
    {
     "name": "stderr",
     "output_type": "stream",
     "text": [
      "Updating HTML index of packages in '.Library'\n",
      "Making 'packages.html' ... done\n"
     ]
    },
    {
     "data": {
      "text/html": [
       "'0x5585b5bcb678'"
      ],
      "text/latex": [
       "'0x5585b5bcb678'"
      ],
      "text/markdown": [
       "'0x5585b5bcb678'"
      ],
      "text/plain": [
       "[1] \"0x5585b5bcb678\""
      ]
     },
     "metadata": {},
     "output_type": "display_data"
    }
   ],
   "source": [
    "v <- c(1,3,2)\n",
    "#install.packages(\"lobstr\")\n",
    "library(lobstr) \n",
    "\n",
    "lobstr::obj_addr(v)"
   ]
  },
  {
   "cell_type": "markdown",
   "metadata": {},
   "source": [
    "IMAGE\n"
   ]
  },
  {
   "cell_type": "code",
   "execution_count": 16,
   "metadata": {},
   "outputs": [
    {
     "data": {
      "text/html": [
       "'0x5585b7c32338'"
      ],
      "text/latex": [
       "'0x5585b7c32338'"
      ],
      "text/markdown": [
       "'0x5585b7c32338'"
      ],
      "text/plain": [
       "[1] \"0x5585b7c32338\""
      ]
     },
     "metadata": {},
     "output_type": "display_data"
    }
   ],
   "source": [
    "v[[3]] <- -2\n",
    "lobstr::obj_addr(v)"
   ]
  },
  {
   "cell_type": "markdown",
   "metadata": {},
   "source": [
    "IMAGE"
   ]
  },
  {
   "cell_type": "markdown",
   "metadata": {},
   "source": [
    "- but <span style=\"color:blue\">it is very difficult to predict</span> when R applies this <span style=\"color:blue\">optimization</span>\n",
    "- concerning object binding, <span style=\"color:blue\">R only counts 0,1 on MANY</span>\n",
    "- it means that if an object has 2 bindings (i.e. many), and one gets deleted, the reference does not go back to 1 (many-1 = many)\n",
    "- when a function is called, it makes a reference to the object --> it is very difficult to predict weather or not a copy will occur\n",
    "-cfr: <span style=\"color:blue\">https://developer.r-project.org/Refcnt.html\n",
    "</span>"
   ]
  },
  {
   "cell_type": "markdown",
   "metadata": {},
   "source": [
    "### Accesing data frame elements"
   ]
  },
  {
   "cell_type": "markdown",
   "metadata": {},
   "source": [
    "- a data frame is a list, therefore we can access them via <span style=\"color:blue\">component index</span> value [[ j ]] or via <span style=\"color:blue\">component names</span>"
   ]
  },
  {
   "cell_type": "code",
   "execution_count": 18,
   "metadata": {},
   "outputs": [
    {
     "name": "stdout",
     "output_type": "stream",
     "text": [
      "'data.frame':\t12 obs. of  3 variables:\n",
      " $ exam1 : num  27 28 24 24 30 26 23 23 24 28 ...\n",
      " $ exam2 : num  25 30 26 24 30 30 25 25 30 28 ...\n",
      " $ gender: Factor w/ 2 levels \"F\",\"M\": 2 1 2 2 2 2 2 2 1 1 ...\n"
     ]
    }
   ],
   "source": [
    "str(dc)"
   ]
  },
  {
   "cell_type": "code",
   "execution_count": 19,
   "metadata": {},
   "outputs": [
    {
     "data": {
      "text/html": [
       "<ol class=list-inline>\n",
       "\t<li>27</li>\n",
       "\t<li>28</li>\n",
       "\t<li>24</li>\n",
       "\t<li>24</li>\n",
       "\t<li>30</li>\n",
       "\t<li>26</li>\n",
       "\t<li>23</li>\n",
       "\t<li>23</li>\n",
       "\t<li>24</li>\n",
       "\t<li>28</li>\n",
       "\t<li>27</li>\n",
       "\t<li>25</li>\n",
       "</ol>\n"
      ],
      "text/latex": [
       "\\begin{enumerate*}\n",
       "\\item 27\n",
       "\\item 28\n",
       "\\item 24\n",
       "\\item 24\n",
       "\\item 30\n",
       "\\item 26\n",
       "\\item 23\n",
       "\\item 23\n",
       "\\item 24\n",
       "\\item 28\n",
       "\\item 27\n",
       "\\item 25\n",
       "\\end{enumerate*}\n"
      ],
      "text/markdown": [
       "1. 27\n",
       "2. 28\n",
       "3. 24\n",
       "4. 24\n",
       "5. 30\n",
       "6. 26\n",
       "7. 23\n",
       "8. 23\n",
       "9. 24\n",
       "10. 28\n",
       "11. 27\n",
       "12. 25\n",
       "\n",
       "\n"
      ],
      "text/plain": [
       " [1] 27 28 24 24 30 26 23 23 24 28 27 25"
      ]
     },
     "metadata": {},
     "output_type": "display_data"
    }
   ],
   "source": [
    "# access by component index\n",
    "dc[[1]]"
   ]
  },
  {
   "cell_type": "code",
   "execution_count": 20,
   "metadata": {},
   "outputs": [
    {
     "data": {
      "text/html": [
       "<ol class=list-inline>\n",
       "\t<li>27</li>\n",
       "\t<li>28</li>\n",
       "\t<li>24</li>\n",
       "\t<li>24</li>\n",
       "\t<li>30</li>\n",
       "\t<li>26</li>\n",
       "\t<li>23</li>\n",
       "\t<li>23</li>\n",
       "\t<li>24</li>\n",
       "\t<li>28</li>\n",
       "\t<li>27</li>\n",
       "\t<li>25</li>\n",
       "</ol>\n"
      ],
      "text/latex": [
       "\\begin{enumerate*}\n",
       "\\item 27\n",
       "\\item 28\n",
       "\\item 24\n",
       "\\item 24\n",
       "\\item 30\n",
       "\\item 26\n",
       "\\item 23\n",
       "\\item 23\n",
       "\\item 24\n",
       "\\item 28\n",
       "\\item 27\n",
       "\\item 25\n",
       "\\end{enumerate*}\n"
      ],
      "text/markdown": [
       "1. 27\n",
       "2. 28\n",
       "3. 24\n",
       "4. 24\n",
       "5. 30\n",
       "6. 26\n",
       "7. 23\n",
       "8. 23\n",
       "9. 24\n",
       "10. 28\n",
       "11. 27\n",
       "12. 25\n",
       "\n",
       "\n"
      ],
      "text/plain": [
       " [1] 27 28 24 24 30 26 23 23 24 28 27 25"
      ]
     },
     "metadata": {},
     "output_type": "display_data"
    }
   ],
   "source": [
    "#access by component name\n",
    "dc$exam1"
   ]
  },
  {
   "cell_type": "markdown",
   "metadata": {},
   "source": [
    "- but a data frame can be treated in a matrix-like fashion, as well"
   ]
  },
  {
   "cell_type": "code",
   "execution_count": 21,
   "metadata": {},
   "outputs": [
    {
     "data": {
      "text/html": [
       "<ol class=list-inline>\n",
       "\t<li>27</li>\n",
       "\t<li>28</li>\n",
       "\t<li>24</li>\n",
       "\t<li>24</li>\n",
       "\t<li>30</li>\n",
       "\t<li>26</li>\n",
       "\t<li>23</li>\n",
       "\t<li>23</li>\n",
       "\t<li>24</li>\n",
       "\t<li>28</li>\n",
       "\t<li>27</li>\n",
       "\t<li>25</li>\n",
       "</ol>\n"
      ],
      "text/latex": [
       "\\begin{enumerate*}\n",
       "\\item 27\n",
       "\\item 28\n",
       "\\item 24\n",
       "\\item 24\n",
       "\\item 30\n",
       "\\item 26\n",
       "\\item 23\n",
       "\\item 23\n",
       "\\item 24\n",
       "\\item 28\n",
       "\\item 27\n",
       "\\item 25\n",
       "\\end{enumerate*}\n"
      ],
      "text/markdown": [
       "1. 27\n",
       "2. 28\n",
       "3. 24\n",
       "4. 24\n",
       "5. 30\n",
       "6. 26\n",
       "7. 23\n",
       "8. 23\n",
       "9. 24\n",
       "10. 28\n",
       "11. 27\n",
       "12. 25\n",
       "\n",
       "\n"
      ],
      "text/plain": [
       " [1] 27 28 24 24 30 26 23 23 24 28 27 25"
      ]
     },
     "metadata": {},
     "output_type": "display_data"
    }
   ],
   "source": [
    "#select column 1\n",
    "dc[,1]"
   ]
  },
  {
   "cell_type": "code",
   "execution_count": 22,
   "metadata": {},
   "outputs": [
    {
     "data": {
      "text/html": [
       "27"
      ],
      "text/latex": [
       "27"
      ],
      "text/markdown": [
       "27"
      ],
      "text/plain": [
       "[1] 27"
      ]
     },
     "metadata": {},
     "output_type": "display_data"
    }
   ],
   "source": [
    "#and access the single element, as well\n",
    "dc[1,1]"
   ]
  },
  {
   "cell_type": "markdown",
   "metadata": {},
   "source": [
    "### Data frame row names"
   ]
  },
  {
   "cell_type": "markdown",
   "metadata": {},
   "source": [
    "- data frames allow to <span style=\"color:blue\">label each row with a name</span>, a character vector containing only unique names"
   ]
  },
  {
   "cell_type": "code",
   "execution_count": 24,
   "metadata": {},
   "outputs": [
    {
     "data": {
      "text/html": [
       "<table>\n",
       "<thead><tr><th></th><th scope=col>age</th><th scope=col>hair</th></tr></thead>\n",
       "<tbody>\n",
       "\t<tr><th scope=row>Bob</th><td>35   </td><td>blond</td></tr>\n",
       "\t<tr><th scope=row>Tom</th><td>25   </td><td>brown</td></tr>\n",
       "\t<tr><th scope=row>Sam</th><td>18   </td><td>NA   </td></tr>\n",
       "</tbody>\n",
       "</table>\n"
      ],
      "text/latex": [
       "\\begin{tabular}{r|ll}\n",
       "  & age & hair\\\\\n",
       "\\hline\n",
       "\tBob & 35    & blond\\\\\n",
       "\tTom & 25    & brown\\\\\n",
       "\tSam & 18    & NA   \\\\\n",
       "\\end{tabular}\n"
      ],
      "text/markdown": [
       "\n",
       "| <!--/--> | age | hair |\n",
       "|---|---|---|\n",
       "| Bob | 35    | blond |\n",
       "| Tom | 25    | brown |\n",
       "| Sam | 18    | NA    |\n",
       "\n"
      ],
      "text/plain": [
       "    age hair \n",
       "Bob 35  blond\n",
       "Tom 25  brown\n",
       "Sam 18  NA   "
      ]
     },
     "metadata": {},
     "output_type": "display_data"
    }
   ],
   "source": [
    "df1 <- data.frame( age = c(35,25,18),\n",
    "                    hair = c(\"blond\", \"brown\", NA),\n",
    "                    row.names = c(\"Bob\", \"Tom\", \"Sam\"))\n",
    "df1"
   ]
  },
  {
   "cell_type": "code",
   "execution_count": 25,
   "metadata": {},
   "outputs": [
    {
     "data": {
      "text/html": [
       "<ol class=list-inline>\n",
       "\t<li>'age'</li>\n",
       "\t<li>'hair'</li>\n",
       "</ol>\n"
      ],
      "text/latex": [
       "\\begin{enumerate*}\n",
       "\\item 'age'\n",
       "\\item 'hair'\n",
       "\\end{enumerate*}\n"
      ],
      "text/markdown": [
       "1. 'age'\n",
       "2. 'hair'\n",
       "\n",
       "\n"
      ],
      "text/plain": [
       "[1] \"age\"  \"hair\""
      ]
     },
     "metadata": {},
     "output_type": "display_data"
    }
   ],
   "source": [
    "names(df1)"
   ]
  },
  {
   "cell_type": "code",
   "execution_count": 26,
   "metadata": {},
   "outputs": [
    {
     "data": {
      "text/html": [
       "<ol class=list-inline>\n",
       "\t<li>'Bob'</li>\n",
       "\t<li>'Tom'</li>\n",
       "\t<li>'Sam'</li>\n",
       "</ol>\n"
      ],
      "text/latex": [
       "\\begin{enumerate*}\n",
       "\\item 'Bob'\n",
       "\\item 'Tom'\n",
       "\\item 'Sam'\n",
       "\\end{enumerate*}\n"
      ],
      "text/markdown": [
       "1. 'Bob'\n",
       "2. 'Tom'\n",
       "3. 'Sam'\n",
       "\n",
       "\n"
      ],
      "text/plain": [
       "[1] \"Bob\" \"Tom\" \"Sam\""
      ]
     },
     "metadata": {},
     "output_type": "display_data"
    }
   ],
   "source": [
    "row.names(df1)"
   ]
  },
  {
   "cell_type": "markdown",
   "metadata": {},
   "source": [
    "- but <span style=\"color:red\">row names are a bad practice</span>\n",
    "    1. <span style=\"color:blue\">metadata is metadata</span>: storing it in a different way to the rest of data is a bad idea\n",
    "    2. <span style=\"color:blue\">row names are a poor abstraction for labeling rows</span>: they only work when a row can be identified by a single string\n",
    "    3. <span style=\"color:blue\">row names must be unique</span>: any duplication of rows will create new row names --> complicated \"string surgery\" may be needed."
   ]
  },
  {
   "cell_type": "markdown",
   "metadata": {},
   "source": [
    "### Advanced data frames"
   ]
  },
  {
   "cell_type": "markdown",
   "metadata": {},
   "source": [
    "####  Data selection"
   ]
  },
  {
   "cell_type": "code",
   "execution_count": 27,
   "metadata": {},
   "outputs": [
    {
     "data": {
      "text/html": [
       "<table>\n",
       "<thead><tr><th></th><th scope=col>exam1</th><th scope=col>exam2</th><th scope=col>gender</th></tr></thead>\n",
       "<tbody>\n",
       "\t<tr><th scope=row>2</th><td>28</td><td>30</td><td>F </td></tr>\n",
       "\t<tr><th scope=row>3</th><td>24</td><td>26</td><td>M </td></tr>\n",
       "\t<tr><th scope=row>4</th><td>24</td><td>24</td><td>M </td></tr>\n",
       "</tbody>\n",
       "</table>\n"
      ],
      "text/latex": [
       "\\begin{tabular}{r|lll}\n",
       "  & exam1 & exam2 & gender\\\\\n",
       "\\hline\n",
       "\t2 & 28 & 30 & F \\\\\n",
       "\t3 & 24 & 26 & M \\\\\n",
       "\t4 & 24 & 24 & M \\\\\n",
       "\\end{tabular}\n"
      ],
      "text/markdown": [
       "\n",
       "| <!--/--> | exam1 | exam2 | gender |\n",
       "|---|---|---|---|\n",
       "| 2 | 28 | 30 | F  |\n",
       "| 3 | 24 | 26 | M  |\n",
       "| 4 | 24 | 24 | M  |\n",
       "\n"
      ],
      "text/plain": [
       "  exam1 exam2 gender\n",
       "2 28    30    F     \n",
       "3 24    26    M     \n",
       "4 24    24    M     "
      ]
     },
     "metadata": {},
     "output_type": "display_data"
    }
   ],
   "source": [
    "#Select only rows 2:4\n",
    "dc[2:4,]"
   ]
  },
  {
   "cell_type": "code",
   "execution_count": 28,
   "metadata": {},
   "outputs": [
    {
     "data": {
      "text/html": [
       "<table>\n",
       "<thead><tr><th></th><th scope=col>exam1</th><th scope=col>exam2</th><th scope=col>gender</th></tr></thead>\n",
       "<tbody>\n",
       "\t<tr><th scope=row>1</th><td>27</td><td>25</td><td>M </td></tr>\n",
       "\t<tr><th scope=row>11</th><td>27</td><td>27</td><td>M </td></tr>\n",
       "\t<tr><th scope=row>12</th><td>25</td><td>28</td><td>F </td></tr>\n",
       "</tbody>\n",
       "</table>\n"
      ],
      "text/latex": [
       "\\begin{tabular}{r|lll}\n",
       "  & exam1 & exam2 & gender\\\\\n",
       "\\hline\n",
       "\t1 & 27 & 25 & M \\\\\n",
       "\t11 & 27 & 27 & M \\\\\n",
       "\t12 & 25 & 28 & F \\\\\n",
       "\\end{tabular}\n"
      ],
      "text/markdown": [
       "\n",
       "| <!--/--> | exam1 | exam2 | gender |\n",
       "|---|---|---|---|\n",
       "| 1 | 27 | 25 | M  |\n",
       "| 11 | 27 | 27 | M  |\n",
       "| 12 | 25 | 28 | F  |\n",
       "\n"
      ],
      "text/plain": [
       "   exam1 exam2 gender\n",
       "1  27    25    M     \n",
       "11 27    27    M     \n",
       "12 25    28    F     "
      ]
     },
     "metadata": {},
     "output_type": "display_data"
    }
   ],
   "source": [
    "# drop rows 2:10\n",
    "dc[-(2:10),]"
   ]
  },
  {
   "cell_type": "markdown",
   "metadata": {},
   "source": [
    "- with the sample function, data can be selected at random"
   ]
  },
  {
   "cell_type": "code",
   "execution_count": 30,
   "metadata": {},
   "outputs": [
    {
     "data": {
      "text/html": [
       "<table>\n",
       "<thead><tr><th></th><th scope=col>exam1</th><th scope=col>exam2</th><th scope=col>gender</th></tr></thead>\n",
       "<tbody>\n",
       "\t<tr><th scope=row>5</th><td>30</td><td>30</td><td>M </td></tr>\n",
       "\t<tr><th scope=row>7</th><td>23</td><td>25</td><td>M </td></tr>\n",
       "\t<tr><th scope=row>8</th><td>23</td><td>25</td><td>M </td></tr>\n",
       "</tbody>\n",
       "</table>\n"
      ],
      "text/latex": [
       "\\begin{tabular}{r|lll}\n",
       "  & exam1 & exam2 & gender\\\\\n",
       "\\hline\n",
       "\t5 & 30 & 30 & M \\\\\n",
       "\t7 & 23 & 25 & M \\\\\n",
       "\t8 & 23 & 25 & M \\\\\n",
       "\\end{tabular}\n"
      ],
      "text/markdown": [
       "\n",
       "| <!--/--> | exam1 | exam2 | gender |\n",
       "|---|---|---|---|\n",
       "| 5 | 30 | 30 | M  |\n",
       "| 7 | 23 | 25 | M  |\n",
       "| 8 | 23 | 25 | M  |\n",
       "\n"
      ],
      "text/plain": [
       "  exam1 exam2 gender\n",
       "5 30    30    M     \n",
       "7 23    25    M     \n",
       "8 23    25    M     "
      ]
     },
     "metadata": {},
     "output_type": "display_data"
    }
   ],
   "source": [
    "# select 3 rows at random\n",
    "dc[sample(1:12,3),]"
   ]
  },
  {
   "cell_type": "markdown",
   "metadata": {},
   "source": [
    "- suppose we want to extract all columns that contain numbers, rather than character or logicals, from a data frame"
   ]
  },
  {
   "cell_type": "code",
   "execution_count": 34,
   "metadata": {
    "scrolled": true
   },
   "outputs": [
    {
     "data": {
      "text/html": [
       "<table>\n",
       "<thead><tr><th scope=col>exam1</th><th scope=col>exam2</th></tr></thead>\n",
       "<tbody>\n",
       "\t<tr><td>27</td><td>25</td></tr>\n",
       "\t<tr><td>28</td><td>30</td></tr>\n",
       "\t<tr><td>24</td><td>26</td></tr>\n",
       "\t<tr><td>24</td><td>24</td></tr>\n",
       "\t<tr><td>30</td><td>30</td></tr>\n",
       "\t<tr><td>26</td><td>30</td></tr>\n",
       "\t<tr><td>23</td><td>25</td></tr>\n",
       "\t<tr><td>23</td><td>25</td></tr>\n",
       "\t<tr><td>24</td><td>30</td></tr>\n",
       "\t<tr><td>28</td><td>28</td></tr>\n",
       "\t<tr><td>27</td><td>27</td></tr>\n",
       "\t<tr><td>25</td><td>28</td></tr>\n",
       "</tbody>\n",
       "</table>\n"
      ],
      "text/latex": [
       "\\begin{tabular}{r|ll}\n",
       " exam1 & exam2\\\\\n",
       "\\hline\n",
       "\t 27 & 25\\\\\n",
       "\t 28 & 30\\\\\n",
       "\t 24 & 26\\\\\n",
       "\t 24 & 24\\\\\n",
       "\t 30 & 30\\\\\n",
       "\t 26 & 30\\\\\n",
       "\t 23 & 25\\\\\n",
       "\t 23 & 25\\\\\n",
       "\t 24 & 30\\\\\n",
       "\t 28 & 28\\\\\n",
       "\t 27 & 27\\\\\n",
       "\t 25 & 28\\\\\n",
       "\\end{tabular}\n"
      ],
      "text/markdown": [
       "\n",
       "| exam1 | exam2 |\n",
       "|---|---|\n",
       "| 27 | 25 |\n",
       "| 28 | 30 |\n",
       "| 24 | 26 |\n",
       "| 24 | 24 |\n",
       "| 30 | 30 |\n",
       "| 26 | 30 |\n",
       "| 23 | 25 |\n",
       "| 23 | 25 |\n",
       "| 24 | 30 |\n",
       "| 28 | 28 |\n",
       "| 27 | 27 |\n",
       "| 25 | 28 |\n",
       "\n"
      ],
      "text/plain": [
       "   exam1 exam2\n",
       "1  27    25   \n",
       "2  28    30   \n",
       "3  24    26   \n",
       "4  24    24   \n",
       "5  30    30   \n",
       "6  26    30   \n",
       "7  23    25   \n",
       "8  23    25   \n",
       "9  24    30   \n",
       "10 28    28   \n",
       "11 27    27   \n",
       "12 25    28   "
      ]
     },
     "metadata": {},
     "output_type": "display_data"
    }
   ],
   "source": [
    "dc[,sapply(dc,is.numeric)]"
   ]
  },
  {
   "cell_type": "markdown",
   "metadata": {},
   "source": [
    "- and now we want to get only factors (and remove numerics)"
   ]
  },
  {
   "cell_type": "code",
   "execution_count": 35,
   "metadata": {
    "scrolled": true
   },
   "outputs": [
    {
     "data": {
      "text/html": [
       "<ol class=list-inline>\n",
       "\t<li>M</li>\n",
       "\t<li>F</li>\n",
       "\t<li>M</li>\n",
       "\t<li>M</li>\n",
       "\t<li>M</li>\n",
       "\t<li>M</li>\n",
       "\t<li>M</li>\n",
       "\t<li>M</li>\n",
       "\t<li>F</li>\n",
       "\t<li>F</li>\n",
       "\t<li>M</li>\n",
       "\t<li>F</li>\n",
       "</ol>\n",
       "\n",
       "<details>\n",
       "\t<summary style=display:list-item;cursor:pointer>\n",
       "\t\t<strong>Levels</strong>:\n",
       "\t</summary>\n",
       "\t<ol class=list-inline>\n",
       "\t\t<li>'F'</li>\n",
       "\t\t<li>'M'</li>\n",
       "\t</ol>\n",
       "</details>"
      ],
      "text/latex": [
       "\\begin{enumerate*}\n",
       "\\item M\n",
       "\\item F\n",
       "\\item M\n",
       "\\item M\n",
       "\\item M\n",
       "\\item M\n",
       "\\item M\n",
       "\\item M\n",
       "\\item F\n",
       "\\item F\n",
       "\\item M\n",
       "\\item F\n",
       "\\end{enumerate*}\n",
       "\n",
       "\\emph{Levels}: \\begin{enumerate*}\n",
       "\\item 'F'\n",
       "\\item 'M'\n",
       "\\end{enumerate*}\n"
      ],
      "text/markdown": [
       "1. M\n",
       "2. F\n",
       "3. M\n",
       "4. M\n",
       "5. M\n",
       "6. M\n",
       "7. M\n",
       "8. M\n",
       "9. F\n",
       "10. F\n",
       "11. M\n",
       "12. F\n",
       "\n",
       "\n",
       "\n",
       "**Levels**: 1. 'F'\n",
       "2. 'M'\n",
       "\n",
       "\n"
      ],
      "text/plain": [
       " [1] M F M M M M M M F F M F\n",
       "Levels: F M"
      ]
     },
     "metadata": {},
     "output_type": "display_data"
    }
   ],
   "source": [
    "dc[, sapply(dc,is.factor)]"
   ]
  },
  {
   "cell_type": "markdown",
   "metadata": {},
   "source": [
    "#### NA elements"
   ]
  },
  {
   "cell_type": "markdown",
   "metadata": {},
   "source": [
    "- sometimes our data frame can have missing values (NA) and we may need to omit those values\n",
    "- we can create a <span style=\"color:blue\">shorter data frame</span> using the <span style=\"color:blue\">na.omit() function</span>"
   ]
  },
  {
   "cell_type": "code",
   "execution_count": 38,
   "metadata": {},
   "outputs": [
    {
     "data": {
      "text/html": [
       "<table>\n",
       "<thead><tr><th scope=col>slope</th><th scope=col>pH</th><th scope=col>area</th></tr></thead>\n",
       "<tbody>\n",
       "\t<tr><td>11 </td><td>4.1</td><td>3.6</td></tr>\n",
       "\t<tr><td>NA </td><td>5.2</td><td>5.1</td></tr>\n",
       "\t<tr><td> 3 </td><td>4.9</td><td>2.8</td></tr>\n",
       "\t<tr><td> 5 </td><td> NA</td><td>3.7</td></tr>\n",
       "</tbody>\n",
       "</table>\n"
      ],
      "text/latex": [
       "\\begin{tabular}{r|lll}\n",
       " slope & pH & area\\\\\n",
       "\\hline\n",
       "\t 11  & 4.1 & 3.6\\\\\n",
       "\t NA  & 5.2 & 5.1\\\\\n",
       "\t  3  & 4.9 & 2.8\\\\\n",
       "\t  5  &  NA & 3.7\\\\\n",
       "\\end{tabular}\n"
      ],
      "text/markdown": [
       "\n",
       "| slope | pH | area |\n",
       "|---|---|---|\n",
       "| 11  | 4.1 | 3.6 |\n",
       "| NA  | 5.2 | 5.1 |\n",
       "|  3  | 4.9 | 2.8 |\n",
       "|  5  |  NA | 3.7 |\n",
       "\n"
      ],
      "text/plain": [
       "  slope pH  area\n",
       "1 11    4.1 3.6 \n",
       "2 NA    5.2 5.1 \n",
       "3  3    4.9 2.8 \n",
       "4  5     NA 3.7 "
      ]
     },
     "metadata": {},
     "output_type": "display_data"
    }
   ],
   "source": [
    "data <- data.frame( slope = c(11, NA, 3, 5),\n",
    "                    pH    = c(4.1, 5.2, 4.9,NA),\n",
    "                    area  = c(3.6, 5.1, 2.8, 3.7))\n",
    "\n",
    "data"
   ]
  },
  {
   "cell_type": "code",
   "execution_count": 39,
   "metadata": {},
   "outputs": [
    {
     "data": {
      "text/html": [
       "<table>\n",
       "<thead><tr><th></th><th scope=col>slope</th><th scope=col>pH</th><th scope=col>area</th></tr></thead>\n",
       "<tbody>\n",
       "\t<tr><th scope=row>1</th><td>11 </td><td>4.1</td><td>3.6</td></tr>\n",
       "\t<tr><th scope=row>3</th><td> 3 </td><td>4.9</td><td>2.8</td></tr>\n",
       "</tbody>\n",
       "</table>\n"
      ],
      "text/latex": [
       "\\begin{tabular}{r|lll}\n",
       "  & slope & pH & area\\\\\n",
       "\\hline\n",
       "\t1 & 11  & 4.1 & 3.6\\\\\n",
       "\t3 &  3  & 4.9 & 2.8\\\\\n",
       "\\end{tabular}\n"
      ],
      "text/markdown": [
       "\n",
       "| <!--/--> | slope | pH | area |\n",
       "|---|---|---|---|\n",
       "| 1 | 11  | 4.1 | 3.6 |\n",
       "| 3 |  3  | 4.9 | 2.8 |\n",
       "\n"
      ],
      "text/plain": [
       "  slope pH  area\n",
       "1 11    4.1 3.6 \n",
       "3  3    4.9 2.8 "
      ]
     },
     "metadata": {},
     "output_type": "display_data"
    }
   ],
   "source": [
    "na.omit(data)"
   ]
  },
  {
   "cell_type": "code",
   "execution_count": 41,
   "metadata": {},
   "outputs": [
    {
     "data": {
      "text/html": [
       "<table>\n",
       "<thead><tr><th></th><th scope=col>slope</th><th scope=col>pH</th><th scope=col>area</th></tr></thead>\n",
       "<tbody>\n",
       "\t<tr><th scope=row>1</th><td>11 </td><td>4.1</td><td>3.6</td></tr>\n",
       "\t<tr><th scope=row>3</th><td> 3 </td><td>4.9</td><td>2.8</td></tr>\n",
       "</tbody>\n",
       "</table>\n"
      ],
      "text/latex": [
       "\\begin{tabular}{r|lll}\n",
       "  & slope & pH & area\\\\\n",
       "\\hline\n",
       "\t1 & 11  & 4.1 & 3.6\\\\\n",
       "\t3 &  3  & 4.9 & 2.8\\\\\n",
       "\\end{tabular}\n"
      ],
      "text/markdown": [
       "\n",
       "| <!--/--> | slope | pH | area |\n",
       "|---|---|---|---|\n",
       "| 1 | 11  | 4.1 | 3.6 |\n",
       "| 3 |  3  | 4.9 | 2.8 |\n",
       "\n"
      ],
      "text/plain": [
       "  slope pH  area\n",
       "1 11    4.1 3.6 \n",
       "3  3    4.9 2.8 "
      ]
     },
     "metadata": {},
     "output_type": "display_data"
    }
   ],
   "source": [
    "clean_data <- na.exclude(data)\n",
    "clean_data"
   ]
  },
  {
   "cell_type": "code",
   "execution_count": 42,
   "metadata": {},
   "outputs": [
    {
     "data": {
      "text/html": [
       "<dl>\n",
       "\t<dt>$slope</dt>\n",
       "\t\t<dd>7</dd>\n",
       "\t<dt>$pH</dt>\n",
       "\t\t<dd>4.5</dd>\n",
       "\t<dt>$area</dt>\n",
       "\t\t<dd>3.2</dd>\n",
       "</dl>\n"
      ],
      "text/latex": [
       "\\begin{description}\n",
       "\\item[\\$slope] 7\n",
       "\\item[\\$pH] 4.5\n",
       "\\item[\\$area] 3.2\n",
       "\\end{description}\n"
      ],
      "text/markdown": [
       "$slope\n",
       ":   7\n",
       "$pH\n",
       ":   4.5\n",
       "$area\n",
       ":   3.2\n",
       "\n",
       "\n"
      ],
      "text/plain": [
       "$slope\n",
       "[1] 7\n",
       "\n",
       "$pH\n",
       "[1] 4.5\n",
       "\n",
       "$area\n",
       "[1] 3.2\n"
      ]
     },
     "metadata": {},
     "output_type": "display_data"
    }
   ],
   "source": [
    "lapply(clean_data, mean)"
   ]
  },
  {
   "cell_type": "code",
   "execution_count": 43,
   "metadata": {},
   "outputs": [
    {
     "data": {
      "text/html": [
       "<dl class=dl-horizontal>\n",
       "\t<dt>slope</dt>\n",
       "\t\t<dd>1</dd>\n",
       "\t<dt>pH</dt>\n",
       "\t\t<dd>1</dd>\n",
       "\t<dt>area</dt>\n",
       "\t\t<dd>0</dd>\n",
       "</dl>\n"
      ],
      "text/latex": [
       "\\begin{description*}\n",
       "\\item[slope] 1\n",
       "\\item[pH] 1\n",
       "\\item[area] 0\n",
       "\\end{description*}\n"
      ],
      "text/markdown": [
       "slope\n",
       ":   1pH\n",
       ":   1area\n",
       ":   0\n",
       "\n"
      ],
      "text/plain": [
       "slope    pH  area \n",
       "    1     1     0 "
      ]
     },
     "metadata": {},
     "output_type": "display_data"
    }
   ],
   "source": [
    "#let's count the missing values\n",
    "apply(apply(data,2,is.na),2,sum)"
   ]
  },
  {
   "cell_type": "markdown",
   "metadata": {},
   "source": [
    "#### Sorting elements"
   ]
  },
  {
   "cell_type": "code",
   "execution_count": 44,
   "metadata": {},
   "outputs": [
    {
     "data": {
      "text/html": [
       "<table>\n",
       "<thead><tr><th></th><th scope=col>exam1</th><th scope=col>exam2</th><th scope=col>gender</th></tr></thead>\n",
       "<tbody>\n",
       "\t<tr><th scope=row>7</th><td>23</td><td>25</td><td>M </td></tr>\n",
       "\t<tr><th scope=row>8</th><td>23</td><td>25</td><td>M </td></tr>\n",
       "\t<tr><th scope=row>3</th><td>24</td><td>26</td><td>M </td></tr>\n",
       "\t<tr><th scope=row>4</th><td>24</td><td>24</td><td>M </td></tr>\n",
       "\t<tr><th scope=row>9</th><td>24</td><td>30</td><td>F </td></tr>\n",
       "\t<tr><th scope=row>12</th><td>25</td><td>28</td><td>F </td></tr>\n",
       "\t<tr><th scope=row>6</th><td>26</td><td>30</td><td>M </td></tr>\n",
       "\t<tr><th scope=row>1</th><td>27</td><td>25</td><td>M </td></tr>\n",
       "\t<tr><th scope=row>11</th><td>27</td><td>27</td><td>M </td></tr>\n",
       "\t<tr><th scope=row>2</th><td>28</td><td>30</td><td>F </td></tr>\n",
       "\t<tr><th scope=row>10</th><td>28</td><td>28</td><td>F </td></tr>\n",
       "\t<tr><th scope=row>5</th><td>30</td><td>30</td><td>M </td></tr>\n",
       "</tbody>\n",
       "</table>\n"
      ],
      "text/latex": [
       "\\begin{tabular}{r|lll}\n",
       "  & exam1 & exam2 & gender\\\\\n",
       "\\hline\n",
       "\t7 & 23 & 25 & M \\\\\n",
       "\t8 & 23 & 25 & M \\\\\n",
       "\t3 & 24 & 26 & M \\\\\n",
       "\t4 & 24 & 24 & M \\\\\n",
       "\t9 & 24 & 30 & F \\\\\n",
       "\t12 & 25 & 28 & F \\\\\n",
       "\t6 & 26 & 30 & M \\\\\n",
       "\t1 & 27 & 25 & M \\\\\n",
       "\t11 & 27 & 27 & M \\\\\n",
       "\t2 & 28 & 30 & F \\\\\n",
       "\t10 & 28 & 28 & F \\\\\n",
       "\t5 & 30 & 30 & M \\\\\n",
       "\\end{tabular}\n"
      ],
      "text/markdown": [
       "\n",
       "| <!--/--> | exam1 | exam2 | gender |\n",
       "|---|---|---|---|\n",
       "| 7 | 23 | 25 | M  |\n",
       "| 8 | 23 | 25 | M  |\n",
       "| 3 | 24 | 26 | M  |\n",
       "| 4 | 24 | 24 | M  |\n",
       "| 9 | 24 | 30 | F  |\n",
       "| 12 | 25 | 28 | F  |\n",
       "| 6 | 26 | 30 | M  |\n",
       "| 1 | 27 | 25 | M  |\n",
       "| 11 | 27 | 27 | M  |\n",
       "| 2 | 28 | 30 | F  |\n",
       "| 10 | 28 | 28 | F  |\n",
       "| 5 | 30 | 30 | M  |\n",
       "\n"
      ],
      "text/plain": [
       "   exam1 exam2 gender\n",
       "7  23    25    M     \n",
       "8  23    25    M     \n",
       "3  24    26    M     \n",
       "4  24    24    M     \n",
       "9  24    30    F     \n",
       "12 25    28    F     \n",
       "6  26    30    M     \n",
       "1  27    25    M     \n",
       "11 27    27    M     \n",
       "2  28    30    F     \n",
       "10 28    28    F     \n",
       "5  30    30    M     "
      ]
     },
     "metadata": {},
     "output_type": "display_data"
    }
   ],
   "source": [
    "dc[order(exam1),]"
   ]
  },
  {
   "cell_type": "code",
   "execution_count": 45,
   "metadata": {},
   "outputs": [
    {
     "data": {
      "text/html": [
       "<table>\n",
       "<thead><tr><th></th><th scope=col>exam1</th><th scope=col>exam2</th><th scope=col>gender</th></tr></thead>\n",
       "<tbody>\n",
       "\t<tr><th scope=row>5</th><td>30</td><td>30</td><td>M </td></tr>\n",
       "\t<tr><th scope=row>2</th><td>28</td><td>30</td><td>F </td></tr>\n",
       "\t<tr><th scope=row>10</th><td>28</td><td>28</td><td>F </td></tr>\n",
       "\t<tr><th scope=row>1</th><td>27</td><td>25</td><td>M </td></tr>\n",
       "\t<tr><th scope=row>11</th><td>27</td><td>27</td><td>M </td></tr>\n",
       "\t<tr><th scope=row>6</th><td>26</td><td>30</td><td>M </td></tr>\n",
       "\t<tr><th scope=row>12</th><td>25</td><td>28</td><td>F </td></tr>\n",
       "\t<tr><th scope=row>3</th><td>24</td><td>26</td><td>M </td></tr>\n",
       "\t<tr><th scope=row>4</th><td>24</td><td>24</td><td>M </td></tr>\n",
       "\t<tr><th scope=row>9</th><td>24</td><td>30</td><td>F </td></tr>\n",
       "\t<tr><th scope=row>7</th><td>23</td><td>25</td><td>M </td></tr>\n",
       "\t<tr><th scope=row>8</th><td>23</td><td>25</td><td>M </td></tr>\n",
       "</tbody>\n",
       "</table>\n"
      ],
      "text/latex": [
       "\\begin{tabular}{r|lll}\n",
       "  & exam1 & exam2 & gender\\\\\n",
       "\\hline\n",
       "\t5 & 30 & 30 & M \\\\\n",
       "\t2 & 28 & 30 & F \\\\\n",
       "\t10 & 28 & 28 & F \\\\\n",
       "\t1 & 27 & 25 & M \\\\\n",
       "\t11 & 27 & 27 & M \\\\\n",
       "\t6 & 26 & 30 & M \\\\\n",
       "\t12 & 25 & 28 & F \\\\\n",
       "\t3 & 24 & 26 & M \\\\\n",
       "\t4 & 24 & 24 & M \\\\\n",
       "\t9 & 24 & 30 & F \\\\\n",
       "\t7 & 23 & 25 & M \\\\\n",
       "\t8 & 23 & 25 & M \\\\\n",
       "\\end{tabular}\n"
      ],
      "text/markdown": [
       "\n",
       "| <!--/--> | exam1 | exam2 | gender |\n",
       "|---|---|---|---|\n",
       "| 5 | 30 | 30 | M  |\n",
       "| 2 | 28 | 30 | F  |\n",
       "| 10 | 28 | 28 | F  |\n",
       "| 1 | 27 | 25 | M  |\n",
       "| 11 | 27 | 27 | M  |\n",
       "| 6 | 26 | 30 | M  |\n",
       "| 12 | 25 | 28 | F  |\n",
       "| 3 | 24 | 26 | M  |\n",
       "| 4 | 24 | 24 | M  |\n",
       "| 9 | 24 | 30 | F  |\n",
       "| 7 | 23 | 25 | M  |\n",
       "| 8 | 23 | 25 | M  |\n",
       "\n"
      ],
      "text/plain": [
       "   exam1 exam2 gender\n",
       "5  30    30    M     \n",
       "2  28    30    F     \n",
       "10 28    28    F     \n",
       "1  27    25    M     \n",
       "11 27    27    M     \n",
       "6  26    30    M     \n",
       "12 25    28    F     \n",
       "3  24    26    M     \n",
       "4  24    24    M     \n",
       "9  24    30    F     \n",
       "7  23    25    M     \n",
       "8  23    25    M     "
      ]
     },
     "metadata": {},
     "output_type": "display_data"
    }
   ],
   "source": [
    "dc[order(exam1,decreasing=TRUE),]"
   ]
  },
  {
   "cell_type": "code",
   "execution_count": 47,
   "metadata": {},
   "outputs": [
    {
     "data": {
      "text/html": [
       "<table>\n",
       "<thead><tr><th></th><th scope=col>exam1</th><th scope=col>exam2</th><th scope=col>gender</th></tr></thead>\n",
       "<tbody>\n",
       "\t<tr><th scope=row>5</th><td>30</td><td>30</td><td>M </td></tr>\n",
       "\t<tr><th scope=row>11</th><td>27</td><td>27</td><td>M </td></tr>\n",
       "\t<tr><th scope=row>1</th><td>27</td><td>25</td><td>M </td></tr>\n",
       "\t<tr><th scope=row>6</th><td>26</td><td>30</td><td>M </td></tr>\n",
       "\t<tr><th scope=row>3</th><td>24</td><td>26</td><td>M </td></tr>\n",
       "\t<tr><th scope=row>4</th><td>24</td><td>24</td><td>M </td></tr>\n",
       "\t<tr><th scope=row>7</th><td>23</td><td>25</td><td>M </td></tr>\n",
       "\t<tr><th scope=row>8</th><td>23</td><td>25</td><td>M </td></tr>\n",
       "\t<tr><th scope=row>2</th><td>28</td><td>30</td><td>F </td></tr>\n",
       "\t<tr><th scope=row>10</th><td>28</td><td>28</td><td>F </td></tr>\n",
       "\t<tr><th scope=row>12</th><td>25</td><td>28</td><td>F </td></tr>\n",
       "\t<tr><th scope=row>9</th><td>24</td><td>30</td><td>F </td></tr>\n",
       "</tbody>\n",
       "</table>\n"
      ],
      "text/latex": [
       "\\begin{tabular}{r|lll}\n",
       "  & exam1 & exam2 & gender\\\\\n",
       "\\hline\n",
       "\t5 & 30 & 30 & M \\\\\n",
       "\t11 & 27 & 27 & M \\\\\n",
       "\t1 & 27 & 25 & M \\\\\n",
       "\t6 & 26 & 30 & M \\\\\n",
       "\t3 & 24 & 26 & M \\\\\n",
       "\t4 & 24 & 24 & M \\\\\n",
       "\t7 & 23 & 25 & M \\\\\n",
       "\t8 & 23 & 25 & M \\\\\n",
       "\t2 & 28 & 30 & F \\\\\n",
       "\t10 & 28 & 28 & F \\\\\n",
       "\t12 & 25 & 28 & F \\\\\n",
       "\t9 & 24 & 30 & F \\\\\n",
       "\\end{tabular}\n"
      ],
      "text/markdown": [
       "\n",
       "| <!--/--> | exam1 | exam2 | gender |\n",
       "|---|---|---|---|\n",
       "| 5 | 30 | 30 | M  |\n",
       "| 11 | 27 | 27 | M  |\n",
       "| 1 | 27 | 25 | M  |\n",
       "| 6 | 26 | 30 | M  |\n",
       "| 3 | 24 | 26 | M  |\n",
       "| 4 | 24 | 24 | M  |\n",
       "| 7 | 23 | 25 | M  |\n",
       "| 8 | 23 | 25 | M  |\n",
       "| 2 | 28 | 30 | F  |\n",
       "| 10 | 28 | 28 | F  |\n",
       "| 12 | 25 | 28 | F  |\n",
       "| 9 | 24 | 30 | F  |\n",
       "\n"
      ],
      "text/plain": [
       "   exam1 exam2 gender\n",
       "5  30    30    M     \n",
       "11 27    27    M     \n",
       "1  27    25    M     \n",
       "6  26    30    M     \n",
       "3  24    26    M     \n",
       "4  24    24    M     \n",
       "7  23    25    M     \n",
       "8  23    25    M     \n",
       "2  28    30    F     \n",
       "10 28    28    F     \n",
       "12 25    28    F     \n",
       "9  24    30    F     "
      ]
     },
     "metadata": {},
     "output_type": "display_data"
    }
   ],
   "source": [
    "dc[order(gender, exam1, exam2, decreasing=TRUE),]"
   ]
  },
  {
   "cell_type": "markdown",
   "metadata": {},
   "source": [
    "#### Summary"
   ]
  },
  {
   "cell_type": "markdown",
   "metadata": {},
   "source": [
    "- given a data frame called data, we assume n is a row number and m is one of the column\n",
    "\n",
    "- the syntax [n,] selects all the columns given row n, while [,m] selects all the rows with column m\n",
    "\n",
    "IMAGE"
   ]
  },
  {
   "cell_type": "markdown",
   "metadata": {},
   "source": [
    "### The tibble data structure"
   ]
  },
  {
   "cell_type": "markdown",
   "metadata": {},
   "source": [
    "- it is a modern reimagining of the data frame\n",
    "- it is provided by tibble package which is part of the <span style=\"color:blue\">tidyverse core library</span>"
   ]
  },
  {
   "cell_type": "code",
   "execution_count": 50,
   "metadata": {},
   "outputs": [],
   "source": [
    "#install.packages(\"tidyverse\")\n",
    "library(tidyverse)"
   ]
  },
  {
   "cell_type": "code",
   "execution_count": 54,
   "metadata": {},
   "outputs": [],
   "source": [
    "?tibble"
   ]
  },
  {
   "cell_type": "markdown",
   "metadata": {},
   "source": [
    "- a data frame can be converted to a tibble"
   ]
  },
  {
   "cell_type": "code",
   "execution_count": 51,
   "metadata": {},
   "outputs": [
    {
     "name": "stderr",
     "output_type": "stream",
     "text": [
      "ERROR while rich displaying an object: Error in vapply(part, format, character(nrow(part))): values must be length 12,\n",
      " but FUN(X[[1]]) result is length 3\n",
      "\n",
      "Traceback:\n",
      "1. FUN(X[[i]], ...)\n",
      "2. tryCatch(withCallingHandlers({\n",
      " .     if (!mime %in% names(repr::mime2repr)) \n",
      " .         stop(\"No repr_* for mimetype \", mime, \" in repr::mime2repr\")\n",
      " .     rpr <- repr::mime2repr[[mime]](obj)\n",
      " .     if (is.null(rpr)) \n",
      " .         return(NULL)\n",
      " .     prepare_content(is.raw(rpr), rpr)\n",
      " . }, error = error_handler), error = outer_handler)\n",
      "3. tryCatchList(expr, classes, parentenv, handlers)\n",
      "4. tryCatchOne(expr, names, parentenv, handlers[[1L]])\n",
      "5. doTryCatch(return(expr), name, parentenv, handler)\n",
      "6. withCallingHandlers({\n",
      " .     if (!mime %in% names(repr::mime2repr)) \n",
      " .         stop(\"No repr_* for mimetype \", mime, \" in repr::mime2repr\")\n",
      " .     rpr <- repr::mime2repr[[mime]](obj)\n",
      " .     if (is.null(rpr)) \n",
      " .         return(NULL)\n",
      " .     prepare_content(is.raw(rpr), rpr)\n",
      " . }, error = error_handler)\n",
      "7. repr::mime2repr[[mime]](obj)\n",
      "8. repr_text.data.frame(obj)\n",
      "9. ellip_limit_arr(obj, ...)\n",
      "10. arr_parts_format(parts)\n",
      "11. structure(lapply(parts, arr_part_format), omit = attr(parts, \n",
      "  .     \"omit\"))\n",
      "12. lapply(parts, arr_part_format)\n",
      "13. FUN(X[[i]], ...)\n",
      "14. vapply(part, format, character(nrow(part)))\n"
     ]
    }
   ],
   "source": [
    "dct <- tibble(dc)\n",
    "dct"
   ]
  },
  {
   "cell_type": "markdown",
   "metadata": {},
   "source": [
    "- or created from vectors (as for the data frame)"
   ]
  },
  {
   "cell_type": "code",
   "execution_count": 57,
   "metadata": {},
   "outputs": [
    {
     "data": {
      "text/html": [
       "<table>\n",
       "<thead><tr><th scope=col>exam1</th><th scope=col>exam2</th><th scope=col>gender</th></tr></thead>\n",
       "<tbody>\n",
       "\t<tr><td>27</td><td>25</td><td>M </td></tr>\n",
       "\t<tr><td>28</td><td>30</td><td>F </td></tr>\n",
       "\t<tr><td>24</td><td>26</td><td>M </td></tr>\n",
       "\t<tr><td>24</td><td>24</td><td>M </td></tr>\n",
       "\t<tr><td>30</td><td>30</td><td>M </td></tr>\n",
       "\t<tr><td>26</td><td>30</td><td>M </td></tr>\n",
       "\t<tr><td>23</td><td>25</td><td>M </td></tr>\n",
       "\t<tr><td>23</td><td>25</td><td>M </td></tr>\n",
       "\t<tr><td>24</td><td>30</td><td>F </td></tr>\n",
       "\t<tr><td>28</td><td>28</td><td>F </td></tr>\n",
       "\t<tr><td>27</td><td>27</td><td>M </td></tr>\n",
       "\t<tr><td>25</td><td>28</td><td>F </td></tr>\n",
       "</tbody>\n",
       "</table>\n"
      ],
      "text/latex": [
       "\\begin{tabular}{r|lll}\n",
       " exam1 & exam2 & gender\\\\\n",
       "\\hline\n",
       "\t 27 & 25 & M \\\\\n",
       "\t 28 & 30 & F \\\\\n",
       "\t 24 & 26 & M \\\\\n",
       "\t 24 & 24 & M \\\\\n",
       "\t 30 & 30 & M \\\\\n",
       "\t 26 & 30 & M \\\\\n",
       "\t 23 & 25 & M \\\\\n",
       "\t 23 & 25 & M \\\\\n",
       "\t 24 & 30 & F \\\\\n",
       "\t 28 & 28 & F \\\\\n",
       "\t 27 & 27 & M \\\\\n",
       "\t 25 & 28 & F \\\\\n",
       "\\end{tabular}\n"
      ],
      "text/markdown": [
       "\n",
       "| exam1 | exam2 | gender |\n",
       "|---|---|---|\n",
       "| 27 | 25 | M  |\n",
       "| 28 | 30 | F  |\n",
       "| 24 | 26 | M  |\n",
       "| 24 | 24 | M  |\n",
       "| 30 | 30 | M  |\n",
       "| 26 | 30 | M  |\n",
       "| 23 | 25 | M  |\n",
       "| 23 | 25 | M  |\n",
       "| 24 | 30 | F  |\n",
       "| 28 | 28 | F  |\n",
       "| 27 | 27 | M  |\n",
       "| 25 | 28 | F  |\n",
       "\n"
      ],
      "text/plain": [
       "   exam1 exam2 gender\n",
       "1  27    25    M     \n",
       "2  28    30    F     \n",
       "3  24    26    M     \n",
       "4  24    24    M     \n",
       "5  30    30    M     \n",
       "6  26    30    M     \n",
       "7  23    25    M     \n",
       "8  23    25    M     \n",
       "9  24    30    F     \n",
       "10 28    28    F     \n",
       "11 27    27    M     \n",
       "12 25    28    F     "
      ]
     },
     "metadata": {},
     "output_type": "display_data"
    }
   ],
   "source": [
    "dct <- data.frame(exam1 =c(27,28,24,24,30,26,23,23,24,28,27,25),\n",
    "                  exam2 = exam2, gender)\n",
    "dct"
   ]
  },
  {
   "cell_type": "markdown",
   "metadata": {},
   "source": [
    "### Tibbles vs data.frame"
   ]
  },
  {
   "cell_type": "markdown",
   "metadata": {},
   "source": [
    "- two main differences in the usage of a tibble versus a data.frame: printing ans subsetting\n",
    "\n",
    "- Tibbles have a refined print method that shows only the first 10 rows"
   ]
  },
  {
   "cell_type": "markdown",
   "metadata": {},
   "source": [
    "#### printing "
   ]
  },
  {
   "cell_type": "code",
   "execution_count": 60,
   "metadata": {},
   "outputs": [],
   "source": [
    "atb <- tibble(a = lubridate::now() + runif(1.e3) * 86400,\n",
    "              b =1:1.e3,\n",
    "              c =runif(1.e3),\n",
    "              d =sample(letters, 1.e3, replace = TRUE))"
   ]
  },
  {
   "cell_type": "code",
   "execution_count": 61,
   "metadata": {},
   "outputs": [
    {
     "data": {
      "text/html": [
       "<table>\n",
       "<thead><tr><th scope=col>a</th><th scope=col>b</th><th scope=col>c</th><th scope=col>d</th></tr></thead>\n",
       "<tbody>\n",
       "\t<tr><td>2021-04-02 03:02:21</td><td> 1                 </td><td>0.56474157         </td><td>b                  </td></tr>\n",
       "\t<tr><td>2021-04-01 23:11:52</td><td> 2                 </td><td>0.91914289         </td><td>i                  </td></tr>\n",
       "\t<tr><td>2021-04-01 20:25:35</td><td> 3                 </td><td>0.04455831         </td><td>s                  </td></tr>\n",
       "\t<tr><td>2021-04-01 23:57:45</td><td> 4                 </td><td>0.39174457         </td><td>b                  </td></tr>\n",
       "\t<tr><td>2021-04-01 21:16:56</td><td> 5                 </td><td>0.60292345         </td><td>w                  </td></tr>\n",
       "\t<tr><td>2021-04-02 09:11:12</td><td> 6                 </td><td>0.15493198         </td><td>w                  </td></tr>\n",
       "\t<tr><td>2021-04-01 11:13:59</td><td> 7                 </td><td>0.60528881         </td><td>t                  </td></tr>\n",
       "\t<tr><td>2021-04-01 18:46:01</td><td> 8                 </td><td>0.79624783         </td><td>q                  </td></tr>\n",
       "\t<tr><td>2021-04-01 20:19:30</td><td> 9                 </td><td>0.81872890         </td><td>o                  </td></tr>\n",
       "\t<tr><td>2021-04-02 04:51:52</td><td>10                 </td><td>0.02346892         </td><td>p                  </td></tr>\n",
       "\t<tr><td>2021-04-01 12:01:48</td><td>11                 </td><td>0.03488493         </td><td>s                  </td></tr>\n",
       "\t<tr><td>2021-04-01 22:50:26</td><td>12                 </td><td>0.11190827         </td><td>o                  </td></tr>\n",
       "\t<tr><td>2021-04-01 20:13:17</td><td>13                 </td><td>0.73676438         </td><td>w                  </td></tr>\n",
       "\t<tr><td>2021-04-02 03:20:21</td><td>14                 </td><td>0.59239909         </td><td>g                  </td></tr>\n",
       "\t<tr><td>2021-04-01 16:46:50</td><td>15                 </td><td>0.71974719         </td><td>s                  </td></tr>\n",
       "\t<tr><td>2021-04-02 08:29:24</td><td>16                 </td><td>0.18981713         </td><td>k                  </td></tr>\n",
       "\t<tr><td>2021-04-02 00:25:52</td><td>17                 </td><td>0.57871268         </td><td>p                  </td></tr>\n",
       "\t<tr><td>2021-04-01 18:27:18</td><td>18                 </td><td>0.28880110         </td><td>b                  </td></tr>\n",
       "\t<tr><td>2021-04-01 13:10:27</td><td>19                 </td><td>0.43555155         </td><td>w                  </td></tr>\n",
       "\t<tr><td>2021-04-01 13:58:05</td><td>20                 </td><td>0.74356313         </td><td>o                  </td></tr>\n",
       "\t<tr><td>2021-04-02 01:30:46</td><td>21                 </td><td>0.61173139         </td><td>n                  </td></tr>\n",
       "\t<tr><td>2021-04-01 21:12:48</td><td>22                 </td><td>0.06896195         </td><td>n                  </td></tr>\n",
       "\t<tr><td>2021-04-02 00:23:39</td><td>23                 </td><td>0.74318689         </td><td>n                  </td></tr>\n",
       "\t<tr><td>2021-04-01 16:52:57</td><td>24                 </td><td>0.82648767         </td><td>p                  </td></tr>\n",
       "\t<tr><td>2021-04-02 08:32:45</td><td>25                 </td><td>0.20048039         </td><td>i                  </td></tr>\n",
       "\t<tr><td>2021-04-02 03:00:40</td><td>26                 </td><td>0.26528143         </td><td>g                  </td></tr>\n",
       "\t<tr><td>2021-04-01 19:52:55</td><td>27                 </td><td>0.04830537         </td><td>l                  </td></tr>\n",
       "\t<tr><td>2021-04-02 03:14:56</td><td>28                 </td><td>0.62785014         </td><td>a                  </td></tr>\n",
       "\t<tr><td>2021-04-02 00:13:56</td><td>29                 </td><td>0.89431986         </td><td>u                  </td></tr>\n",
       "\t<tr><td>2021-04-01 10:09:18</td><td>30                 </td><td>0.07948754         </td><td>t                  </td></tr>\n",
       "\t<tr><td>...</td><td>...</td><td>...</td><td>...</td></tr>\n",
       "\t<tr><td>2021-04-02 03:23:29</td><td> 971               </td><td>0.86198591         </td><td>r                  </td></tr>\n",
       "\t<tr><td>2021-04-02 00:22:41</td><td> 972               </td><td>0.37916969         </td><td>y                  </td></tr>\n",
       "\t<tr><td>2021-04-02 04:53:52</td><td> 973               </td><td>0.32136416         </td><td>e                  </td></tr>\n",
       "\t<tr><td>2021-04-01 13:27:55</td><td> 974               </td><td>0.39078975         </td><td>y                  </td></tr>\n",
       "\t<tr><td>2021-04-01 11:56:39</td><td> 975               </td><td>0.19289537         </td><td>h                  </td></tr>\n",
       "\t<tr><td>2021-04-02 00:35:14</td><td> 976               </td><td>0.99294623         </td><td>h                  </td></tr>\n",
       "\t<tr><td>2021-04-01 23:24:41</td><td> 977               </td><td>0.56113625         </td><td>j                  </td></tr>\n",
       "\t<tr><td>2021-04-01 14:02:25</td><td> 978               </td><td>0.09164669         </td><td>u                  </td></tr>\n",
       "\t<tr><td>2021-04-02 05:57:21</td><td> 979               </td><td>0.66951808         </td><td>t                  </td></tr>\n",
       "\t<tr><td>2021-04-02 06:12:07</td><td> 980               </td><td>0.70086929         </td><td>a                  </td></tr>\n",
       "\t<tr><td>2021-04-02 04:23:45</td><td> 981               </td><td>0.23741929         </td><td>e                  </td></tr>\n",
       "\t<tr><td>2021-04-01 23:16:11</td><td> 982               </td><td>0.07956933         </td><td>o                  </td></tr>\n",
       "\t<tr><td>2021-04-02 02:57:43</td><td> 983               </td><td>0.70992841         </td><td>m                  </td></tr>\n",
       "\t<tr><td>2021-04-02 09:36:43</td><td> 984               </td><td>0.45712084         </td><td>h                  </td></tr>\n",
       "\t<tr><td>2021-04-02 06:11:32</td><td> 985               </td><td>0.65980959         </td><td>n                  </td></tr>\n",
       "\t<tr><td>2021-04-02 03:26:18</td><td> 986               </td><td>0.48449986         </td><td>a                  </td></tr>\n",
       "\t<tr><td>2021-04-02 01:58:29</td><td> 987               </td><td>0.40856546         </td><td>o                  </td></tr>\n",
       "\t<tr><td>2021-04-02 01:38:57</td><td> 988               </td><td>0.76834159         </td><td>z                  </td></tr>\n",
       "\t<tr><td>2021-04-02 05:18:02</td><td> 989               </td><td>0.35643360         </td><td>x                  </td></tr>\n",
       "\t<tr><td>2021-04-01 14:24:45</td><td> 990               </td><td>0.81288419         </td><td>e                  </td></tr>\n",
       "\t<tr><td>2021-04-01 13:57:14</td><td> 991               </td><td>0.60419731         </td><td>q                  </td></tr>\n",
       "\t<tr><td>2021-04-01 19:21:22</td><td> 992               </td><td>0.15075887         </td><td>c                  </td></tr>\n",
       "\t<tr><td>2021-04-01 13:42:29</td><td> 993               </td><td>0.49608588         </td><td>v                  </td></tr>\n",
       "\t<tr><td>2021-04-01 21:35:29</td><td> 994               </td><td>0.39619690         </td><td>l                  </td></tr>\n",
       "\t<tr><td>2021-04-02 05:43:00</td><td> 995               </td><td>0.40884982         </td><td>f                  </td></tr>\n",
       "\t<tr><td>2021-04-01 10:09:13</td><td> 996               </td><td>0.30839186         </td><td>n                  </td></tr>\n",
       "\t<tr><td>2021-04-02 05:39:04</td><td> 997               </td><td>0.97227773         </td><td>v                  </td></tr>\n",
       "\t<tr><td>2021-04-02 04:36:37</td><td> 998               </td><td>0.29764478         </td><td>u                  </td></tr>\n",
       "\t<tr><td>2021-04-02 01:16:54</td><td> 999               </td><td>0.91945401         </td><td>l                  </td></tr>\n",
       "\t<tr><td>2021-04-01 20:22:57</td><td>1000               </td><td>0.94582352         </td><td>o                  </td></tr>\n",
       "</tbody>\n",
       "</table>\n"
      ],
      "text/latex": [
       "\\begin{tabular}{r|llll}\n",
       " a & b & c & d\\\\\n",
       "\\hline\n",
       "\t 2021-04-02 03:02:21 &  1                  & 0.56474157          & b                  \\\\\n",
       "\t 2021-04-01 23:11:52 &  2                  & 0.91914289          & i                  \\\\\n",
       "\t 2021-04-01 20:25:35 &  3                  & 0.04455831          & s                  \\\\\n",
       "\t 2021-04-01 23:57:45 &  4                  & 0.39174457          & b                  \\\\\n",
       "\t 2021-04-01 21:16:56 &  5                  & 0.60292345          & w                  \\\\\n",
       "\t 2021-04-02 09:11:12 &  6                  & 0.15493198          & w                  \\\\\n",
       "\t 2021-04-01 11:13:59 &  7                  & 0.60528881          & t                  \\\\\n",
       "\t 2021-04-01 18:46:01 &  8                  & 0.79624783          & q                  \\\\\n",
       "\t 2021-04-01 20:19:30 &  9                  & 0.81872890          & o                  \\\\\n",
       "\t 2021-04-02 04:51:52 & 10                  & 0.02346892          & p                  \\\\\n",
       "\t 2021-04-01 12:01:48 & 11                  & 0.03488493          & s                  \\\\\n",
       "\t 2021-04-01 22:50:26 & 12                  & 0.11190827          & o                  \\\\\n",
       "\t 2021-04-01 20:13:17 & 13                  & 0.73676438          & w                  \\\\\n",
       "\t 2021-04-02 03:20:21 & 14                  & 0.59239909          & g                  \\\\\n",
       "\t 2021-04-01 16:46:50 & 15                  & 0.71974719          & s                  \\\\\n",
       "\t 2021-04-02 08:29:24 & 16                  & 0.18981713          & k                  \\\\\n",
       "\t 2021-04-02 00:25:52 & 17                  & 0.57871268          & p                  \\\\\n",
       "\t 2021-04-01 18:27:18 & 18                  & 0.28880110          & b                  \\\\\n",
       "\t 2021-04-01 13:10:27 & 19                  & 0.43555155          & w                  \\\\\n",
       "\t 2021-04-01 13:58:05 & 20                  & 0.74356313          & o                  \\\\\n",
       "\t 2021-04-02 01:30:46 & 21                  & 0.61173139          & n                  \\\\\n",
       "\t 2021-04-01 21:12:48 & 22                  & 0.06896195          & n                  \\\\\n",
       "\t 2021-04-02 00:23:39 & 23                  & 0.74318689          & n                  \\\\\n",
       "\t 2021-04-01 16:52:57 & 24                  & 0.82648767          & p                  \\\\\n",
       "\t 2021-04-02 08:32:45 & 25                  & 0.20048039          & i                  \\\\\n",
       "\t 2021-04-02 03:00:40 & 26                  & 0.26528143          & g                  \\\\\n",
       "\t 2021-04-01 19:52:55 & 27                  & 0.04830537          & l                  \\\\\n",
       "\t 2021-04-02 03:14:56 & 28                  & 0.62785014          & a                  \\\\\n",
       "\t 2021-04-02 00:13:56 & 29                  & 0.89431986          & u                  \\\\\n",
       "\t 2021-04-01 10:09:18 & 30                  & 0.07948754          & t                  \\\\\n",
       "\t ... & ... & ... & ...\\\\\n",
       "\t 2021-04-02 03:23:29 &  971                & 0.86198591          & r                  \\\\\n",
       "\t 2021-04-02 00:22:41 &  972                & 0.37916969          & y                  \\\\\n",
       "\t 2021-04-02 04:53:52 &  973                & 0.32136416          & e                  \\\\\n",
       "\t 2021-04-01 13:27:55 &  974                & 0.39078975          & y                  \\\\\n",
       "\t 2021-04-01 11:56:39 &  975                & 0.19289537          & h                  \\\\\n",
       "\t 2021-04-02 00:35:14 &  976                & 0.99294623          & h                  \\\\\n",
       "\t 2021-04-01 23:24:41 &  977                & 0.56113625          & j                  \\\\\n",
       "\t 2021-04-01 14:02:25 &  978                & 0.09164669          & u                  \\\\\n",
       "\t 2021-04-02 05:57:21 &  979                & 0.66951808          & t                  \\\\\n",
       "\t 2021-04-02 06:12:07 &  980                & 0.70086929          & a                  \\\\\n",
       "\t 2021-04-02 04:23:45 &  981                & 0.23741929          & e                  \\\\\n",
       "\t 2021-04-01 23:16:11 &  982                & 0.07956933          & o                  \\\\\n",
       "\t 2021-04-02 02:57:43 &  983                & 0.70992841          & m                  \\\\\n",
       "\t 2021-04-02 09:36:43 &  984                & 0.45712084          & h                  \\\\\n",
       "\t 2021-04-02 06:11:32 &  985                & 0.65980959          & n                  \\\\\n",
       "\t 2021-04-02 03:26:18 &  986                & 0.48449986          & a                  \\\\\n",
       "\t 2021-04-02 01:58:29 &  987                & 0.40856546          & o                  \\\\\n",
       "\t 2021-04-02 01:38:57 &  988                & 0.76834159          & z                  \\\\\n",
       "\t 2021-04-02 05:18:02 &  989                & 0.35643360          & x                  \\\\\n",
       "\t 2021-04-01 14:24:45 &  990                & 0.81288419          & e                  \\\\\n",
       "\t 2021-04-01 13:57:14 &  991                & 0.60419731          & q                  \\\\\n",
       "\t 2021-04-01 19:21:22 &  992                & 0.15075887          & c                  \\\\\n",
       "\t 2021-04-01 13:42:29 &  993                & 0.49608588          & v                  \\\\\n",
       "\t 2021-04-01 21:35:29 &  994                & 0.39619690          & l                  \\\\\n",
       "\t 2021-04-02 05:43:00 &  995                & 0.40884982          & f                  \\\\\n",
       "\t 2021-04-01 10:09:13 &  996                & 0.30839186          & n                  \\\\\n",
       "\t 2021-04-02 05:39:04 &  997                & 0.97227773          & v                  \\\\\n",
       "\t 2021-04-02 04:36:37 &  998                & 0.29764478          & u                  \\\\\n",
       "\t 2021-04-02 01:16:54 &  999                & 0.91945401          & l                  \\\\\n",
       "\t 2021-04-01 20:22:57 & 1000                & 0.94582352          & o                  \\\\\n",
       "\\end{tabular}\n"
      ],
      "text/markdown": [
       "\n",
       "| a | b | c | d |\n",
       "|---|---|---|---|\n",
       "| 2021-04-02 03:02:21 |  1                  | 0.56474157          | b                   |\n",
       "| 2021-04-01 23:11:52 |  2                  | 0.91914289          | i                   |\n",
       "| 2021-04-01 20:25:35 |  3                  | 0.04455831          | s                   |\n",
       "| 2021-04-01 23:57:45 |  4                  | 0.39174457          | b                   |\n",
       "| 2021-04-01 21:16:56 |  5                  | 0.60292345          | w                   |\n",
       "| 2021-04-02 09:11:12 |  6                  | 0.15493198          | w                   |\n",
       "| 2021-04-01 11:13:59 |  7                  | 0.60528881          | t                   |\n",
       "| 2021-04-01 18:46:01 |  8                  | 0.79624783          | q                   |\n",
       "| 2021-04-01 20:19:30 |  9                  | 0.81872890          | o                   |\n",
       "| 2021-04-02 04:51:52 | 10                  | 0.02346892          | p                   |\n",
       "| 2021-04-01 12:01:48 | 11                  | 0.03488493          | s                   |\n",
       "| 2021-04-01 22:50:26 | 12                  | 0.11190827          | o                   |\n",
       "| 2021-04-01 20:13:17 | 13                  | 0.73676438          | w                   |\n",
       "| 2021-04-02 03:20:21 | 14                  | 0.59239909          | g                   |\n",
       "| 2021-04-01 16:46:50 | 15                  | 0.71974719          | s                   |\n",
       "| 2021-04-02 08:29:24 | 16                  | 0.18981713          | k                   |\n",
       "| 2021-04-02 00:25:52 | 17                  | 0.57871268          | p                   |\n",
       "| 2021-04-01 18:27:18 | 18                  | 0.28880110          | b                   |\n",
       "| 2021-04-01 13:10:27 | 19                  | 0.43555155          | w                   |\n",
       "| 2021-04-01 13:58:05 | 20                  | 0.74356313          | o                   |\n",
       "| 2021-04-02 01:30:46 | 21                  | 0.61173139          | n                   |\n",
       "| 2021-04-01 21:12:48 | 22                  | 0.06896195          | n                   |\n",
       "| 2021-04-02 00:23:39 | 23                  | 0.74318689          | n                   |\n",
       "| 2021-04-01 16:52:57 | 24                  | 0.82648767          | p                   |\n",
       "| 2021-04-02 08:32:45 | 25                  | 0.20048039          | i                   |\n",
       "| 2021-04-02 03:00:40 | 26                  | 0.26528143          | g                   |\n",
       "| 2021-04-01 19:52:55 | 27                  | 0.04830537          | l                   |\n",
       "| 2021-04-02 03:14:56 | 28                  | 0.62785014          | a                   |\n",
       "| 2021-04-02 00:13:56 | 29                  | 0.89431986          | u                   |\n",
       "| 2021-04-01 10:09:18 | 30                  | 0.07948754          | t                   |\n",
       "| ... | ... | ... | ... |\n",
       "| 2021-04-02 03:23:29 |  971                | 0.86198591          | r                   |\n",
       "| 2021-04-02 00:22:41 |  972                | 0.37916969          | y                   |\n",
       "| 2021-04-02 04:53:52 |  973                | 0.32136416          | e                   |\n",
       "| 2021-04-01 13:27:55 |  974                | 0.39078975          | y                   |\n",
       "| 2021-04-01 11:56:39 |  975                | 0.19289537          | h                   |\n",
       "| 2021-04-02 00:35:14 |  976                | 0.99294623          | h                   |\n",
       "| 2021-04-01 23:24:41 |  977                | 0.56113625          | j                   |\n",
       "| 2021-04-01 14:02:25 |  978                | 0.09164669          | u                   |\n",
       "| 2021-04-02 05:57:21 |  979                | 0.66951808          | t                   |\n",
       "| 2021-04-02 06:12:07 |  980                | 0.70086929          | a                   |\n",
       "| 2021-04-02 04:23:45 |  981                | 0.23741929          | e                   |\n",
       "| 2021-04-01 23:16:11 |  982                | 0.07956933          | o                   |\n",
       "| 2021-04-02 02:57:43 |  983                | 0.70992841          | m                   |\n",
       "| 2021-04-02 09:36:43 |  984                | 0.45712084          | h                   |\n",
       "| 2021-04-02 06:11:32 |  985                | 0.65980959          | n                   |\n",
       "| 2021-04-02 03:26:18 |  986                | 0.48449986          | a                   |\n",
       "| 2021-04-02 01:58:29 |  987                | 0.40856546          | o                   |\n",
       "| 2021-04-02 01:38:57 |  988                | 0.76834159          | z                   |\n",
       "| 2021-04-02 05:18:02 |  989                | 0.35643360          | x                   |\n",
       "| 2021-04-01 14:24:45 |  990                | 0.81288419          | e                   |\n",
       "| 2021-04-01 13:57:14 |  991                | 0.60419731          | q                   |\n",
       "| 2021-04-01 19:21:22 |  992                | 0.15075887          | c                   |\n",
       "| 2021-04-01 13:42:29 |  993                | 0.49608588          | v                   |\n",
       "| 2021-04-01 21:35:29 |  994                | 0.39619690          | l                   |\n",
       "| 2021-04-02 05:43:00 |  995                | 0.40884982          | f                   |\n",
       "| 2021-04-01 10:09:13 |  996                | 0.30839186          | n                   |\n",
       "| 2021-04-02 05:39:04 |  997                | 0.97227773          | v                   |\n",
       "| 2021-04-02 04:36:37 |  998                | 0.29764478          | u                   |\n",
       "| 2021-04-02 01:16:54 |  999                | 0.91945401          | l                   |\n",
       "| 2021-04-01 20:22:57 | 1000                | 0.94582352          | o                   |\n",
       "\n"
      ],
      "text/plain": [
       "     a                   b    c          d  \n",
       "1    2021-04-02 03:02:21  1   0.56474157 b  \n",
       "2    2021-04-01 23:11:52  2   0.91914289 i  \n",
       "3    2021-04-01 20:25:35  3   0.04455831 s  \n",
       "4    2021-04-01 23:57:45  4   0.39174457 b  \n",
       "5    2021-04-01 21:16:56  5   0.60292345 w  \n",
       "6    2021-04-02 09:11:12  6   0.15493198 w  \n",
       "7    2021-04-01 11:13:59  7   0.60528881 t  \n",
       "8    2021-04-01 18:46:01  8   0.79624783 q  \n",
       "9    2021-04-01 20:19:30  9   0.81872890 o  \n",
       "10   2021-04-02 04:51:52 10   0.02346892 p  \n",
       "11   2021-04-01 12:01:48 11   0.03488493 s  \n",
       "12   2021-04-01 22:50:26 12   0.11190827 o  \n",
       "13   2021-04-01 20:13:17 13   0.73676438 w  \n",
       "14   2021-04-02 03:20:21 14   0.59239909 g  \n",
       "15   2021-04-01 16:46:50 15   0.71974719 s  \n",
       "16   2021-04-02 08:29:24 16   0.18981713 k  \n",
       "17   2021-04-02 00:25:52 17   0.57871268 p  \n",
       "18   2021-04-01 18:27:18 18   0.28880110 b  \n",
       "19   2021-04-01 13:10:27 19   0.43555155 w  \n",
       "20   2021-04-01 13:58:05 20   0.74356313 o  \n",
       "21   2021-04-02 01:30:46 21   0.61173139 n  \n",
       "22   2021-04-01 21:12:48 22   0.06896195 n  \n",
       "23   2021-04-02 00:23:39 23   0.74318689 n  \n",
       "24   2021-04-01 16:52:57 24   0.82648767 p  \n",
       "25   2021-04-02 08:32:45 25   0.20048039 i  \n",
       "26   2021-04-02 03:00:40 26   0.26528143 g  \n",
       "27   2021-04-01 19:52:55 27   0.04830537 l  \n",
       "28   2021-04-02 03:14:56 28   0.62785014 a  \n",
       "29   2021-04-02 00:13:56 29   0.89431986 u  \n",
       "30   2021-04-01 10:09:18 30   0.07948754 t  \n",
       "...  ...                 ...  ...        ...\n",
       "971  2021-04-02 03:23:29  971 0.86198591 r  \n",
       "972  2021-04-02 00:22:41  972 0.37916969 y  \n",
       "973  2021-04-02 04:53:52  973 0.32136416 e  \n",
       "974  2021-04-01 13:27:55  974 0.39078975 y  \n",
       "975  2021-04-01 11:56:39  975 0.19289537 h  \n",
       "976  2021-04-02 00:35:14  976 0.99294623 h  \n",
       "977  2021-04-01 23:24:41  977 0.56113625 j  \n",
       "978  2021-04-01 14:02:25  978 0.09164669 u  \n",
       "979  2021-04-02 05:57:21  979 0.66951808 t  \n",
       "980  2021-04-02 06:12:07  980 0.70086929 a  \n",
       "981  2021-04-02 04:23:45  981 0.23741929 e  \n",
       "982  2021-04-01 23:16:11  982 0.07956933 o  \n",
       "983  2021-04-02 02:57:43  983 0.70992841 m  \n",
       "984  2021-04-02 09:36:43  984 0.45712084 h  \n",
       "985  2021-04-02 06:11:32  985 0.65980959 n  \n",
       "986  2021-04-02 03:26:18  986 0.48449986 a  \n",
       "987  2021-04-02 01:58:29  987 0.40856546 o  \n",
       "988  2021-04-02 01:38:57  988 0.76834159 z  \n",
       "989  2021-04-02 05:18:02  989 0.35643360 x  \n",
       "990  2021-04-01 14:24:45  990 0.81288419 e  \n",
       "991  2021-04-01 13:57:14  991 0.60419731 q  \n",
       "992  2021-04-01 19:21:22  992 0.15075887 c  \n",
       "993  2021-04-01 13:42:29  993 0.49608588 v  \n",
       "994  2021-04-01 21:35:29  994 0.39619690 l  \n",
       "995  2021-04-02 05:43:00  995 0.40884982 f  \n",
       "996  2021-04-01 10:09:13  996 0.30839186 n  \n",
       "997  2021-04-02 05:39:04  997 0.97227773 v  \n",
       "998  2021-04-02 04:36:37  998 0.29764478 u  \n",
       "999  2021-04-02 01:16:54  999 0.91945401 l  \n",
       "1000 2021-04-01 20:22:57 1000 0.94582352 o  "
      ]
     },
     "metadata": {},
     "output_type": "display_data"
    }
   ],
   "source": [
    "atb"
   ]
  },
  {
   "cell_type": "markdown",
   "metadata": {},
   "source": [
    "#### subsetting"
   ]
  },
  {
   "cell_type": "markdown",
   "metadata": {},
   "source": [
    "- tibbles can extract by name or position"
   ]
  },
  {
   "cell_type": "code",
   "execution_count": 62,
   "metadata": {},
   "outputs": [],
   "source": [
    "tb1 <- tibble( x = runif(5),\n",
    "               y = rnorm(5))"
   ]
  },
  {
   "cell_type": "code",
   "execution_count": 65,
   "metadata": {},
   "outputs": [
    {
     "data": {
      "text/html": [
       "<ol class=list-inline>\n",
       "\t<li>0.392385989660397</li>\n",
       "\t<li>0.988451675744727</li>\n",
       "\t<li>0.348684495314956</li>\n",
       "\t<li>0.256705771898851</li>\n",
       "\t<li>0.445836138911545</li>\n",
       "</ol>\n"
      ],
      "text/latex": [
       "\\begin{enumerate*}\n",
       "\\item 0.392385989660397\n",
       "\\item 0.988451675744727\n",
       "\\item 0.348684495314956\n",
       "\\item 0.256705771898851\n",
       "\\item 0.445836138911545\n",
       "\\end{enumerate*}\n"
      ],
      "text/markdown": [
       "1. 0.392385989660397\n",
       "2. 0.988451675744727\n",
       "3. 0.348684495314956\n",
       "4. 0.256705771898851\n",
       "5. 0.445836138911545\n",
       "\n",
       "\n"
      ],
      "text/plain": [
       "[1] 0.3923860 0.9884517 0.3486845 0.2567058 0.4458361"
      ]
     },
     "metadata": {},
     "output_type": "display_data"
    },
    {
     "data": {
      "text/html": [
       "<ol class=list-inline>\n",
       "\t<li>0.392385989660397</li>\n",
       "\t<li>0.988451675744727</li>\n",
       "\t<li>0.348684495314956</li>\n",
       "\t<li>0.256705771898851</li>\n",
       "\t<li>0.445836138911545</li>\n",
       "</ol>\n"
      ],
      "text/latex": [
       "\\begin{enumerate*}\n",
       "\\item 0.392385989660397\n",
       "\\item 0.988451675744727\n",
       "\\item 0.348684495314956\n",
       "\\item 0.256705771898851\n",
       "\\item 0.445836138911545\n",
       "\\end{enumerate*}\n"
      ],
      "text/markdown": [
       "1. 0.392385989660397\n",
       "2. 0.988451675744727\n",
       "3. 0.348684495314956\n",
       "4. 0.256705771898851\n",
       "5. 0.445836138911545\n",
       "\n",
       "\n"
      ],
      "text/plain": [
       "[1] 0.3923860 0.9884517 0.3486845 0.2567058 0.4458361"
      ]
     },
     "metadata": {},
     "output_type": "display_data"
    }
   ],
   "source": [
    "#Extract by names\n",
    "tb1$x\n",
    "\n",
    "tb1[[\"x\"]]"
   ]
  },
  {
   "cell_type": "code",
   "execution_count": 66,
   "metadata": {},
   "outputs": [
    {
     "data": {
      "text/html": [
       "<ol class=list-inline>\n",
       "\t<li>0.392385989660397</li>\n",
       "\t<li>0.988451675744727</li>\n",
       "\t<li>0.348684495314956</li>\n",
       "\t<li>0.256705771898851</li>\n",
       "\t<li>0.445836138911545</li>\n",
       "</ol>\n"
      ],
      "text/latex": [
       "\\begin{enumerate*}\n",
       "\\item 0.392385989660397\n",
       "\\item 0.988451675744727\n",
       "\\item 0.348684495314956\n",
       "\\item 0.256705771898851\n",
       "\\item 0.445836138911545\n",
       "\\end{enumerate*}\n"
      ],
      "text/markdown": [
       "1. 0.392385989660397\n",
       "2. 0.988451675744727\n",
       "3. 0.348684495314956\n",
       "4. 0.256705771898851\n",
       "5. 0.445836138911545\n",
       "\n",
       "\n"
      ],
      "text/plain": [
       "[1] 0.3923860 0.9884517 0.3486845 0.2567058 0.4458361"
      ]
     },
     "metadata": {},
     "output_type": "display_data"
    }
   ],
   "source": [
    "# Extract by position\n",
    "tb1[[1]]"
   ]
  },
  {
   "cell_type": "markdown",
   "metadata": {},
   "source": [
    "- tibbles are more strict than data.frame: they never do partial matching, and they will generate a warning if the column you are trying to access does not exist"
   ]
  },
  {
   "cell_type": "code",
   "execution_count": 67,
   "metadata": {},
   "outputs": [],
   "source": [
    "tdc <- as_tibble(dc)"
   ]
  },
  {
   "cell_type": "code",
   "execution_count": 70,
   "metadata": {},
   "outputs": [
    {
     "data": {
      "text/html": [
       "<ol class=list-inline>\n",
       "\t<li>M</li>\n",
       "\t<li>F</li>\n",
       "\t<li>M</li>\n",
       "\t<li>M</li>\n",
       "\t<li>M</li>\n",
       "\t<li>M</li>\n",
       "\t<li>M</li>\n",
       "\t<li>M</li>\n",
       "\t<li>F</li>\n",
       "\t<li>F</li>\n",
       "\t<li>M</li>\n",
       "\t<li>F</li>\n",
       "</ol>\n",
       "\n",
       "<details>\n",
       "\t<summary style=display:list-item;cursor:pointer>\n",
       "\t\t<strong>Levels</strong>:\n",
       "\t</summary>\n",
       "\t<ol class=list-inline>\n",
       "\t\t<li>'F'</li>\n",
       "\t\t<li>'M'</li>\n",
       "\t</ol>\n",
       "</details>"
      ],
      "text/latex": [
       "\\begin{enumerate*}\n",
       "\\item M\n",
       "\\item F\n",
       "\\item M\n",
       "\\item M\n",
       "\\item M\n",
       "\\item M\n",
       "\\item M\n",
       "\\item M\n",
       "\\item F\n",
       "\\item F\n",
       "\\item M\n",
       "\\item F\n",
       "\\end{enumerate*}\n",
       "\n",
       "\\emph{Levels}: \\begin{enumerate*}\n",
       "\\item 'F'\n",
       "\\item 'M'\n",
       "\\end{enumerate*}\n"
      ],
      "text/markdown": [
       "1. M\n",
       "2. F\n",
       "3. M\n",
       "4. M\n",
       "5. M\n",
       "6. M\n",
       "7. M\n",
       "8. M\n",
       "9. F\n",
       "10. F\n",
       "11. M\n",
       "12. F\n",
       "\n",
       "\n",
       "\n",
       "**Levels**: 1. 'F'\n",
       "2. 'M'\n",
       "\n",
       "\n"
      ],
      "text/plain": [
       " [1] M F M M M M M M F F M F\n",
       "Levels: F M"
      ]
     },
     "metadata": {},
     "output_type": "display_data"
    },
    {
     "data": {
      "text/html": [
       "<ol class=list-inline>\n",
       "\t<li>M</li>\n",
       "\t<li>F</li>\n",
       "\t<li>M</li>\n",
       "\t<li>M</li>\n",
       "\t<li>M</li>\n",
       "\t<li>M</li>\n",
       "\t<li>M</li>\n",
       "\t<li>M</li>\n",
       "\t<li>F</li>\n",
       "\t<li>F</li>\n",
       "\t<li>M</li>\n",
       "\t<li>F</li>\n",
       "</ol>\n",
       "\n",
       "<details>\n",
       "\t<summary style=display:list-item;cursor:pointer>\n",
       "\t\t<strong>Levels</strong>:\n",
       "\t</summary>\n",
       "\t<ol class=list-inline>\n",
       "\t\t<li>'F'</li>\n",
       "\t\t<li>'M'</li>\n",
       "\t</ol>\n",
       "</details>"
      ],
      "text/latex": [
       "\\begin{enumerate*}\n",
       "\\item M\n",
       "\\item F\n",
       "\\item M\n",
       "\\item M\n",
       "\\item M\n",
       "\\item M\n",
       "\\item M\n",
       "\\item M\n",
       "\\item F\n",
       "\\item F\n",
       "\\item M\n",
       "\\item F\n",
       "\\end{enumerate*}\n",
       "\n",
       "\\emph{Levels}: \\begin{enumerate*}\n",
       "\\item 'F'\n",
       "\\item 'M'\n",
       "\\end{enumerate*}\n"
      ],
      "text/markdown": [
       "1. M\n",
       "2. F\n",
       "3. M\n",
       "4. M\n",
       "5. M\n",
       "6. M\n",
       "7. M\n",
       "8. M\n",
       "9. F\n",
       "10. F\n",
       "11. M\n",
       "12. F\n",
       "\n",
       "\n",
       "\n",
       "**Levels**: 1. 'F'\n",
       "2. 'M'\n",
       "\n",
       "\n"
      ],
      "text/plain": [
       " [1] M F M M M M M M F F M F\n",
       "Levels: F M"
      ]
     },
     "metadata": {},
     "output_type": "display_data"
    }
   ],
   "source": [
    "dc$gender\n",
    "\n",
    "dc$gen"
   ]
  },
  {
   "cell_type": "code",
   "execution_count": 71,
   "metadata": {},
   "outputs": [
    {
     "data": {
      "text/html": [
       "<ol class=list-inline>\n",
       "\t<li>M</li>\n",
       "\t<li>F</li>\n",
       "\t<li>M</li>\n",
       "\t<li>M</li>\n",
       "\t<li>M</li>\n",
       "\t<li>M</li>\n",
       "\t<li>M</li>\n",
       "\t<li>M</li>\n",
       "\t<li>F</li>\n",
       "\t<li>F</li>\n",
       "\t<li>M</li>\n",
       "\t<li>F</li>\n",
       "</ol>\n",
       "\n",
       "<details>\n",
       "\t<summary style=display:list-item;cursor:pointer>\n",
       "\t\t<strong>Levels</strong>:\n",
       "\t</summary>\n",
       "\t<ol class=list-inline>\n",
       "\t\t<li>'F'</li>\n",
       "\t\t<li>'M'</li>\n",
       "\t</ol>\n",
       "</details>"
      ],
      "text/latex": [
       "\\begin{enumerate*}\n",
       "\\item M\n",
       "\\item F\n",
       "\\item M\n",
       "\\item M\n",
       "\\item M\n",
       "\\item M\n",
       "\\item M\n",
       "\\item M\n",
       "\\item F\n",
       "\\item F\n",
       "\\item M\n",
       "\\item F\n",
       "\\end{enumerate*}\n",
       "\n",
       "\\emph{Levels}: \\begin{enumerate*}\n",
       "\\item 'F'\n",
       "\\item 'M'\n",
       "\\end{enumerate*}\n"
      ],
      "text/markdown": [
       "1. M\n",
       "2. F\n",
       "3. M\n",
       "4. M\n",
       "5. M\n",
       "6. M\n",
       "7. M\n",
       "8. M\n",
       "9. F\n",
       "10. F\n",
       "11. M\n",
       "12. F\n",
       "\n",
       "\n",
       "\n",
       "**Levels**: 1. 'F'\n",
       "2. 'M'\n",
       "\n",
       "\n"
      ],
      "text/plain": [
       " [1] M F M M M M M M F F M F\n",
       "Levels: F M"
      ]
     },
     "metadata": {},
     "output_type": "display_data"
    },
    {
     "name": "stderr",
     "output_type": "stream",
     "text": [
      "Warning message:\n",
      "“Unknown or uninitialised column: 'gen'.”"
     ]
    },
    {
     "data": {
      "text/plain": [
       "NULL"
      ]
     },
     "metadata": {},
     "output_type": "display_data"
    }
   ],
   "source": [
    "tdc$gender\n",
    "\n",
    "tdc$gen"
   ]
  },
  {
   "cell_type": "markdown",
   "metadata": {},
   "source": [
    "### Data Input"
   ]
  },
  {
   "cell_type": "markdown",
   "metadata": {},
   "source": [
    "- numbers can be <span style=\"color:blue\">inputed</span> through the <span style=\"color:blue\">keyboard</span>, from an external <span style=\"color:blue\">file on disk</span>, or from an external <span style=\"color:blue\">file on the web</span>.\n",
    "- use the concatenate function for up to 10 numbers\n",
    "- and <span style=\"color:blue\">scan()</span> for typing or pasting data into a vector"
   ]
  },
  {
   "cell_type": "code",
   "execution_count": 76,
   "metadata": {},
   "outputs": [],
   "source": [
    " y <- c(6,7,3,4,8,5,6,2)"
   ]
  },
  {
   "cell_type": "code",
   "execution_count": 79,
   "metadata": {},
   "outputs": [
    {
     "data": {
      "text/html": [],
      "text/latex": [],
      "text/markdown": [],
      "text/plain": [
       "numeric(0)"
      ]
     },
     "metadata": {},
     "output_type": "display_data"
    }
   ],
   "source": [
    "tu <- scan()\n",
    "tu"
   ]
  },
  {
   "cell_type": "markdown",
   "metadata": {},
   "source": [
    "- but the easiest way is to <span style=\"color:blue\">read data from a file</span> (or from the Web), already shaped in a data frame format"
   ]
  },
  {
   "cell_type": "markdown",
   "metadata": {},
   "source": [
    "#### read.table()"
   ]
  },
  {
   "cell_type": "markdown",
   "metadata": {},
   "source": [
    "- the read.table() function reads data from a local file and creates a data frame"
   ]
  },
  {
   "cell_type": "code",
   "execution_count": 83,
   "metadata": {},
   "outputs": [],
   "source": [
    "data <- read.table(\"DATA/yield.txt\",header=T)"
   ]
  },
  {
   "cell_type": "code",
   "execution_count": 84,
   "metadata": {},
   "outputs": [
    {
     "data": {
      "text/html": [
       "<table>\n",
       "<thead><tr><th scope=col>year</th><th scope=col>wheat</th><th scope=col>barley</th><th scope=col>oats</th><th scope=col>rye</th><th scope=col>corn</th></tr></thead>\n",
       "<tbody>\n",
       "\t<tr><td>1980</td><td>5.9 </td><td>4.4 </td><td>4.1 </td><td>3.8 </td><td>4.4 </td></tr>\n",
       "\t<tr><td>1981</td><td>5.8 </td><td>4.4 </td><td>4.3 </td><td>3.7 </td><td>4.1 </td></tr>\n",
       "\t<tr><td>1982</td><td>6.2 </td><td>4.9 </td><td>4.4 </td><td>4.1 </td><td>4.0 </td></tr>\n",
       "</tbody>\n",
       "</table>\n"
      ],
      "text/latex": [
       "\\begin{tabular}{r|llllll}\n",
       " year & wheat & barley & oats & rye & corn\\\\\n",
       "\\hline\n",
       "\t 1980 & 5.9  & 4.4  & 4.1  & 3.8  & 4.4 \\\\\n",
       "\t 1981 & 5.8  & 4.4  & 4.3  & 3.7  & 4.1 \\\\\n",
       "\t 1982 & 6.2  & 4.9  & 4.4  & 4.1  & 4.0 \\\\\n",
       "\\end{tabular}\n"
      ],
      "text/markdown": [
       "\n",
       "| year | wheat | barley | oats | rye | corn |\n",
       "|---|---|---|---|---|---|\n",
       "| 1980 | 5.9  | 4.4  | 4.1  | 3.8  | 4.4  |\n",
       "| 1981 | 5.8  | 4.4  | 4.3  | 3.7  | 4.1  |\n",
       "| 1982 | 6.2  | 4.9  | 4.4  | 4.1  | 4.0  |\n",
       "\n"
      ],
      "text/plain": [
       "  year wheat barley oats rye corn\n",
       "1 1980 5.9   4.4    4.1  3.8 4.4 \n",
       "2 1981 5.8   4.4    4.3  3.7 4.1 \n",
       "3 1982 6.2   4.9    4.4  4.1 4.0 "
      ]
     },
     "metadata": {},
     "output_type": "display_data"
    }
   ],
   "source": [
    "data"
   ]
  },
  {
   "cell_type": "markdown",
   "metadata": {},
   "source": [
    "- the parameter header = T tells R to use the first row as column names"
   ]
  },
  {
   "cell_type": "code",
   "execution_count": 85,
   "metadata": {},
   "outputs": [
    {
     "data": {
      "text/html": [
       "<ol class=list-inline>\n",
       "\t<li>'year'</li>\n",
       "\t<li>'wheat'</li>\n",
       "\t<li>'barley'</li>\n",
       "\t<li>'oats'</li>\n",
       "\t<li>'rye'</li>\n",
       "\t<li>'corn'</li>\n",
       "</ol>\n"
      ],
      "text/latex": [
       "\\begin{enumerate*}\n",
       "\\item 'year'\n",
       "\\item 'wheat'\n",
       "\\item 'barley'\n",
       "\\item 'oats'\n",
       "\\item 'rye'\n",
       "\\item 'corn'\n",
       "\\end{enumerate*}\n"
      ],
      "text/markdown": [
       "1. 'year'\n",
       "2. 'wheat'\n",
       "3. 'barley'\n",
       "4. 'oats'\n",
       "5. 'rye'\n",
       "6. 'corn'\n",
       "\n",
       "\n"
      ],
      "text/plain": [
       "[1] \"year\"   \"wheat\"  \"barley\" \"oats\"   \"rye\"    \"corn\"  "
      ]
     },
     "metadata": {},
     "output_type": "display_data"
    }
   ],
   "source": [
    "names(data)"
   ]
  },
  {
   "cell_type": "code",
   "execution_count": 86,
   "metadata": {},
   "outputs": [
    {
     "name": "stdout",
     "output_type": "stream",
     "text": [
      "'data.frame':\t3 obs. of  6 variables:\n",
      " $ year  : int  1980 1981 1982\n",
      " $ wheat : num  5.9 5.8 6.2\n",
      " $ barley: num  4.4 4.4 4.9\n",
      " $ oats  : num  4.1 4.3 4.4\n",
      " $ rye   : num  3.8 3.7 4.1\n",
      " $ corn  : num  4.4 4.1 4\n"
     ]
    }
   ],
   "source": [
    "str(data)"
   ]
  },
  {
   "cell_type": "markdown",
   "metadata": {},
   "source": [
    "- if the separator between variable names and data fields are not blanks or tabs, (\\t), a different separator can be specified with the set=\",\" option"
   ]
  },
  {
   "cell_type": "code",
   "execution_count": 92,
   "metadata": {},
   "outputs": [],
   "source": [
    "datav <- read.table(\"DATA/bowens.csv\",sep=\",\", header=T)"
   ]
  },
  {
   "cell_type": "code",
   "execution_count": 93,
   "metadata": {},
   "outputs": [
    {
     "name": "stdout",
     "output_type": "stream",
     "text": [
      "'data.frame':\t3 obs. of  3 variables:\n",
      " $ place: Factor w/ 3 levels \"Abingdon\",\"Admoor Copse\",..: 1 2 3\n",
      " $ east : int  50 60 48\n",
      " $ north: int  97 70 3\n"
     ]
    }
   ],
   "source": [
    "str(datav)"
   ]
  },
  {
   "cell_type": "markdown",
   "metadata": {},
   "source": [
    "##### separators and decimal points"
   ]
  },
  {
   "cell_type": "markdown",
   "metadata": {},
   "source": [
    "- the default field separator character in read.table() is sep=\" \": which identifies with one or more spaces, one or more tabs (\\t), and one or more newlines (\\n)\n",
    "\n",
    "- for comma-separated fields use read.csv()\n",
    "- for semicolon-separated fields use read.csv2()\n",
    "- for tab-delimited fields with decimal points as a commas, use read.delim2()"
   ]
  },
  {
   "cell_type": "code",
   "execution_count": 96,
   "metadata": {},
   "outputs": [],
   "source": [
    "bw <- read.csv(\"DATA/bowens.csv\")"
   ]
  },
  {
   "cell_type": "code",
   "execution_count": 97,
   "metadata": {},
   "outputs": [
    {
     "name": "stdout",
     "output_type": "stream",
     "text": [
      "'data.frame':\t3 obs. of  3 variables:\n",
      " $ place: Factor w/ 3 levels \"Abingdon\",\"Admoor Copse\",..: 1 2 3\n",
      " $ east : int  50 60 48\n",
      " $ north: int  97 70 3\n"
     ]
    }
   ],
   "source": [
    "str(bw)"
   ]
  },
  {
   "cell_type": "markdown",
   "metadata": {},
   "source": [
    "#### read.csv() and read.delim()"
   ]
  },
  {
   "cell_type": "markdown",
   "metadata": {},
   "source": [
    "- additional functions to read a file in table format exist"
   ]
  },
  {
   "cell_type": "code",
   "execution_count": 98,
   "metadata": {},
   "outputs": [],
   "source": [
    "?read.table"
   ]
  },
  {
   "cell_type": "markdown",
   "metadata": {},
   "source": [
    "- further detailed instructions in the 'R Data Import/Export' manual:<span style=\"color:blue\">https://cran.r-project.org/doc/manuals/r-release/R-data.html\n",
    "</span>"
   ]
  },
  {
   "cell_type": "markdown",
   "metadata": {},
   "source": [
    "#### Data input from Web and from DB"
   ]
  },
  {
   "cell_type": "markdown",
   "metadata": {},
   "source": [
    "- R can read data from the network using HHTP by specifying the file URL"
   ]
  },
  {
   "cell_type": "code",
   "execution_count": 101,
   "metadata": {},
   "outputs": [],
   "source": [
    "wc <- read.table(\"https://tinyurl.com/murders-txt\", header = T)"
   ]
  },
  {
   "cell_type": "code",
   "execution_count": 102,
   "metadata": {},
   "outputs": [
    {
     "name": "stdout",
     "output_type": "stream",
     "text": [
      "'data.frame':\t50 obs. of  4 variables:\n",
      " $ state     : Factor w/ 50 levels \"Alabama\",\"Alaska\",..: 1 2 3 4 5 6 7 8 9 10 ...\n",
      " $ population: int  3615 365 2212 2110 21198 2541 3100 579 8277 4931 ...\n",
      " $ murder    : num  15.1 11.3 7.8 10.1 10.3 6.8 3.1 6.2 10.7 13.9 ...\n",
      " $ region    : Factor w/ 4 levels \"North.Central\",..: 3 4 4 3 4 4 2 3 3 3 ...\n"
     ]
    }
   ],
   "source": [
    "str(wc)"
   ]
  },
  {
   "cell_type": "markdown",
   "metadata": {},
   "source": [
    "- several packages available on CRAN to help R communicate with DBMS's:\n",
    "\n",
    "    combining a unified 'font-end' package with a 'back-end' module, several common relational databases can be accessed (RMySQL, ROracle, RPostgreSQL and RSQLite)\n",
    "    \n",
    "    \n",
    "- finally, R can read binary data files: NASA's HDF5 (Hierarchical Data Format <span style=\"color:blue\">https://www.hdfgroup.org/HDF5/\n",
    "</span>)and UCAR's netCDF data files (network Common Data Form, <span style=\"color:blue\">http://www.unidata.ucar.edu/software/netcdf/\n",
    "</span>\n",
    "\n",
    "\n",
    "- and image files"
   ]
  },
  {
   "cell_type": "markdown",
   "metadata": {},
   "source": [
    "##### example"
   ]
  },
  {
   "cell_type": "markdown",
   "metadata": {},
   "source": [
    "- let's retrieve the latest data on the COVID-19 Virus infection from the European Centers for Disease Control <span style=\"color:blue\">https://www.ecdc.europa.eu/en</span>\n",
    "\n",
    "- R can read data from the network using HTTP by specifying the file URL"
   ]
  },
  {
   "cell_type": "markdown",
   "metadata": {},
   "source": [
    "- we dowload an EXCEL file\n",
    "- we use the following packages:  <span style=\"color:blue\">lubridate</span>, <span style=\"color:blue\">curl</span> and <span style=\"color:blue\">readxl</span>"
   ]
  },
  {
   "cell_type": "code",
   "execution_count": 106,
   "metadata": {},
   "outputs": [
    {
     "name": "stderr",
     "output_type": "stream",
     "text": [
      "target: https://www.ecdc.europa.eu/sites/default/files/documents/COVID-19-geographic-disbtribution-worldwide-2021-03-31.xlsx\n"
     ]
    }
   ],
   "source": [
    "url <- \"https://www.ecdc.europa.eu/sites/default/files/documents/\"\n",
    "fname <- \"COVID-19-geographic-disbtribution-worldwide-\"\n",
    "date <- lubridate::today() -1\n",
    "ext = \".xlsx\"\n",
    "target  <- paste(url,fname,date,ext,sep=\"\")\n",
    "message(\"target: \", target)"
   ]
  },
  {
   "cell_type": "code",
   "execution_count": 109,
   "metadata": {},
   "outputs": [
    {
     "ename": "ERROR",
     "evalue": "Error in curl::curl_download(target, destfile = tmp_file): HTTP error 404.\n",
     "output_type": "error",
     "traceback": [
      "Error in curl::curl_download(target, destfile = tmp_file): HTTP error 404.\nTraceback:\n",
      "1. curl::curl_download(target, destfile = tmp_file)"
     ]
    }
   ],
   "source": [
    "tmp_file <- tempfile(\"data\", \"/tmp\",fileext=ext)\n",
    "tmp <- curl::curl_download(target, destfile=tmp_file)"
   ]
  },
  {
   "cell_type": "markdown",
   "metadata": {},
   "source": [
    "- data are imported in a tibble data structure"
   ]
  },
  {
   "cell_type": "code",
   "execution_count": 110,
   "metadata": {},
   "outputs": [
    {
     "ename": "ERROR",
     "evalue": "Error: Evaluation error: zip file '/tmp/data1ecf26ccccb0.xlsx' cannot be opened.\n",
     "output_type": "error",
     "traceback": [
      "Error: Evaluation error: zip file '/tmp/data1ecf26ccccb0.xlsx' cannot be opened.\nTraceback:\n",
      "1. readxl::read_xlsx(tmp_file)",
      "2. read_excel_(path = path, sheet = sheet, range = range, col_names = col_names, \n .     col_types = col_types, na = na, trim_ws = trim_ws, skip = skip, \n .     n_max = n_max, guess_max = guess_max, progress = progress, \n .     .name_repair = .name_repair, format = \"xlsx\")",
      "3. set_readxl_names(read_fun(path = enc2native(normalizePath(path)), \n .     sheet_i = sheet, limits = limits, shim = shim, col_names = col_names, \n .     col_types = col_types, na = na, trim_ws = trim_ws, guess_max = guess_max, \n .     progress = progress), .name_repair = .name_repair)",
      "4. tibble::as_tibble(l, .name_repair = .name_repair)",
      "5. read_fun(path = enc2native(normalizePath(path)), sheet_i = sheet, \n .     limits = limits, shim = shim, col_names = col_names, col_types = col_types, \n .     na = na, trim_ws = trim_ws, guess_max = guess_max, progress = progress)"
     ]
    }
   ],
   "source": [
    "(data <- readxl::read_xlsx(tmp_file))"
   ]
  },
  {
   "cell_type": "code",
   "execution_count": null,
   "metadata": {},
   "outputs": [],
   "source": []
  }
 ],
 "metadata": {
  "kernelspec": {
   "display_name": "R [conda env:r-tutorial]",
   "language": "R",
   "name": "conda-env-r-tutorial-r"
  },
  "language_info": {
   "codemirror_mode": "r",
   "file_extension": ".r",
   "mimetype": "text/x-r-source",
   "name": "R",
   "pygments_lexer": "r",
   "version": "3.6.1"
  },
  "toc": {
   "base_numbering": 1,
   "nav_menu": {},
   "number_sections": true,
   "sideBar": true,
   "skip_h1_title": false,
   "title_cell": "Table of Contents",
   "title_sidebar": "Contents",
   "toc_cell": false,
   "toc_position": {
    "height": "calc(100% - 180px)",
    "left": "10px",
    "top": "150px",
    "width": "165px"
   },
   "toc_section_display": true,
   "toc_window_display": false
  }
 },
 "nbformat": 4,
 "nbformat_minor": 4
}
