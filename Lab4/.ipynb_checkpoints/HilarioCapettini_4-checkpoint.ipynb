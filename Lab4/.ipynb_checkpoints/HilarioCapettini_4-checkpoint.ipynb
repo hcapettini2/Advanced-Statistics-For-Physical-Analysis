{
 "cells": [
  {
   "cell_type": "markdown",
   "metadata": {},
   "source": [
    "# Laboratory session 04\n",
    "\n",
    " Capettini Hilario (Matricola N. 2013031)"
   ]
  },
  {
   "cell_type": "markdown",
   "metadata": {},
   "source": [
    "## Six Boxes Toy Model : inference\n"
   ]
  },
  {
   "cell_type": "markdown",
   "metadata": {},
   "source": [
    "- The six boxes toy model is described in reference [1].\n",
    "\n",
    "- Labeling the boxes as follows:\n",
    "\n",
    "<img src=\"Images\\boxes.png\">\n",
    "\n",
    "- write a program in R that:\n"
   ]
  },
  {
   "cell_type": "markdown",
   "metadata": {},
   "source": [
    "### allows the user to insert the color of a randomly extracted box and\n"
   ]
  },
  {
   "cell_type": "code",
   "execution_count": 1,
   "metadata": {
    "scrolled": true
   },
   "outputs": [
    {
     "name": "stderr",
     "output_type": "stream",
     "text": [
      "── Attaching packages ─────────────────────────────────────── tidyverse 1.3.0 ──\n",
      "✔ ggplot2 3.3.3     ✔ dplyr   1.0.5\n",
      "✔ tidyr   1.1.3     ✔ stringr 1.4.0\n",
      "✔ readr   1.3.1     ✔ forcats 0.4.0\n",
      "✔ purrr   0.3.4     \n",
      "── Conflicts ────────────────────────────────────────── tidyverse_conflicts() ──\n",
      "✖ dplyr::filter() masks stats::filter()\n",
      "✖ dplyr::lag()    masks stats::lag()\n",
      "\n",
      "Attaching package: ‘magrittr’\n",
      "\n",
      "The following object is masked from ‘package:purrr’:\n",
      "\n",
      "    set_names\n",
      "\n",
      "The following object is masked from ‘package:tidyr’:\n",
      "\n",
      "    extract\n",
      "\n"
     ]
    }
   ],
   "source": [
    "library(\"tibble\")\n",
    "library(\"tidyverse\")\n",
    "library(\"magrittr\")"
   ]
  },
  {
   "cell_type": "code",
   "execution_count": 2,
   "metadata": {},
   "outputs": [],
   "source": [
    "SBTM <- function(color,prior){\n",
    "        #Initialize lk\n",
    "        lk <- vector(mode =\"double\",length=6)\n",
    "    \n",
    "        #Estimate likelihood\n",
    "        for (j in c(0:5)){\n",
    "            if (color =='w')     {lk[j+1] <- j/5}\n",
    "            else if (color =='b'){lk[j+1] <- (5-j)/5}\n",
    "        }\n",
    "        \n",
    "        #Estimate the evidence\n",
    "        ev <- lk%*%prior\n",
    "    \n",
    "        posterior <- lk*prior/as.vector(ev)\n",
    "        return(posterior)\n",
    "}"
   ]
  },
  {
   "cell_type": "code",
   "execution_count": 3,
   "metadata": {},
   "outputs": [
    {
     "data": {
      "text/html": [
       "<ol class=list-inline>\n",
       "\t<li>0.167</li>\n",
       "\t<li>0.167</li>\n",
       "\t<li>0.167</li>\n",
       "\t<li>0.167</li>\n",
       "\t<li>0.167</li>\n",
       "\t<li>0.167</li>\n",
       "</ol>\n"
      ],
      "text/latex": [
       "\\begin{enumerate*}\n",
       "\\item 0.167\n",
       "\\item 0.167\n",
       "\\item 0.167\n",
       "\\item 0.167\n",
       "\\item 0.167\n",
       "\\item 0.167\n",
       "\\end{enumerate*}\n"
      ],
      "text/markdown": [
       "1. 0.167\n",
       "2. 0.167\n",
       "3. 0.167\n",
       "4. 0.167\n",
       "5. 0.167\n",
       "6. 0.167\n",
       "\n",
       "\n"
      ],
      "text/plain": [
       "[1] 0.167 0.167 0.167 0.167 0.167 0.167"
      ]
     },
     "metadata": {},
     "output_type": "display_data"
    },
    {
     "data": {
      "text/html": [
       "<ol class=list-inline>\n",
       "\t<li>0</li>\n",
       "\t<li>0.0666666666666667</li>\n",
       "\t<li>0.133333333333333</li>\n",
       "\t<li>0.2</li>\n",
       "\t<li>0.266666666666667</li>\n",
       "\t<li>0.333333333333333</li>\n",
       "</ol>\n"
      ],
      "text/latex": [
       "\\begin{enumerate*}\n",
       "\\item 0\n",
       "\\item 0.0666666666666667\n",
       "\\item 0.133333333333333\n",
       "\\item 0.2\n",
       "\\item 0.266666666666667\n",
       "\\item 0.333333333333333\n",
       "\\end{enumerate*}\n"
      ],
      "text/markdown": [
       "1. 0\n",
       "2. 0.0666666666666667\n",
       "3. 0.133333333333333\n",
       "4. 0.2\n",
       "5. 0.266666666666667\n",
       "6. 0.333333333333333\n",
       "\n",
       "\n"
      ],
      "text/plain": [
       "[1] 0.00000000 0.06666667 0.13333333 0.20000000 0.26666667 0.33333333"
      ]
     },
     "metadata": {},
     "output_type": "display_data"
    }
   ],
   "source": [
    "a <- rep(0.167,6)\n",
    "a\n",
    "SBTM('w',a)"
   ]
  },
  {
   "cell_type": "markdown",
   "metadata": {},
   "source": [
    "### prints on the standard output the probability of selecting each box\n"
   ]
  },
  {
   "cell_type": "code",
   "execution_count": 10,
   "metadata": {
    "scrolled": true
   },
   "outputs": [
    {
     "name": "stdout",
     "output_type": "stream",
     "text": [
      "Enter a color (w or b): w\n",
      "  k H0         H1        H2  H3        H4        H5\n",
      "1 1  0 0.06666667 0.1333333 0.2 0.2666667 0.3333333\n",
      "Enter a color (w or b): b\n",
      "  k H0         H1        H2  H3        H4        H5\n",
      "1 1  0 0.06666667 0.1333333 0.2 0.2666667 0.3333333\n",
      "2 2  0 0.20000000 0.3000000 0.3 0.2000000 0.0000000\n",
      "Enter a color (w or b): b\n",
      "  k H0         H1        H2   H3        H4        H5\n",
      "1 1  0 0.06666667 0.1333333 0.20 0.2666667 0.3333333\n",
      "2 2  0 0.20000000 0.3000000 0.30 0.2000000 0.0000000\n",
      "3 3  0 0.32000000 0.3600000 0.24 0.0800000 0.0000000\n",
      "Enter a color (w or b): b\n",
      "  k H0         H1        H2        H3         H4        H5\n",
      "1 1  0 0.06666667 0.1333333 0.2000000 0.26666667 0.3333333\n",
      "2 2  0 0.20000000 0.3000000 0.3000000 0.20000000 0.0000000\n",
      "3 3  0 0.32000000 0.3600000 0.2400000 0.08000000 0.0000000\n",
      "4 4  0 0.43835616 0.3698630 0.1643836 0.02739726 0.0000000\n",
      "Enter a color (w or b): w\n",
      "  k H0         H1        H2        H3         H4        H5\n",
      "1 1  0 0.06666667 0.1333333 0.2000000 0.26666667 0.3333333\n",
      "2 2  0 0.20000000 0.3000000 0.3000000 0.20000000 0.0000000\n",
      "3 3  0 0.32000000 0.3600000 0.2400000 0.08000000 0.0000000\n",
      "4 4  0 0.43835616 0.3698630 0.1643836 0.02739726 0.0000000\n",
      "5 5  0 0.24615385 0.4153846 0.2769231 0.06153846 0.0000000\n",
      "Enter a color (w or b): w\n",
      "  k H0         H1        H2        H3         H4        H5\n",
      "1 1  0 0.06666667 0.1333333 0.2000000 0.26666667 0.3333333\n",
      "2 2  0 0.20000000 0.3000000 0.3000000 0.20000000 0.0000000\n",
      "3 3  0 0.32000000 0.3600000 0.2400000 0.08000000 0.0000000\n",
      "4 4  0 0.43835616 0.3698630 0.1643836 0.02739726 0.0000000\n",
      "5 5  0 0.24615385 0.4153846 0.2769231 0.06153846 0.0000000\n",
      "6 6  0 0.11428571 0.3857143 0.3857143 0.11428571 0.0000000\n",
      "Enter a color (w or b): b\n",
      "  k H0         H1        H2        H3         H4        H5\n",
      "1 1  0 0.06666667 0.1333333 0.2000000 0.26666667 0.3333333\n",
      "2 2  0 0.20000000 0.3000000 0.3000000 0.20000000 0.0000000\n",
      "3 3  0 0.32000000 0.3600000 0.2400000 0.08000000 0.0000000\n",
      "4 4  0 0.43835616 0.3698630 0.1643836 0.02739726 0.0000000\n",
      "5 5  0 0.24615385 0.4153846 0.2769231 0.06153846 0.0000000\n",
      "6 6  0 0.11428571 0.3857143 0.3857143 0.11428571 0.0000000\n",
      "7 7  0 0.18285714 0.4628571 0.3085714 0.04571429 0.0000000\n",
      "Enter a color (w or b): b\n",
      "  k H0         H1        H2        H3         H4        H5\n",
      "1 1  0 0.06666667 0.1333333 0.2000000 0.26666667 0.3333333\n",
      "2 2  0 0.20000000 0.3000000 0.3000000 0.20000000 0.0000000\n",
      "3 3  0 0.32000000 0.3600000 0.2400000 0.08000000 0.0000000\n",
      "4 4  0 0.43835616 0.3698630 0.1643836 0.02739726 0.0000000\n",
      "5 5  0 0.24615385 0.4153846 0.2769231 0.06153846 0.0000000\n",
      "6 6  0 0.11428571 0.3857143 0.3857143 0.11428571 0.0000000\n",
      "7 7  0 0.18285714 0.4628571 0.3085714 0.04571429 0.0000000\n",
      "8 8  0 0.26283368 0.4989733 0.2217659 0.01642710 0.0000000\n",
      "Enter a color (w or b): b\n",
      "  k H0         H1        H2        H3          H4        H5\n",
      "1 1  0 0.06666667 0.1333333 0.2000000 0.266666667 0.3333333\n",
      "2 2  0 0.20000000 0.3000000 0.3000000 0.200000000 0.0000000\n",
      "3 3  0 0.32000000 0.3600000 0.2400000 0.080000000 0.0000000\n",
      "4 4  0 0.43835616 0.3698630 0.1643836 0.027397260 0.0000000\n",
      "5 5  0 0.24615385 0.4153846 0.2769231 0.061538462 0.0000000\n",
      "6 6  0 0.11428571 0.3857143 0.3857143 0.114285714 0.0000000\n",
      "7 7  0 0.18285714 0.4628571 0.3085714 0.045714286 0.0000000\n",
      "8 8  0 0.26283368 0.4989733 0.2217659 0.016427105 0.0000000\n",
      "9 9  0 0.34948805 0.4976109 0.1474403 0.005460751 0.0000000\n",
      "Enter a color (w or b): b\n",
      "    k H0         H1        H2         H3          H4        H5\n",
      "1   1  0 0.06666667 0.1333333 0.20000000 0.266666667 0.3333333\n",
      "2   2  0 0.20000000 0.3000000 0.30000000 0.200000000 0.0000000\n",
      "3   3  0 0.32000000 0.3600000 0.24000000 0.080000000 0.0000000\n",
      "4   4  0 0.43835616 0.3698630 0.16438356 0.027397260 0.0000000\n",
      "5   5  0 0.24615385 0.4153846 0.27692308 0.061538462 0.0000000\n",
      "6   6  0 0.11428571 0.3857143 0.38571429 0.114285714 0.0000000\n",
      "7   7  0 0.18285714 0.4628571 0.30857143 0.045714286 0.0000000\n",
      "8   8  0 0.26283368 0.4989733 0.22176591 0.016427105 0.0000000\n",
      "9   9  0 0.34948805 0.4976109 0.14744027 0.005460751 0.0000000\n",
      "10 10  0 0.43807487 0.4678075 0.09240642 0.001711230 0.0000000\n",
      "Enter a color (w or b): exit\n"
     ]
    }
   ],
   "source": [
    "#We initialize the prior\n",
    "initial_prior <- rep(0.167,6)\n",
    "\n",
    "#Initialize a matrix to keep the results\n",
    "results <- tibble(\n",
    "  k  = numeric(),\n",
    "  H0 = numeric(),\n",
    "  H1 = numeric(),\n",
    "  H2 = numeric(),\n",
    "  H3 = numeric(),\n",
    "  H4 = numeric(),\n",
    "  H5 = numeric()  \n",
    ")\n",
    "\n",
    "a <- initial_prior\n",
    "\n",
    "for (i in c(1:100)){\n",
    "    #this read your measurement\n",
    "    measure <- readline(prompt=\"Enter a color (w or b): \")\n",
    "    if (measure !='w' && measure !='b') {break}\n",
    "    \n",
    "    a <- SBTM(measure,a)\n",
    "    results %<>% add_row(k = i, H0 = a[1], H1 = a[2], H2 = a[3],H3 = a[4],H4 = a[5],H5 = a[6])\n",
    "    Sys.sleep(0.1)\n",
    "    print.data.frame(results)\n",
    "    cat('')\n",
    "    flush.console()\n",
    "    #print(results)\n",
    "}"
   ]
  },
  {
   "cell_type": "code",
   "execution_count": 11,
   "metadata": {},
   "outputs": [
    {
     "data": {
      "text/html": [
       "<table>\n",
       "<thead><tr><th scope=col>k</th><th scope=col>H0</th><th scope=col>H1</th><th scope=col>H2</th><th scope=col>H3</th><th scope=col>H4</th><th scope=col>H5</th></tr></thead>\n",
       "<tbody>\n",
       "\t<tr><td> 1         </td><td>0          </td><td>0.06666667 </td><td>0.1333333  </td><td>0.20000000 </td><td>0.266666667</td><td>0.3333333  </td></tr>\n",
       "\t<tr><td> 2         </td><td>0          </td><td>0.20000000 </td><td>0.3000000  </td><td>0.30000000 </td><td>0.200000000</td><td>0.0000000  </td></tr>\n",
       "\t<tr><td> 3         </td><td>0          </td><td>0.32000000 </td><td>0.3600000  </td><td>0.24000000 </td><td>0.080000000</td><td>0.0000000  </td></tr>\n",
       "\t<tr><td> 4         </td><td>0          </td><td>0.43835616 </td><td>0.3698630  </td><td>0.16438356 </td><td>0.027397260</td><td>0.0000000  </td></tr>\n",
       "\t<tr><td> 5         </td><td>0          </td><td>0.24615385 </td><td>0.4153846  </td><td>0.27692308 </td><td>0.061538462</td><td>0.0000000  </td></tr>\n",
       "\t<tr><td> 6         </td><td>0          </td><td>0.11428571 </td><td>0.3857143  </td><td>0.38571429 </td><td>0.114285714</td><td>0.0000000  </td></tr>\n",
       "\t<tr><td> 7         </td><td>0          </td><td>0.18285714 </td><td>0.4628571  </td><td>0.30857143 </td><td>0.045714286</td><td>0.0000000  </td></tr>\n",
       "\t<tr><td> 8         </td><td>0          </td><td>0.26283368 </td><td>0.4989733  </td><td>0.22176591 </td><td>0.016427105</td><td>0.0000000  </td></tr>\n",
       "\t<tr><td> 9         </td><td>0          </td><td>0.34948805 </td><td>0.4976109  </td><td>0.14744027 </td><td>0.005460751</td><td>0.0000000  </td></tr>\n",
       "\t<tr><td>10         </td><td>0          </td><td>0.43807487 </td><td>0.4678075  </td><td>0.09240642 </td><td>0.001711230</td><td>0.0000000  </td></tr>\n",
       "</tbody>\n",
       "</table>\n"
      ],
      "text/latex": [
       "\\begin{tabular}{r|lllllll}\n",
       " k & H0 & H1 & H2 & H3 & H4 & H5\\\\\n",
       "\\hline\n",
       "\t  1          & 0           & 0.06666667  & 0.1333333   & 0.20000000  & 0.266666667 & 0.3333333  \\\\\n",
       "\t  2          & 0           & 0.20000000  & 0.3000000   & 0.30000000  & 0.200000000 & 0.0000000  \\\\\n",
       "\t  3          & 0           & 0.32000000  & 0.3600000   & 0.24000000  & 0.080000000 & 0.0000000  \\\\\n",
       "\t  4          & 0           & 0.43835616  & 0.3698630   & 0.16438356  & 0.027397260 & 0.0000000  \\\\\n",
       "\t  5          & 0           & 0.24615385  & 0.4153846   & 0.27692308  & 0.061538462 & 0.0000000  \\\\\n",
       "\t  6          & 0           & 0.11428571  & 0.3857143   & 0.38571429  & 0.114285714 & 0.0000000  \\\\\n",
       "\t  7          & 0           & 0.18285714  & 0.4628571   & 0.30857143  & 0.045714286 & 0.0000000  \\\\\n",
       "\t  8          & 0           & 0.26283368  & 0.4989733   & 0.22176591  & 0.016427105 & 0.0000000  \\\\\n",
       "\t  9          & 0           & 0.34948805  & 0.4976109   & 0.14744027  & 0.005460751 & 0.0000000  \\\\\n",
       "\t 10          & 0           & 0.43807487  & 0.4678075   & 0.09240642  & 0.001711230 & 0.0000000  \\\\\n",
       "\\end{tabular}\n"
      ],
      "text/markdown": [
       "\n",
       "| k | H0 | H1 | H2 | H3 | H4 | H5 |\n",
       "|---|---|---|---|---|---|---|\n",
       "|  1          | 0           | 0.06666667  | 0.1333333   | 0.20000000  | 0.266666667 | 0.3333333   |\n",
       "|  2          | 0           | 0.20000000  | 0.3000000   | 0.30000000  | 0.200000000 | 0.0000000   |\n",
       "|  3          | 0           | 0.32000000  | 0.3600000   | 0.24000000  | 0.080000000 | 0.0000000   |\n",
       "|  4          | 0           | 0.43835616  | 0.3698630   | 0.16438356  | 0.027397260 | 0.0000000   |\n",
       "|  5          | 0           | 0.24615385  | 0.4153846   | 0.27692308  | 0.061538462 | 0.0000000   |\n",
       "|  6          | 0           | 0.11428571  | 0.3857143   | 0.38571429  | 0.114285714 | 0.0000000   |\n",
       "|  7          | 0           | 0.18285714  | 0.4628571   | 0.30857143  | 0.045714286 | 0.0000000   |\n",
       "|  8          | 0           | 0.26283368  | 0.4989733   | 0.22176591  | 0.016427105 | 0.0000000   |\n",
       "|  9          | 0           | 0.34948805  | 0.4976109   | 0.14744027  | 0.005460751 | 0.0000000   |\n",
       "| 10          | 0           | 0.43807487  | 0.4678075   | 0.09240642  | 0.001711230 | 0.0000000   |\n",
       "\n"
      ],
      "text/plain": [
       "   k  H0 H1         H2        H3         H4          H5       \n",
       "1   1 0  0.06666667 0.1333333 0.20000000 0.266666667 0.3333333\n",
       "2   2 0  0.20000000 0.3000000 0.30000000 0.200000000 0.0000000\n",
       "3   3 0  0.32000000 0.3600000 0.24000000 0.080000000 0.0000000\n",
       "4   4 0  0.43835616 0.3698630 0.16438356 0.027397260 0.0000000\n",
       "5   5 0  0.24615385 0.4153846 0.27692308 0.061538462 0.0000000\n",
       "6   6 0  0.11428571 0.3857143 0.38571429 0.114285714 0.0000000\n",
       "7   7 0  0.18285714 0.4628571 0.30857143 0.045714286 0.0000000\n",
       "8   8 0  0.26283368 0.4989733 0.22176591 0.016427105 0.0000000\n",
       "9   9 0  0.34948805 0.4976109 0.14744027 0.005460751 0.0000000\n",
       "10 10 0  0.43807487 0.4678075 0.09240642 0.001711230 0.0000000"
      ]
     },
     "metadata": {},
     "output_type": "display_data"
    }
   ],
   "source": [
    "results"
   ]
  },
  {
   "cell_type": "markdown",
   "metadata": {},
   "source": [
    "### plots the probability for each box as a function of the extraction step\n"
   ]
  },
  {
   "cell_type": "code",
   "execution_count": 12,
   "metadata": {},
   "outputs": [
    {
     "name": "stderr",
     "output_type": "stream",
     "text": [
      "Loading required package: sysfonts\n",
      "Loading required package: showtextdb\n",
      "\n",
      "Attaching package: ‘scales’\n",
      "\n",
      "The following object is masked from ‘package:purrr’:\n",
      "\n",
      "    discard\n",
      "\n",
      "The following object is masked from ‘package:readr’:\n",
      "\n",
      "    col_factor\n",
      "\n"
     ]
    }
   ],
   "source": [
    "library(showtext)\n",
    "showtext_auto()\n",
    "library(\"scales\")\n",
    "\n",
    "set_plot_dimensions <- function(width_choice, height_choice) {\n",
    "        options(repr.plot.width=width_choice, repr.plot.height=height_choice)\n",
    "        }"
   ]
  },
  {
   "cell_type": "code",
   "execution_count": 51,
   "metadata": {},
   "outputs": [
    {
     "data": {
      "image/png": "[encoded data removed]",
      "text/plain": [
       "plot without title"
      ]
     },
     "metadata": {},
     "output_type": "display_data"
    }
   ],
   "source": [
    "set_plot_dimensions(8, 4)\n",
    "\n",
    "ggplot() + \n",
    "  geom_line(data=results, aes(x=k,y = H0,color = \"darkblue\")) + \n",
    "  geom_line(data=results, aes(x=k,y = H1,color = \"red\")) + \n",
    "  geom_line(data=results, aes(x=k,y = H2,color = \"darkorange\")) +\n",
    "  geom_line(data=results, aes(x=k,y = H3,color = \"green\")) +\n",
    "  geom_line(data=results, aes(x=k,y = H4,color = \"black\")) +\n",
    "  geom_line(data=results, aes(x=k,y = H5,color = \"yellow\")) +\n",
    "       \n",
    "  labs(title =\"LALALAND\")+\n",
    "  ylab(\"Probability\") + xlab(\"Step\")+\n",
    "  scale_color_discrete(name = \"Y series\", labels = c(\"H0\", \"H1\", \"H2\", \"H3\", \"H4\", \"H5\"))+\n",
    "  scale_x_continuous(breaks = pretty_breaks())"
   ]
  },
  {
   "cell_type": "markdown",
   "metadata": {},
   "source": [
    "## Six Boxes Toy Model : simulation\n"
   ]
  },
  {
   "cell_type": "markdown",
   "metadata": {},
   "source": [
    "- consider again the six boxes toy model of the previous exercise and write a simulation program that:\n"
   ]
  },
  {
   "cell_type": "markdown",
   "metadata": {},
   "source": [
    "### selects a random box\n"
   ]
  },
  {
   "cell_type": "code",
   "execution_count": null,
   "metadata": {},
   "outputs": [],
   "source": []
  },
  {
   "cell_type": "markdown",
   "metadata": {},
   "source": [
    "### makes random sampling from the box\n"
   ]
  },
  {
   "cell_type": "code",
   "execution_count": null,
   "metadata": {},
   "outputs": [],
   "source": []
  },
  {
   "cell_type": "markdown",
   "metadata": {},
   "source": [
    "### prints on the standard output the probability of selecting each box\n"
   ]
  },
  {
   "cell_type": "code",
   "execution_count": null,
   "metadata": {},
   "outputs": [],
   "source": []
  },
  {
   "cell_type": "markdown",
   "metadata": {},
   "source": [
    "### plots the probability for each box as a function of the number of trial\n"
   ]
  },
  {
   "cell_type": "code",
   "execution_count": null,
   "metadata": {},
   "outputs": [],
   "source": []
  },
  {
   "cell_type": "markdown",
   "metadata": {},
   "source": [
    "## Exercise"
   ]
  },
  {
   "cell_type": "markdown",
   "metadata": {},
   "source": [
    "- An important property of the gamma distribution is the so-called reproductive property\n",
    "\n",
    "- given a sequence of independent random variable $X_j ∼ Gamma(\\alpha_j , \\beta)$, it follows that\n",
    "\n",
    "$$ Y = \\sum_{j=1}^{n} X_j = Y ~ \\; \\text{Gamma}(\\alpha,\\beta) \\; \\text{where} \\; \\sum_{j=1}^n \\alpha_j$$\n",
    "\n",
    "\n",
    "-  if $\\alpha = m$ is an integer, a random variable from gamma distribution $Gamma(m, \\beta)$ (also known as Erlang distribution) can be obtained by summing m independent exponential random variables $X_j ∼ Exp(\\beta)$:\n",
    "\n",
    "$$ Ecuacion$$\n"
   ]
  },
  {
   "cell_type": "markdown",
   "metadata": {},
   "source": [
    "- a) write an algorithm to sample variables from an Erlang distribution Gamma$(m, \\beta)$\n"
   ]
  },
  {
   "cell_type": "code",
   "execution_count": null,
   "metadata": {},
   "outputs": [],
   "source": []
  },
  {
   "cell_type": "markdown",
   "metadata": {},
   "source": [
    "## Exercise"
   ]
  },
  {
   "cell_type": "markdown",
   "metadata": {},
   "source": [
    "-  one of the first random number generator was proposed by von Neumann, the so-called middle square algorithm\n",
    "\n",
    "\n",
    "-  write R code to implement this type of generator and, given a fixed digit number input, square it an remove the leading and trailing digits, in order to return a number with the same number of digits as the original number\n",
    "\n",
    "\n",
    "-  Suggestion : after having squared the number, convert it to a list of characters (number <- unlist(strsplit(as.character(x.squared),\"\"))) and, after having removed the head and tail of the list, convert it back to a number (as.numeric(paste(number.after.trimming, collapse=\"\")))\n"
   ]
  },
  {
   "cell_type": "code",
   "execution_count": null,
   "metadata": {},
   "outputs": [],
   "source": [
    "p <- function(algo){return(cat(algo))}"
   ]
  },
  {
   "cell_type": "code",
   "execution_count": null,
   "metadata": {},
   "outputs": [],
   "source": [
    "for (i in c(1:1000000)){p(i)}"
   ]
  },
  {
   "cell_type": "code",
   "execution_count": null,
   "metadata": {},
   "outputs": [],
   "source": []
  }
 ],
 "metadata": {
  "kernelspec": {
   "display_name": "R [conda env:r-tutorial]",
   "language": "R",
   "name": "conda-env-r-tutorial-r"
  },
  "language_info": {
   "codemirror_mode": "r",
   "file_extension": ".r",
   "mimetype": "text/x-r-source",
   "name": "R",
   "pygments_lexer": "r",
   "version": "3.6.1"
  },
  "toc": {
   "base_numbering": 1,
   "nav_menu": {},
   "number_sections": true,
   "sideBar": true,
   "skip_h1_title": false,
   "title_cell": "Table of Contents",
   "title_sidebar": "Contents",
   "toc_cell": false,
   "toc_position": {},
   "toc_section_display": true,
   "toc_window_display": false
  }
 },
 "nbformat": 4,
 "nbformat_minor": 4
}
