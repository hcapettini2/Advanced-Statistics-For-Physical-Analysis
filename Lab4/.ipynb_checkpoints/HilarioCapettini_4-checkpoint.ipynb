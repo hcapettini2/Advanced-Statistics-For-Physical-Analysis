{
 "cells": [
  {
   "cell_type": "markdown",
   "metadata": {},
   "source": [
    "# Laboratory session 04\n",
    "\n",
    " Capettini Hilario (Matricola N. 2013031)"
   ]
  },
  {
   "cell_type": "markdown",
   "metadata": {},
   "source": [
    "## Six Boxes Toy Model : inference\n"
   ]
  },
  {
   "cell_type": "markdown",
   "metadata": {},
   "source": [
    "- The six boxes toy model is described in reference [1].\n",
    "\n",
    "- Labeling the boxes as follows:\n",
    "\n",
    "<img src=\"Images\\boxes.png\">\n",
    "\n",
    "- write a program in R that:\n"
   ]
  },
  {
   "cell_type": "markdown",
   "metadata": {},
   "source": [
    "### allows the user to insert the color of a randomly extracted box and\n"
   ]
  },
  {
   "cell_type": "code",
   "execution_count": 6,
   "metadata": {
    "scrolled": true
   },
   "outputs": [
    {
     "name": "stderr",
     "output_type": "stream",
     "text": [
      "── Attaching packages ─────────────────────────────────────── tidyverse 1.3.0 ──\n",
      "✔ ggplot2 3.3.3     ✔ dplyr   1.0.5\n",
      "✔ tidyr   1.1.3     ✔ stringr 1.4.0\n",
      "✔ readr   1.3.1     ✔ forcats 0.4.0\n",
      "✔ purrr   0.3.4     \n",
      "── Conflicts ────────────────────────────────────────── tidyverse_conflicts() ──\n",
      "✖ readr::col_factor() masks scales::col_factor()\n",
      "✖ purrr::discard()    masks scales::discard()\n",
      "✖ dplyr::filter()     masks stats::filter()\n",
      "✖ dplyr::lag()        masks stats::lag()\n",
      "\n",
      "Attaching package: ‘magrittr’\n",
      "\n",
      "The following object is masked from ‘package:purrr’:\n",
      "\n",
      "    set_names\n",
      "\n",
      "The following object is masked from ‘package:tidyr’:\n",
      "\n",
      "    extract\n",
      "\n"
     ]
    }
   ],
   "source": [
    "library(\"tibble\")\n",
    "library(\"tidyverse\")\n",
    "library(\"magrittr\")"
   ]
  },
  {
   "cell_type": "markdown",
   "metadata": {},
   "source": [
    "ADD LITTLE EXPLANATION WITH FORMULAS"
   ]
  },
  {
   "cell_type": "code",
   "execution_count": 2,
   "metadata": {},
   "outputs": [],
   "source": [
    "SBTM <- function(color,prior){\n",
    "            #Initialize lk\n",
    "            lk <- vector(mode =\"double\",length=6)\n",
    "    \n",
    "            #Estimate likelihood\n",
    "            for (j in c(0:5)){\n",
    "                if (color =='w')     {lk[j+1] <- j/5}\n",
    "                else if (color =='b'){lk[j+1] <- (5-j)/5}\n",
    "            }\n",
    "        \n",
    "            #Estimate the evidence\n",
    "            ev <- lk%*%prior\n",
    "    \n",
    "            posterior <- lk*prior/as.vector(ev)\n",
    "            return(posterior)\n",
    "        }"
   ]
  },
  {
   "cell_type": "markdown",
   "metadata": {},
   "source": [
    "### prints on the standard output the probability of selecting each box\n"
   ]
  },
  {
   "cell_type": "markdown",
   "metadata": {},
   "source": [
    "The following cell allows the user to insert the colors in an iterative manner, the inputs\n",
    "must be w for white and b for black, any other input finish the process. \n",
    "\n",
    "After the new color insertion an updated table with the standard output is displayed."
   ]
  },
  {
   "cell_type": "code",
   "execution_count": 7,
   "metadata": {
    "scrolled": true
   },
   "outputs": [
    {
     "name": "stdout",
     "output_type": "stream",
     "text": [
      "Enter a color (w or b): w\n",
      " k H0    H1   H2  H3   H4   H5\n",
      " 1  0 0.067 0.13 0.2 0.27 0.33\n",
      "Enter a color (w or b): b\n",
      " k H0    H1   H2  H3   H4   H5\n",
      " 1  0 0.067 0.13 0.2 0.27 0.33\n",
      " 2  0 0.200 0.30 0.3 0.20 0.00\n",
      "Enter a color (w or b): b\n",
      " k H0    H1   H2   H3   H4   H5\n",
      " 1  0 0.067 0.13 0.20 0.27 0.33\n",
      " 2  0 0.200 0.30 0.30 0.20 0.00\n",
      " 3  0 0.320 0.36 0.24 0.08 0.00\n",
      "Enter a color (w or b): b\n",
      " k H0    H1   H2   H3    H4   H5\n",
      " 1  0 0.067 0.13 0.20 0.267 0.33\n",
      " 2  0 0.200 0.30 0.30 0.200 0.00\n",
      " 3  0 0.320 0.36 0.24 0.080 0.00\n",
      " 4  0 0.438 0.37 0.16 0.027 0.00\n",
      "Enter a color (w or b): w\n",
      " k H0    H1   H2   H3    H4   H5\n",
      " 1  0 0.067 0.13 0.20 0.267 0.33\n",
      " 2  0 0.200 0.30 0.30 0.200 0.00\n",
      " 3  0 0.320 0.36 0.24 0.080 0.00\n",
      " 4  0 0.438 0.37 0.16 0.027 0.00\n",
      " 5  0 0.246 0.42 0.28 0.062 0.00\n",
      "Enter a color (w or b): b\n",
      " k H0    H1   H2   H3    H4   H5\n",
      " 1  0 0.067 0.13 0.20 0.267 0.33\n",
      " 2  0 0.200 0.30 0.30 0.200 0.00\n",
      " 3  0 0.320 0.36 0.24 0.080 0.00\n",
      " 4  0 0.438 0.37 0.16 0.027 0.00\n",
      " 5  0 0.246 0.42 0.28 0.062 0.00\n",
      " 6  0 0.346 0.44 0.19 0.022 0.00\n",
      "Enter a color (w or b): b\n",
      " k H0    H1   H2   H3    H4   H5\n",
      " 1  0 0.067 0.13 0.20 0.267 0.33\n",
      " 2  0 0.200 0.30 0.30 0.200 0.00\n",
      " 3  0 0.320 0.36 0.24 0.080 0.00\n",
      " 4  0 0.438 0.37 0.16 0.027 0.00\n",
      " 5  0 0.246 0.42 0.28 0.062 0.00\n",
      " 6  0 0.346 0.44 0.19 0.022 0.00\n",
      " 7  0 0.445 0.42 0.13 0.007 0.00\n",
      "Enter a color (w or b): b\n",
      " k H0    H1   H2    H3     H4   H5\n",
      " 1  0 0.067 0.13 0.200 0.2667 0.33\n",
      " 2  0 0.200 0.30 0.300 0.2000 0.00\n",
      " 3  0 0.320 0.36 0.240 0.0800 0.00\n",
      " 4  0 0.438 0.37 0.164 0.0274 0.00\n",
      " 5  0 0.246 0.42 0.277 0.0615 0.00\n",
      " 6  0 0.346 0.44 0.195 0.0216 0.00\n",
      " 7  0 0.445 0.42 0.125 0.0070 0.00\n",
      " 8  0 0.539 0.38 0.076 0.0021 0.00\n",
      "Enter a color (w or b): b\n",
      " k H0    H1   H2    H3      H4   H5\n",
      " 1  0 0.067 0.13 0.200 0.26667 0.33\n",
      " 2  0 0.200 0.30 0.300 0.20000 0.00\n",
      " 3  0 0.320 0.36 0.240 0.08000 0.00\n",
      " 4  0 0.438 0.37 0.164 0.02740 0.00\n",
      " 5  0 0.246 0.42 0.277 0.06154 0.00\n",
      " 6  0 0.346 0.44 0.195 0.02162 0.00\n",
      " 7  0 0.445 0.42 0.125 0.00696 0.00\n",
      " 8  0 0.539 0.38 0.076 0.00210 0.00\n",
      " 9  0 0.623 0.33 0.044 0.00061 0.00\n",
      "Enter a color (w or b): w\n",
      "  k H0    H1   H2    H3      H4   H5\n",
      "  1  0 0.067 0.13 0.200 0.26667 0.33\n",
      "  2  0 0.200 0.30 0.300 0.20000 0.00\n",
      "  3  0 0.320 0.36 0.240 0.08000 0.00\n",
      "  4  0 0.438 0.37 0.164 0.02740 0.00\n",
      "  5  0 0.246 0.42 0.277 0.06154 0.00\n",
      "  6  0 0.346 0.44 0.195 0.02162 0.00\n",
      "  7  0 0.445 0.42 0.125 0.00696 0.00\n",
      "  8  0 0.539 0.38 0.076 0.00210 0.00\n",
      "  9  0 0.623 0.33 0.044 0.00061 0.00\n",
      " 10  0 0.438 0.47 0.092 0.00171 0.00\n",
      "Enter a color (w or b): \n"
     ]
    }
   ],
   "source": [
    "#We initialize the prior\n",
    "initial_prior <- rep(0.167,6)\n",
    "\n",
    "#Initialize a tibble to keep the results\n",
    "results <- tibble(\n",
    "  k  = numeric(),\n",
    "  H0 = numeric(),\n",
    "  H1 = numeric(),\n",
    "  H2 = numeric(),\n",
    "  H3 = numeric(),\n",
    "  H4 = numeric(),\n",
    "  H5 = numeric()  \n",
    ")\n",
    "\n",
    "a <- initial_prior\n",
    "\n",
    "for (i in c(1:100)){\n",
    "    #this read your measurement\n",
    "    cat('')\n",
    "    measure <- readline(prompt=\"Enter a color (w or b): \")\n",
    "    if (measure !='w' && measure !='b') {break}\n",
    "    \n",
    "    a <- SBTM(measure,a)\n",
    "    results %<>% add_row(k = i, H0 = a[1], H1 = a[2], H2 = a[3],H3 = a[4],H4 = a[5],H5 = a[6])\n",
    "    Sys.sleep(0.1)\n",
    "    print.data.frame(results,digits=2,row.names=FALSE)\n",
    "    cat('')\n",
    "    flush.console()\n",
    "    #print(results)\n",
    "}"
   ]
  },
  {
   "cell_type": "markdown",
   "metadata": {},
   "source": [
    "### plots the probability for each box as a function of the extraction step\n"
   ]
  },
  {
   "cell_type": "code",
   "execution_count": 64,
   "metadata": {},
   "outputs": [],
   "source": [
    "library(showtext)\n",
    "showtext_auto()\n",
    "library(\"scales\")\n",
    "\n",
    "set_plot_dimensions <- function(width_choice, height_choice) {\n",
    "        options(repr.plot.width=width_choice, repr.plot.height=height_choice)\n",
    "        }"
   ]
  },
  {
   "cell_type": "code",
   "execution_count": 9,
   "metadata": {},
   "outputs": [],
   "source": [
    "plt <- function(results){\n",
    "set_plot_dimensions(8, 3)\n",
    "colors <- c('H0' = \"#F8766D\", 'H1' = \"#7CAE00\", 'H2' = \"#00BFC4\", 'H3' = \"#C77CFF\", 'H4' = \"#1F77B4\", 'H5' = \"#D62728\")\n",
    "\n",
    "ggplot(results, aes(x = k)) +\n",
    "    geom_line (aes(y = H0, color = 'H0')) +\n",
    "    geom_point(aes(y = H0, color = 'H0')) +\n",
    "    geom_line (aes(y = H1, color = 'H1')) +\n",
    "    geom_point(aes(y = H1, color = 'H1')) +\n",
    "    geom_line (aes(y = H2, color = 'H2')) +\n",
    "    geom_point(aes(y = H2, color = 'H2')) +\n",
    "    geom_line (aes(y = H3, color = 'H3')) +\n",
    "    geom_point(aes(y = H3, color = 'H3')) +\n",
    "    geom_line (aes(y = H4, color = 'H4')) +\n",
    "    geom_point(aes(y = H4, color = 'H4')) +\n",
    "    geom_line (aes(y = H5, color = 'H5')) +\n",
    "    geom_point(aes(y = H5, color = 'H5')) +\n",
    "    labs(title =\"Probability of the hypothesis as a function of the steps\",\n",
    "         x = \"Step\",\n",
    "         y = \"Probability\",\n",
    "         color = \"Hypothesis\") +\n",
    "    scale_color_manual(values = colors)\n",
    "}"
   ]
  },
  {
   "cell_type": "code",
   "execution_count": 10,
   "metadata": {},
   "outputs": [
    {
     "data": {
      "image/png": "[encoded data removed]",
      "text/plain": [
       "plot without title"
      ]
     },
     "metadata": {},
     "output_type": "display_data"
    }
   ],
   "source": [
    "plt(results)"
   ]
  },
  {
   "cell_type": "markdown",
   "metadata": {},
   "source": [
    "## Six Boxes Toy Model : simulation\n"
   ]
  },
  {
   "cell_type": "markdown",
   "metadata": {},
   "source": [
    "- consider again the six boxes toy model of the previous exercise and write a simulation program that:\n"
   ]
  },
  {
   "cell_type": "markdown",
   "metadata": {},
   "source": [
    "### selects a random box\n"
   ]
  },
  {
   "cell_type": "code",
   "execution_count": 11,
   "metadata": {},
   "outputs": [],
   "source": [
    "#First I generate the 6 boxes with its content\n",
    "\n",
    "b0 <- c('w','w','w','w','w') \n",
    "b1 <- c('w','w','w','w','b') %>% sample(5)  # For the boxes with mixed elements\n",
    "b2 <- c('w','w','w','b','b') %>% sample(5)  # I suffle the content to loose the\n",
    "b3 <- c('w','w','b','b','b') %>% sample(5)  # the positional knowledge\n",
    "b4 <- c('w','b','b','b','b') %>% sample(5)\n",
    "b5 <- c('b','b','b','b','b')\n"
   ]
  },
  {
   "cell_type": "code",
   "execution_count": 12,
   "metadata": {},
   "outputs": [],
   "source": [
    "#Now I define a function than choose one of the boxes randomly\n",
    "r_box <- function(){\n",
    "    key <- runif(1)\n",
    "    d   <- 1/6\n",
    "    if (key <= d){\n",
    "            box <- b0\n",
    "    }else if (key > d && key <= 2*d){\n",
    "            box <- b1\n",
    "    }else if (key > 2*d && key <= 3*d){\n",
    "            box <- b2\n",
    "    }else if (key > 3*d && key <= 4*d){\n",
    "            box <- b3\n",
    "    }else if (key > 4*d && key <= 5*d){\n",
    "            box <- b4\n",
    "    }else if (key > 5*d && key <= d){\n",
    "            box <- b5\n",
    "    }\n",
    "    return(box)\n",
    "}"
   ]
  },
  {
   "cell_type": "code",
   "execution_count": 20,
   "metadata": {},
   "outputs": [],
   "source": [
    "#We get the random box\n",
    "box <- r_box()"
   ]
  },
  {
   "cell_type": "markdown",
   "metadata": {},
   "source": [
    "### makes random sampling from the box\n"
   ]
  },
  {
   "cell_type": "code",
   "execution_count": 21,
   "metadata": {},
   "outputs": [],
   "source": [
    "#Now I define a function that return n samples from a given box\n",
    "\n",
    "b_sampling <- function(n,bx){\n",
    "    sample <-vector(mode=\"character\")\n",
    "    for (i in c(1:n)){\n",
    "        sample <- append(sample,sample(box,1))\n",
    "    }\n",
    "    return(sample)\n",
    "}"
   ]
  },
  {
   "cell_type": "code",
   "execution_count": 22,
   "metadata": {},
   "outputs": [],
   "source": [
    "#Now we perform the random sampling\n",
    "\n",
    "sm <- b_sampling(100,bx)"
   ]
  },
  {
   "cell_type": "markdown",
   "metadata": {},
   "source": [
    "### prints on the standard output the probability of selecting each box\n"
   ]
  },
  {
   "cell_type": "code",
   "execution_count": 23,
   "metadata": {},
   "outputs": [],
   "source": [
    "#We initialize the prior\n",
    "initial_prior <- rep(0.167,6)\n",
    "\n",
    "#Initialize a tibble to keep the results\n",
    "results <- tibble(\n",
    "  k  = numeric(),\n",
    "  H0 = numeric(),\n",
    "  H1 = numeric(),\n",
    "  H2 = numeric(),\n",
    "  H3 = numeric(),\n",
    "  H4 = numeric(),\n",
    "  H5 = numeric()  \n",
    ")\n",
    "\n",
    "a <- initial_prior\n",
    "for (i in c(1:length(sm))){\n",
    "    measure <- sm[i]\n",
    "    if (measure !='w' && measure !='b') {break}\n",
    "    a <- SBTM(measure,a)\n",
    "    results %<>% add_row(k = i, H0 = a[1], H1 = a[2], H2 = a[3],H3 = a[4],H4 = a[5],H5 = a[6])\n",
    "}"
   ]
  },
  {
   "cell_type": "code",
   "execution_count": 24,
   "metadata": {
    "scrolled": true
   },
   "outputs": [
    {
     "data": {
      "text/html": [
       "<table>\n",
       "<thead><tr><th scope=col>k</th><th scope=col>H0</th><th scope=col>H1</th><th scope=col>H2</th><th scope=col>H3</th><th scope=col>H4</th><th scope=col>H5</th></tr></thead>\n",
       "<tbody>\n",
       "\t<tr><td> 1          </td><td>0           </td><td>6.666667e-02</td><td>1.333333e-01</td><td>2.000000e-01</td><td>0.266666667 </td><td>0.3333333   </td></tr>\n",
       "\t<tr><td> 2          </td><td>0           </td><td>1.818182e-02</td><td>7.272727e-02</td><td>1.636364e-01</td><td>0.290909091 </td><td>0.4545455   </td></tr>\n",
       "\t<tr><td> 3          </td><td>0           </td><td>4.444444e-03</td><td>3.555556e-02</td><td>1.200000e-01</td><td>0.284444444 </td><td>0.5555556   </td></tr>\n",
       "\t<tr><td> 4          </td><td>0           </td><td>1.021450e-03</td><td>1.634321e-02</td><td>8.273749e-02</td><td>0.261491318 </td><td>0.6384065   </td></tr>\n",
       "\t<tr><td> 5          </td><td>0           </td><td>2.259887e-04</td><td>7.231638e-03</td><td>5.491525e-02</td><td>0.231412429 </td><td>0.7062147   </td></tr>\n",
       "\t<tr><td> 6          </td><td>0           </td><td>4.874482e-05</td><td>3.119669e-03</td><td>3.553497e-02</td><td>0.199658786 </td><td>0.7616378   </td></tr>\n",
       "\t<tr><td> 7          </td><td>0           </td><td>1.032791e-05</td><td>1.321973e-03</td><td>2.258714e-02</td><td>0.169212497 </td><td>0.8068681   </td></tr>\n",
       "\t<tr><td> 8          </td><td>0           </td><td>2.159925e-06</td><td>5.529408e-04</td><td>1.417127e-02</td><td>0.141552857 </td><td>0.8437208   </td></tr>\n",
       "\t<tr><td> 9          </td><td>0           </td><td>4.473342e-07</td><td>2.290351e-04</td><td>8.804880e-03</td><td>0.117265983 </td><td>0.8736997   </td></tr>\n",
       "\t<tr><td>10          </td><td>0           </td><td>9.196015e-08</td><td>9.416720e-05</td><td>5.430155e-03</td><td>0.096427210 </td><td>0.8980484   </td></tr>\n",
       "\t<tr><td>11          </td><td>0           </td><td>1.879642e-08</td><td>3.849506e-05</td><td>3.329729e-03</td><td>0.078837893 </td><td>0.9177939   </td></tr>\n",
       "\t<tr><td>12          </td><td>0           </td><td>3.824774e-09</td><td>1.566627e-05</td><td>2.032642e-03</td><td>0.064169054 </td><td>0.9337826   </td></tr>\n",
       "\t<tr><td>13          </td><td>0           </td><td>7.755458e-10</td><td>6.353271e-06</td><td>1.236471e-03</td><td>0.052045997 </td><td>0.9467112   </td></tr>\n",
       "\t<tr><td>14          </td><td>0           </td><td>1.568197e-10</td><td>2.569334e-06</td><td>7.500637e-04</td><td>0.042095964 </td><td>0.9571514   </td></tr>\n",
       "\t<tr><td>15          </td><td>0           </td><td>3.163986e-11</td><td>1.036775e-06</td><td>4.539974e-04</td><td>0.033973042 </td><td>0.9655719   </td></tr>\n",
       "\t<tr><td>16          </td><td>0           </td><td>6.372432e-12</td><td>4.176237e-07</td><td>2.743123e-04</td><td>0.027369385 </td><td>0.9723559   </td></tr>\n",
       "\t<tr><td>17          </td><td>0           </td><td>1.281643e-12</td><td>1.679875e-07</td><td>1.655116e-04</td><td>0.022018456 </td><td>0.9778159   </td></tr>\n",
       "\t<tr><td>18          </td><td>0           </td><td>2.574795e-13</td><td>6.749670e-08</td><td>9.975283e-05</td><td>0.017693856 </td><td>0.9822063   </td></tr>\n",
       "\t<tr><td>19          </td><td>0           </td><td>5.168085e-14</td><td>2.709565e-08</td><td>6.006666e-05</td><td>0.014205924 </td><td>0.9857340   </td></tr>\n",
       "\t<tr><td>20          </td><td>0           </td><td>1.036587e-14</td><td>1.086940e-08</td><td>3.614356e-05</td><td>0.011397395 </td><td>0.9885665   </td></tr>\n",
       "\t<tr><td>21          </td><td>0           </td><td>2.077941e-15</td><td>4.357758e-09</td><td>2.173599e-05</td><td>0.009138880 </td><td>0.9908394   </td></tr>\n",
       "\t<tr><td>22          </td><td>0           </td><td>4.163528e-16</td><td>1.746310e-09</td><td>1.306559e-05</td><td>0.007324556 </td><td>0.9926624   </td></tr>\n",
       "\t<tr><td>23          </td><td>0           </td><td>8.339316e-17</td><td>6.995525e-10</td><td>7.850897e-06</td><td>0.005868272 </td><td>0.9941239   </td></tr>\n",
       "\t<tr><td>24          </td><td>0           </td><td>1.669828e-17</td><td>2.801507e-10</td><td>4.716088e-06</td><td>0.004700148 </td><td>0.9952951   </td></tr>\n",
       "\t<tr><td>25          </td><td>0           </td><td>3.342805e-18</td><td>1.121659e-10</td><td>2.832321e-06</td><td>0.003763664 </td><td>0.9962335   </td></tr>\n",
       "\t<tr><td>26          </td><td>0           </td><td>6.690654e-19</td><td>4.490022e-11</td><td>1.700674e-06</td><td>0.003013203 </td><td>0.9969851   </td></tr>\n",
       "\t<tr><td>27          </td><td>0           </td><td>1.338939e-19</td><td>1.797093e-11</td><td>1.021021e-06</td><td>0.002412017 </td><td>0.9975870   </td></tr>\n",
       "\t<tr><td>28          </td><td>0           </td><td>2.679171e-20</td><td>7.191844e-12</td><td>6.129083e-07</td><td>0.001930546 </td><td>0.9980688   </td></tr>\n",
       "\t<tr><td>29          </td><td>0           </td><td>5.360412e-21</td><td>2.877849e-12</td><td>3.678871e-07</td><td>0.001545034 </td><td>0.9984546   </td></tr>\n",
       "\t<tr><td>30          </td><td>0           </td><td>1.072414e-21</td><td>1.151496e-12</td><td>2.208005e-07</td><td>0.001236409 </td><td>0.9987634   </td></tr>\n",
       "\t<tr><td>...</td><td>...</td><td>...</td><td>...</td><td>...</td><td>...</td><td>...</td></tr>\n",
       "\t<tr><td> 71         </td><td>0           </td><td>2.361183e-50</td><td>5.575186e-29</td><td>1.773122e-16</td><td>1.316403e-07</td><td>0.9999999   </td></tr>\n",
       "\t<tr><td> 72         </td><td>0           </td><td>4.722366e-51</td><td>2.230074e-29</td><td>1.063873e-16</td><td>1.053123e-07</td><td>0.9999999   </td></tr>\n",
       "\t<tr><td> 73         </td><td>0           </td><td>9.444732e-52</td><td>8.920297e-30</td><td>6.383241e-17</td><td>8.424983e-08</td><td>0.9999999   </td></tr>\n",
       "\t<tr><td> 74         </td><td>0           </td><td>1.888946e-52</td><td>3.568119e-30</td><td>3.829945e-17</td><td>6.739986e-08</td><td>0.9999999   </td></tr>\n",
       "\t<tr><td> 75         </td><td>0           </td><td>3.777893e-53</td><td>1.427248e-30</td><td>2.297967e-17</td><td>5.391989e-08</td><td>0.9999999   </td></tr>\n",
       "\t<tr><td> 76         </td><td>0           </td><td>7.555786e-54</td><td>5.708991e-31</td><td>1.378780e-17</td><td>4.313591e-08</td><td>1.0000000   </td></tr>\n",
       "\t<tr><td> 77         </td><td>0           </td><td>1.511157e-54</td><td>2.283596e-31</td><td>8.272681e-18</td><td>3.450873e-08</td><td>1.0000000   </td></tr>\n",
       "\t<tr><td> 78         </td><td>0           </td><td>3.022314e-55</td><td>9.134385e-32</td><td>4.963608e-18</td><td>2.760698e-08</td><td>1.0000000   </td></tr>\n",
       "\t<tr><td> 79         </td><td>0           </td><td>6.044629e-56</td><td>3.653754e-32</td><td>2.978165e-18</td><td>2.208559e-08</td><td>1.0000000   </td></tr>\n",
       "\t<tr><td> 80         </td><td>0           </td><td>1.208926e-56</td><td>1.461502e-32</td><td>1.786899e-18</td><td>1.766847e-08</td><td>1.0000000   </td></tr>\n",
       "\t<tr><td> 81         </td><td>0           </td><td>2.417852e-57</td><td>5.846006e-33</td><td>1.072139e-18</td><td>1.413478e-08</td><td>1.0000000   </td></tr>\n",
       "\t<tr><td> 82         </td><td>0           </td><td>4.835703e-58</td><td>2.338403e-33</td><td>6.432837e-19</td><td>1.130782e-08</td><td>1.0000000   </td></tr>\n",
       "\t<tr><td> 83         </td><td>0           </td><td>9.671406e-59</td><td>9.353610e-34</td><td>3.859702e-19</td><td>9.046257e-09</td><td>1.0000000   </td></tr>\n",
       "\t<tr><td> 84         </td><td>0           </td><td>1.934281e-59</td><td>3.741444e-34</td><td>2.315821e-19</td><td>7.237006e-09</td><td>1.0000000   </td></tr>\n",
       "\t<tr><td> 85         </td><td>0           </td><td>3.868563e-60</td><td>1.496578e-34</td><td>1.389493e-19</td><td>5.789604e-09</td><td>1.0000000   </td></tr>\n",
       "\t<tr><td> 86         </td><td>0           </td><td>7.737125e-61</td><td>5.986311e-35</td><td>8.336956e-20</td><td>4.631684e-09</td><td>1.0000000   </td></tr>\n",
       "\t<tr><td> 87         </td><td>0           </td><td>1.547425e-61</td><td>2.394524e-35</td><td>5.002174e-20</td><td>3.705347e-09</td><td>1.0000000   </td></tr>\n",
       "\t<tr><td> 88         </td><td>0           </td><td>3.094850e-62</td><td>9.578097e-36</td><td>3.001304e-20</td><td>2.964277e-09</td><td>1.0000000   </td></tr>\n",
       "\t<tr><td> 89         </td><td>0           </td><td>6.189700e-63</td><td>3.831239e-36</td><td>1.800783e-20</td><td>2.371422e-09</td><td>1.0000000   </td></tr>\n",
       "\t<tr><td> 90         </td><td>0           </td><td>1.237940e-63</td><td>1.532496e-36</td><td>1.080470e-20</td><td>1.897138e-09</td><td>1.0000000   </td></tr>\n",
       "\t<tr><td> 91         </td><td>0           </td><td>2.475880e-64</td><td>6.129982e-37</td><td>6.482817e-21</td><td>1.517710e-09</td><td>1.0000000   </td></tr>\n",
       "\t<tr><td> 92         </td><td>0           </td><td>4.951760e-65</td><td>2.451993e-37</td><td>3.889690e-21</td><td>1.214168e-09</td><td>1.0000000   </td></tr>\n",
       "\t<tr><td> 93         </td><td>0           </td><td>9.903520e-66</td><td>9.807971e-38</td><td>2.333814e-21</td><td>9.713344e-10</td><td>1.0000000   </td></tr>\n",
       "\t<tr><td> 94         </td><td>0           </td><td>1.980704e-66</td><td>3.923189e-38</td><td>1.400289e-21</td><td>7.770676e-10</td><td>1.0000000   </td></tr>\n",
       "\t<tr><td> 95         </td><td>0           </td><td>3.961408e-67</td><td>1.569275e-38</td><td>8.401731e-22</td><td>6.216540e-10</td><td>1.0000000   </td></tr>\n",
       "\t<tr><td> 96         </td><td>0           </td><td>7.922816e-68</td><td>6.277102e-39</td><td>5.041039e-22</td><td>4.973232e-10</td><td>1.0000000   </td></tr>\n",
       "\t<tr><td> 97         </td><td>0           </td><td>1.584563e-68</td><td>2.510841e-39</td><td>3.024623e-22</td><td>3.978586e-10</td><td>1.0000000   </td></tr>\n",
       "\t<tr><td> 98         </td><td>0           </td><td>3.169126e-69</td><td>1.004336e-39</td><td>1.814774e-22</td><td>3.182869e-10</td><td>1.0000000   </td></tr>\n",
       "\t<tr><td> 99         </td><td>0           </td><td>6.338253e-70</td><td>4.017345e-40</td><td>1.088864e-22</td><td>2.546295e-10</td><td>1.0000000   </td></tr>\n",
       "\t<tr><td>100         </td><td>0           </td><td>1.267651e-70</td><td>1.606938e-40</td><td>6.533186e-23</td><td>2.037036e-10</td><td>1.0000000   </td></tr>\n",
       "</tbody>\n",
       "</table>\n"
      ],
      "text/latex": [
       "\\begin{tabular}{r|lllllll}\n",
       " k & H0 & H1 & H2 & H3 & H4 & H5\\\\\n",
       "\\hline\n",
       "\t  1           & 0            & 6.666667e-02 & 1.333333e-01 & 2.000000e-01 & 0.266666667  & 0.3333333   \\\\\n",
       "\t  2           & 0            & 1.818182e-02 & 7.272727e-02 & 1.636364e-01 & 0.290909091  & 0.4545455   \\\\\n",
       "\t  3           & 0            & 4.444444e-03 & 3.555556e-02 & 1.200000e-01 & 0.284444444  & 0.5555556   \\\\\n",
       "\t  4           & 0            & 1.021450e-03 & 1.634321e-02 & 8.273749e-02 & 0.261491318  & 0.6384065   \\\\\n",
       "\t  5           & 0            & 2.259887e-04 & 7.231638e-03 & 5.491525e-02 & 0.231412429  & 0.7062147   \\\\\n",
       "\t  6           & 0            & 4.874482e-05 & 3.119669e-03 & 3.553497e-02 & 0.199658786  & 0.7616378   \\\\\n",
       "\t  7           & 0            & 1.032791e-05 & 1.321973e-03 & 2.258714e-02 & 0.169212497  & 0.8068681   \\\\\n",
       "\t  8           & 0            & 2.159925e-06 & 5.529408e-04 & 1.417127e-02 & 0.141552857  & 0.8437208   \\\\\n",
       "\t  9           & 0            & 4.473342e-07 & 2.290351e-04 & 8.804880e-03 & 0.117265983  & 0.8736997   \\\\\n",
       "\t 10           & 0            & 9.196015e-08 & 9.416720e-05 & 5.430155e-03 & 0.096427210  & 0.8980484   \\\\\n",
       "\t 11           & 0            & 1.879642e-08 & 3.849506e-05 & 3.329729e-03 & 0.078837893  & 0.9177939   \\\\\n",
       "\t 12           & 0            & 3.824774e-09 & 1.566627e-05 & 2.032642e-03 & 0.064169054  & 0.9337826   \\\\\n",
       "\t 13           & 0            & 7.755458e-10 & 6.353271e-06 & 1.236471e-03 & 0.052045997  & 0.9467112   \\\\\n",
       "\t 14           & 0            & 1.568197e-10 & 2.569334e-06 & 7.500637e-04 & 0.042095964  & 0.9571514   \\\\\n",
       "\t 15           & 0            & 3.163986e-11 & 1.036775e-06 & 4.539974e-04 & 0.033973042  & 0.9655719   \\\\\n",
       "\t 16           & 0            & 6.372432e-12 & 4.176237e-07 & 2.743123e-04 & 0.027369385  & 0.9723559   \\\\\n",
       "\t 17           & 0            & 1.281643e-12 & 1.679875e-07 & 1.655116e-04 & 0.022018456  & 0.9778159   \\\\\n",
       "\t 18           & 0            & 2.574795e-13 & 6.749670e-08 & 9.975283e-05 & 0.017693856  & 0.9822063   \\\\\n",
       "\t 19           & 0            & 5.168085e-14 & 2.709565e-08 & 6.006666e-05 & 0.014205924  & 0.9857340   \\\\\n",
       "\t 20           & 0            & 1.036587e-14 & 1.086940e-08 & 3.614356e-05 & 0.011397395  & 0.9885665   \\\\\n",
       "\t 21           & 0            & 2.077941e-15 & 4.357758e-09 & 2.173599e-05 & 0.009138880  & 0.9908394   \\\\\n",
       "\t 22           & 0            & 4.163528e-16 & 1.746310e-09 & 1.306559e-05 & 0.007324556  & 0.9926624   \\\\\n",
       "\t 23           & 0            & 8.339316e-17 & 6.995525e-10 & 7.850897e-06 & 0.005868272  & 0.9941239   \\\\\n",
       "\t 24           & 0            & 1.669828e-17 & 2.801507e-10 & 4.716088e-06 & 0.004700148  & 0.9952951   \\\\\n",
       "\t 25           & 0            & 3.342805e-18 & 1.121659e-10 & 2.832321e-06 & 0.003763664  & 0.9962335   \\\\\n",
       "\t 26           & 0            & 6.690654e-19 & 4.490022e-11 & 1.700674e-06 & 0.003013203  & 0.9969851   \\\\\n",
       "\t 27           & 0            & 1.338939e-19 & 1.797093e-11 & 1.021021e-06 & 0.002412017  & 0.9975870   \\\\\n",
       "\t 28           & 0            & 2.679171e-20 & 7.191844e-12 & 6.129083e-07 & 0.001930546  & 0.9980688   \\\\\n",
       "\t 29           & 0            & 5.360412e-21 & 2.877849e-12 & 3.678871e-07 & 0.001545034  & 0.9984546   \\\\\n",
       "\t 30           & 0            & 1.072414e-21 & 1.151496e-12 & 2.208005e-07 & 0.001236409  & 0.9987634   \\\\\n",
       "\t ... & ... & ... & ... & ... & ... & ...\\\\\n",
       "\t  71          & 0            & 2.361183e-50 & 5.575186e-29 & 1.773122e-16 & 1.316403e-07 & 0.9999999   \\\\\n",
       "\t  72          & 0            & 4.722366e-51 & 2.230074e-29 & 1.063873e-16 & 1.053123e-07 & 0.9999999   \\\\\n",
       "\t  73          & 0            & 9.444732e-52 & 8.920297e-30 & 6.383241e-17 & 8.424983e-08 & 0.9999999   \\\\\n",
       "\t  74          & 0            & 1.888946e-52 & 3.568119e-30 & 3.829945e-17 & 6.739986e-08 & 0.9999999   \\\\\n",
       "\t  75          & 0            & 3.777893e-53 & 1.427248e-30 & 2.297967e-17 & 5.391989e-08 & 0.9999999   \\\\\n",
       "\t  76          & 0            & 7.555786e-54 & 5.708991e-31 & 1.378780e-17 & 4.313591e-08 & 1.0000000   \\\\\n",
       "\t  77          & 0            & 1.511157e-54 & 2.283596e-31 & 8.272681e-18 & 3.450873e-08 & 1.0000000   \\\\\n",
       "\t  78          & 0            & 3.022314e-55 & 9.134385e-32 & 4.963608e-18 & 2.760698e-08 & 1.0000000   \\\\\n",
       "\t  79          & 0            & 6.044629e-56 & 3.653754e-32 & 2.978165e-18 & 2.208559e-08 & 1.0000000   \\\\\n",
       "\t  80          & 0            & 1.208926e-56 & 1.461502e-32 & 1.786899e-18 & 1.766847e-08 & 1.0000000   \\\\\n",
       "\t  81          & 0            & 2.417852e-57 & 5.846006e-33 & 1.072139e-18 & 1.413478e-08 & 1.0000000   \\\\\n",
       "\t  82          & 0            & 4.835703e-58 & 2.338403e-33 & 6.432837e-19 & 1.130782e-08 & 1.0000000   \\\\\n",
       "\t  83          & 0            & 9.671406e-59 & 9.353610e-34 & 3.859702e-19 & 9.046257e-09 & 1.0000000   \\\\\n",
       "\t  84          & 0            & 1.934281e-59 & 3.741444e-34 & 2.315821e-19 & 7.237006e-09 & 1.0000000   \\\\\n",
       "\t  85          & 0            & 3.868563e-60 & 1.496578e-34 & 1.389493e-19 & 5.789604e-09 & 1.0000000   \\\\\n",
       "\t  86          & 0            & 7.737125e-61 & 5.986311e-35 & 8.336956e-20 & 4.631684e-09 & 1.0000000   \\\\\n",
       "\t  87          & 0            & 1.547425e-61 & 2.394524e-35 & 5.002174e-20 & 3.705347e-09 & 1.0000000   \\\\\n",
       "\t  88          & 0            & 3.094850e-62 & 9.578097e-36 & 3.001304e-20 & 2.964277e-09 & 1.0000000   \\\\\n",
       "\t  89          & 0            & 6.189700e-63 & 3.831239e-36 & 1.800783e-20 & 2.371422e-09 & 1.0000000   \\\\\n",
       "\t  90          & 0            & 1.237940e-63 & 1.532496e-36 & 1.080470e-20 & 1.897138e-09 & 1.0000000   \\\\\n",
       "\t  91          & 0            & 2.475880e-64 & 6.129982e-37 & 6.482817e-21 & 1.517710e-09 & 1.0000000   \\\\\n",
       "\t  92          & 0            & 4.951760e-65 & 2.451993e-37 & 3.889690e-21 & 1.214168e-09 & 1.0000000   \\\\\n",
       "\t  93          & 0            & 9.903520e-66 & 9.807971e-38 & 2.333814e-21 & 9.713344e-10 & 1.0000000   \\\\\n",
       "\t  94          & 0            & 1.980704e-66 & 3.923189e-38 & 1.400289e-21 & 7.770676e-10 & 1.0000000   \\\\\n",
       "\t  95          & 0            & 3.961408e-67 & 1.569275e-38 & 8.401731e-22 & 6.216540e-10 & 1.0000000   \\\\\n",
       "\t  96          & 0            & 7.922816e-68 & 6.277102e-39 & 5.041039e-22 & 4.973232e-10 & 1.0000000   \\\\\n",
       "\t  97          & 0            & 1.584563e-68 & 2.510841e-39 & 3.024623e-22 & 3.978586e-10 & 1.0000000   \\\\\n",
       "\t  98          & 0            & 3.169126e-69 & 1.004336e-39 & 1.814774e-22 & 3.182869e-10 & 1.0000000   \\\\\n",
       "\t  99          & 0            & 6.338253e-70 & 4.017345e-40 & 1.088864e-22 & 2.546295e-10 & 1.0000000   \\\\\n",
       "\t 100          & 0            & 1.267651e-70 & 1.606938e-40 & 6.533186e-23 & 2.037036e-10 & 1.0000000   \\\\\n",
       "\\end{tabular}\n"
      ],
      "text/markdown": [
       "\n",
       "| k | H0 | H1 | H2 | H3 | H4 | H5 |\n",
       "|---|---|---|---|---|---|---|\n",
       "|  1           | 0            | 6.666667e-02 | 1.333333e-01 | 2.000000e-01 | 0.266666667  | 0.3333333    |\n",
       "|  2           | 0            | 1.818182e-02 | 7.272727e-02 | 1.636364e-01 | 0.290909091  | 0.4545455    |\n",
       "|  3           | 0            | 4.444444e-03 | 3.555556e-02 | 1.200000e-01 | 0.284444444  | 0.5555556    |\n",
       "|  4           | 0            | 1.021450e-03 | 1.634321e-02 | 8.273749e-02 | 0.261491318  | 0.6384065    |\n",
       "|  5           | 0            | 2.259887e-04 | 7.231638e-03 | 5.491525e-02 | 0.231412429  | 0.7062147    |\n",
       "|  6           | 0            | 4.874482e-05 | 3.119669e-03 | 3.553497e-02 | 0.199658786  | 0.7616378    |\n",
       "|  7           | 0            | 1.032791e-05 | 1.321973e-03 | 2.258714e-02 | 0.169212497  | 0.8068681    |\n",
       "|  8           | 0            | 2.159925e-06 | 5.529408e-04 | 1.417127e-02 | 0.141552857  | 0.8437208    |\n",
       "|  9           | 0            | 4.473342e-07 | 2.290351e-04 | 8.804880e-03 | 0.117265983  | 0.8736997    |\n",
       "| 10           | 0            | 9.196015e-08 | 9.416720e-05 | 5.430155e-03 | 0.096427210  | 0.8980484    |\n",
       "| 11           | 0            | 1.879642e-08 | 3.849506e-05 | 3.329729e-03 | 0.078837893  | 0.9177939    |\n",
       "| 12           | 0            | 3.824774e-09 | 1.566627e-05 | 2.032642e-03 | 0.064169054  | 0.9337826    |\n",
       "| 13           | 0            | 7.755458e-10 | 6.353271e-06 | 1.236471e-03 | 0.052045997  | 0.9467112    |\n",
       "| 14           | 0            | 1.568197e-10 | 2.569334e-06 | 7.500637e-04 | 0.042095964  | 0.9571514    |\n",
       "| 15           | 0            | 3.163986e-11 | 1.036775e-06 | 4.539974e-04 | 0.033973042  | 0.9655719    |\n",
       "| 16           | 0            | 6.372432e-12 | 4.176237e-07 | 2.743123e-04 | 0.027369385  | 0.9723559    |\n",
       "| 17           | 0            | 1.281643e-12 | 1.679875e-07 | 1.655116e-04 | 0.022018456  | 0.9778159    |\n",
       "| 18           | 0            | 2.574795e-13 | 6.749670e-08 | 9.975283e-05 | 0.017693856  | 0.9822063    |\n",
       "| 19           | 0            | 5.168085e-14 | 2.709565e-08 | 6.006666e-05 | 0.014205924  | 0.9857340    |\n",
       "| 20           | 0            | 1.036587e-14 | 1.086940e-08 | 3.614356e-05 | 0.011397395  | 0.9885665    |\n",
       "| 21           | 0            | 2.077941e-15 | 4.357758e-09 | 2.173599e-05 | 0.009138880  | 0.9908394    |\n",
       "| 22           | 0            | 4.163528e-16 | 1.746310e-09 | 1.306559e-05 | 0.007324556  | 0.9926624    |\n",
       "| 23           | 0            | 8.339316e-17 | 6.995525e-10 | 7.850897e-06 | 0.005868272  | 0.9941239    |\n",
       "| 24           | 0            | 1.669828e-17 | 2.801507e-10 | 4.716088e-06 | 0.004700148  | 0.9952951    |\n",
       "| 25           | 0            | 3.342805e-18 | 1.121659e-10 | 2.832321e-06 | 0.003763664  | 0.9962335    |\n",
       "| 26           | 0            | 6.690654e-19 | 4.490022e-11 | 1.700674e-06 | 0.003013203  | 0.9969851    |\n",
       "| 27           | 0            | 1.338939e-19 | 1.797093e-11 | 1.021021e-06 | 0.002412017  | 0.9975870    |\n",
       "| 28           | 0            | 2.679171e-20 | 7.191844e-12 | 6.129083e-07 | 0.001930546  | 0.9980688    |\n",
       "| 29           | 0            | 5.360412e-21 | 2.877849e-12 | 3.678871e-07 | 0.001545034  | 0.9984546    |\n",
       "| 30           | 0            | 1.072414e-21 | 1.151496e-12 | 2.208005e-07 | 0.001236409  | 0.9987634    |\n",
       "| ... | ... | ... | ... | ... | ... | ... |\n",
       "|  71          | 0            | 2.361183e-50 | 5.575186e-29 | 1.773122e-16 | 1.316403e-07 | 0.9999999    |\n",
       "|  72          | 0            | 4.722366e-51 | 2.230074e-29 | 1.063873e-16 | 1.053123e-07 | 0.9999999    |\n",
       "|  73          | 0            | 9.444732e-52 | 8.920297e-30 | 6.383241e-17 | 8.424983e-08 | 0.9999999    |\n",
       "|  74          | 0            | 1.888946e-52 | 3.568119e-30 | 3.829945e-17 | 6.739986e-08 | 0.9999999    |\n",
       "|  75          | 0            | 3.777893e-53 | 1.427248e-30 | 2.297967e-17 | 5.391989e-08 | 0.9999999    |\n",
       "|  76          | 0            | 7.555786e-54 | 5.708991e-31 | 1.378780e-17 | 4.313591e-08 | 1.0000000    |\n",
       "|  77          | 0            | 1.511157e-54 | 2.283596e-31 | 8.272681e-18 | 3.450873e-08 | 1.0000000    |\n",
       "|  78          | 0            | 3.022314e-55 | 9.134385e-32 | 4.963608e-18 | 2.760698e-08 | 1.0000000    |\n",
       "|  79          | 0            | 6.044629e-56 | 3.653754e-32 | 2.978165e-18 | 2.208559e-08 | 1.0000000    |\n",
       "|  80          | 0            | 1.208926e-56 | 1.461502e-32 | 1.786899e-18 | 1.766847e-08 | 1.0000000    |\n",
       "|  81          | 0            | 2.417852e-57 | 5.846006e-33 | 1.072139e-18 | 1.413478e-08 | 1.0000000    |\n",
       "|  82          | 0            | 4.835703e-58 | 2.338403e-33 | 6.432837e-19 | 1.130782e-08 | 1.0000000    |\n",
       "|  83          | 0            | 9.671406e-59 | 9.353610e-34 | 3.859702e-19 | 9.046257e-09 | 1.0000000    |\n",
       "|  84          | 0            | 1.934281e-59 | 3.741444e-34 | 2.315821e-19 | 7.237006e-09 | 1.0000000    |\n",
       "|  85          | 0            | 3.868563e-60 | 1.496578e-34 | 1.389493e-19 | 5.789604e-09 | 1.0000000    |\n",
       "|  86          | 0            | 7.737125e-61 | 5.986311e-35 | 8.336956e-20 | 4.631684e-09 | 1.0000000    |\n",
       "|  87          | 0            | 1.547425e-61 | 2.394524e-35 | 5.002174e-20 | 3.705347e-09 | 1.0000000    |\n",
       "|  88          | 0            | 3.094850e-62 | 9.578097e-36 | 3.001304e-20 | 2.964277e-09 | 1.0000000    |\n",
       "|  89          | 0            | 6.189700e-63 | 3.831239e-36 | 1.800783e-20 | 2.371422e-09 | 1.0000000    |\n",
       "|  90          | 0            | 1.237940e-63 | 1.532496e-36 | 1.080470e-20 | 1.897138e-09 | 1.0000000    |\n",
       "|  91          | 0            | 2.475880e-64 | 6.129982e-37 | 6.482817e-21 | 1.517710e-09 | 1.0000000    |\n",
       "|  92          | 0            | 4.951760e-65 | 2.451993e-37 | 3.889690e-21 | 1.214168e-09 | 1.0000000    |\n",
       "|  93          | 0            | 9.903520e-66 | 9.807971e-38 | 2.333814e-21 | 9.713344e-10 | 1.0000000    |\n",
       "|  94          | 0            | 1.980704e-66 | 3.923189e-38 | 1.400289e-21 | 7.770676e-10 | 1.0000000    |\n",
       "|  95          | 0            | 3.961408e-67 | 1.569275e-38 | 8.401731e-22 | 6.216540e-10 | 1.0000000    |\n",
       "|  96          | 0            | 7.922816e-68 | 6.277102e-39 | 5.041039e-22 | 4.973232e-10 | 1.0000000    |\n",
       "|  97          | 0            | 1.584563e-68 | 2.510841e-39 | 3.024623e-22 | 3.978586e-10 | 1.0000000    |\n",
       "|  98          | 0            | 3.169126e-69 | 1.004336e-39 | 1.814774e-22 | 3.182869e-10 | 1.0000000    |\n",
       "|  99          | 0            | 6.338253e-70 | 4.017345e-40 | 1.088864e-22 | 2.546295e-10 | 1.0000000    |\n",
       "| 100          | 0            | 1.267651e-70 | 1.606938e-40 | 6.533186e-23 | 2.037036e-10 | 1.0000000    |\n",
       "\n"
      ],
      "text/plain": [
       "    k   H0  H1           H2           H3           H4           H5       \n",
       "1    1  0   6.666667e-02 1.333333e-01 2.000000e-01 0.266666667  0.3333333\n",
       "2    2  0   1.818182e-02 7.272727e-02 1.636364e-01 0.290909091  0.4545455\n",
       "3    3  0   4.444444e-03 3.555556e-02 1.200000e-01 0.284444444  0.5555556\n",
       "4    4  0   1.021450e-03 1.634321e-02 8.273749e-02 0.261491318  0.6384065\n",
       "5    5  0   2.259887e-04 7.231638e-03 5.491525e-02 0.231412429  0.7062147\n",
       "6    6  0   4.874482e-05 3.119669e-03 3.553497e-02 0.199658786  0.7616378\n",
       "7    7  0   1.032791e-05 1.321973e-03 2.258714e-02 0.169212497  0.8068681\n",
       "8    8  0   2.159925e-06 5.529408e-04 1.417127e-02 0.141552857  0.8437208\n",
       "9    9  0   4.473342e-07 2.290351e-04 8.804880e-03 0.117265983  0.8736997\n",
       "10  10  0   9.196015e-08 9.416720e-05 5.430155e-03 0.096427210  0.8980484\n",
       "11  11  0   1.879642e-08 3.849506e-05 3.329729e-03 0.078837893  0.9177939\n",
       "12  12  0   3.824774e-09 1.566627e-05 2.032642e-03 0.064169054  0.9337826\n",
       "13  13  0   7.755458e-10 6.353271e-06 1.236471e-03 0.052045997  0.9467112\n",
       "14  14  0   1.568197e-10 2.569334e-06 7.500637e-04 0.042095964  0.9571514\n",
       "15  15  0   3.163986e-11 1.036775e-06 4.539974e-04 0.033973042  0.9655719\n",
       "16  16  0   6.372432e-12 4.176237e-07 2.743123e-04 0.027369385  0.9723559\n",
       "17  17  0   1.281643e-12 1.679875e-07 1.655116e-04 0.022018456  0.9778159\n",
       "18  18  0   2.574795e-13 6.749670e-08 9.975283e-05 0.017693856  0.9822063\n",
       "19  19  0   5.168085e-14 2.709565e-08 6.006666e-05 0.014205924  0.9857340\n",
       "20  20  0   1.036587e-14 1.086940e-08 3.614356e-05 0.011397395  0.9885665\n",
       "21  21  0   2.077941e-15 4.357758e-09 2.173599e-05 0.009138880  0.9908394\n",
       "22  22  0   4.163528e-16 1.746310e-09 1.306559e-05 0.007324556  0.9926624\n",
       "23  23  0   8.339316e-17 6.995525e-10 7.850897e-06 0.005868272  0.9941239\n",
       "24  24  0   1.669828e-17 2.801507e-10 4.716088e-06 0.004700148  0.9952951\n",
       "25  25  0   3.342805e-18 1.121659e-10 2.832321e-06 0.003763664  0.9962335\n",
       "26  26  0   6.690654e-19 4.490022e-11 1.700674e-06 0.003013203  0.9969851\n",
       "27  27  0   1.338939e-19 1.797093e-11 1.021021e-06 0.002412017  0.9975870\n",
       "28  28  0   2.679171e-20 7.191844e-12 6.129083e-07 0.001930546  0.9980688\n",
       "29  29  0   5.360412e-21 2.877849e-12 3.678871e-07 0.001545034  0.9984546\n",
       "30  30  0   1.072414e-21 1.151496e-12 2.208005e-07 0.001236409  0.9987634\n",
       "... ... ... ...          ...          ...          ...          ...      \n",
       "71   71 0   2.361183e-50 5.575186e-29 1.773122e-16 1.316403e-07 0.9999999\n",
       "72   72 0   4.722366e-51 2.230074e-29 1.063873e-16 1.053123e-07 0.9999999\n",
       "73   73 0   9.444732e-52 8.920297e-30 6.383241e-17 8.424983e-08 0.9999999\n",
       "74   74 0   1.888946e-52 3.568119e-30 3.829945e-17 6.739986e-08 0.9999999\n",
       "75   75 0   3.777893e-53 1.427248e-30 2.297967e-17 5.391989e-08 0.9999999\n",
       "76   76 0   7.555786e-54 5.708991e-31 1.378780e-17 4.313591e-08 1.0000000\n",
       "77   77 0   1.511157e-54 2.283596e-31 8.272681e-18 3.450873e-08 1.0000000\n",
       "78   78 0   3.022314e-55 9.134385e-32 4.963608e-18 2.760698e-08 1.0000000\n",
       "79   79 0   6.044629e-56 3.653754e-32 2.978165e-18 2.208559e-08 1.0000000\n",
       "80   80 0   1.208926e-56 1.461502e-32 1.786899e-18 1.766847e-08 1.0000000\n",
       "81   81 0   2.417852e-57 5.846006e-33 1.072139e-18 1.413478e-08 1.0000000\n",
       "82   82 0   4.835703e-58 2.338403e-33 6.432837e-19 1.130782e-08 1.0000000\n",
       "83   83 0   9.671406e-59 9.353610e-34 3.859702e-19 9.046257e-09 1.0000000\n",
       "84   84 0   1.934281e-59 3.741444e-34 2.315821e-19 7.237006e-09 1.0000000\n",
       "85   85 0   3.868563e-60 1.496578e-34 1.389493e-19 5.789604e-09 1.0000000\n",
       "86   86 0   7.737125e-61 5.986311e-35 8.336956e-20 4.631684e-09 1.0000000\n",
       "87   87 0   1.547425e-61 2.394524e-35 5.002174e-20 3.705347e-09 1.0000000\n",
       "88   88 0   3.094850e-62 9.578097e-36 3.001304e-20 2.964277e-09 1.0000000\n",
       "89   89 0   6.189700e-63 3.831239e-36 1.800783e-20 2.371422e-09 1.0000000\n",
       "90   90 0   1.237940e-63 1.532496e-36 1.080470e-20 1.897138e-09 1.0000000\n",
       "91   91 0   2.475880e-64 6.129982e-37 6.482817e-21 1.517710e-09 1.0000000\n",
       "92   92 0   4.951760e-65 2.451993e-37 3.889690e-21 1.214168e-09 1.0000000\n",
       "93   93 0   9.903520e-66 9.807971e-38 2.333814e-21 9.713344e-10 1.0000000\n",
       "94   94 0   1.980704e-66 3.923189e-38 1.400289e-21 7.770676e-10 1.0000000\n",
       "95   95 0   3.961408e-67 1.569275e-38 8.401731e-22 6.216540e-10 1.0000000\n",
       "96   96 0   7.922816e-68 6.277102e-39 5.041039e-22 4.973232e-10 1.0000000\n",
       "97   97 0   1.584563e-68 2.510841e-39 3.024623e-22 3.978586e-10 1.0000000\n",
       "98   98 0   3.169126e-69 1.004336e-39 1.814774e-22 3.182869e-10 1.0000000\n",
       "99   99 0   6.338253e-70 4.017345e-40 1.088864e-22 2.546295e-10 1.0000000\n",
       "100 100 0   1.267651e-70 1.606938e-40 6.533186e-23 2.037036e-10 1.0000000"
      ]
     },
     "metadata": {},
     "output_type": "display_data"
    }
   ],
   "source": [
    "results"
   ]
  },
  {
   "cell_type": "markdown",
   "metadata": {},
   "source": [
    "### plots the probability for each box as a function of the number of trial\n"
   ]
  },
  {
   "cell_type": "code",
   "execution_count": 25,
   "metadata": {},
   "outputs": [
    {
     "data": {
      "image/png": "[encoded data removed]",
      "text/plain": [
       "plot without title"
      ]
     },
     "metadata": {},
     "output_type": "display_data"
    }
   ],
   "source": [
    "plt(results)"
   ]
  },
  {
   "cell_type": "code",
   "execution_count": 30,
   "metadata": {},
   "outputs": [
    {
     "name": "stdout",
     "output_type": "stream",
     "text": [
      "The chosen box contained: w w w w w"
     ]
    }
   ],
   "source": [
    "cat(\"The chosen box contained:\",(box))"
   ]
  },
  {
   "cell_type": "markdown",
   "metadata": {},
   "source": [
    "## Exercise"
   ]
  },
  {
   "cell_type": "markdown",
   "metadata": {},
   "source": [
    "- An important property of the gamma distribution is the so-called reproductive property\n",
    "\n",
    "- given a sequence of independent random variable $X_j ∼ Gamma(\\alpha_j , \\beta)$, it follows that\n",
    "\n",
    "$$ Y = \\sum_{j=1}^{n} X_j \\rightarrow Y \\sim \\; \\text{Gamma}(\\alpha,\\beta) \\; \\text{where} \\; \\alpha = \\sum_{j=1}^n \\alpha_j$$\n",
    "\n",
    "\n",
    "-  if $\\alpha = m$ is an integer, a random variable from gamma distribution $\\text{Gamma}(m, \\beta)$ (also known as Erlang distribution) can be obtained by summing $m$ independent exponential random variables $X_j \\sim \\text{Exp}(\\beta)$:\n",
    "\n",
    "$$ Y = \\beta \\sum_{j=1}^n (-\\text{ln}U_j) = -\\beta \\prod_{j=1}^n U_j$$\n"
   ]
  },
  {
   "cell_type": "markdown",
   "metadata": {},
   "source": [
    "- a) write an algorithm to sample variables from an Erlang distribution Gamma$(m, \\beta)$\n"
   ]
  },
  {
   "cell_type": "code",
   "execution_count": 1,
   "metadata": {},
   "outputs": [
    {
     "name": "stderr",
     "output_type": "stream",
     "text": [
      "Loading required package: sysfonts\n",
      "Loading required package: showtextdb\n"
     ]
    }
   ],
   "source": [
    "library(showtext)\n",
    "showtext_auto()\n",
    "library(\"scales\")\n",
    "\n",
    "set_plot_dimensions <- function(width_choice, height_choice) {\n",
    "        options(repr.plot.width=width_choice, repr.plot.height=height_choice)\n",
    "        }"
   ]
  },
  {
   "cell_type": "code",
   "execution_count": 2,
   "metadata": {},
   "outputs": [],
   "source": [
    "# n is the number of elements to be drawn from the erlang distribution\n",
    "# m is alpha from the Gamma distribution\n",
    "# beta is beta from the Gamma distribution\n",
    "rerlang <- function(n,m,beta){\n",
    "    sample <-vector(mode=\"numeric\")\n",
    "    for (i in 1:n){\n",
    "        sample <- append(sample,-sum(log(runif(m)))/beta)\n",
    "    }\n",
    "    return(sample)\n",
    "    }\n",
    "    "
   ]
  },
  {
   "cell_type": "code",
   "execution_count": 27,
   "metadata": {},
   "outputs": [],
   "source": [
    "derlang <- function(x, m, b) {\n",
    "    f <- dgamma(x, m, b)\n",
    "    f\n",
    "}"
   ]
  },
  {
   "cell_type": "code",
   "execution_count": 31,
   "metadata": {},
   "outputs": [
    {
     "data": {
      "image/png": "[encoded data removed]",
      "text/plain": [
       "Plot with title “Erlang distribution \n",
       "alpha = 5 , beta = 50”"
      ]
     },
     "metadata": {},
     "output_type": "display_data"
    }
   ],
   "source": [
    "n <- 10000\n",
    "m <- 5\n",
    "beta <- 50\n",
    "\n",
    "samples <- rerlang(n,m,beta)\n",
    "\n",
    "set_plot_dimensions(5, 5)\n",
    "hist(samples, breaks=20, freq=FALSE,\n",
    "     col=\"pink\",\n",
    "     ylab=\"Count\",\n",
    "     xlab=\"x\",\n",
    "     main='Erlang distribution \\nalpha = 5 , beta = 50')\n",
    "\n",
    "curve(derlang(x, m,beta),\n",
    "      col=\"navy\", lt=3, lw=3, add=TRUE,)\n",
    "\n",
    "legend(\"topright\", legend = c(\"Analytical curve\", \"Sampled elements\"),\n",
    "       lt=3, lw=3,\n",
    "       density=c(0,100),\n",
    "       col = c(\"navy\", NA),\n",
    "       fill=c(\"navy\", \"pink\"),\n",
    "       border=c(NA,\"pink\"))"
   ]
  },
  {
   "cell_type": "markdown",
   "metadata": {},
   "source": [
    "## Exercise"
   ]
  },
  {
   "cell_type": "markdown",
   "metadata": {},
   "source": [
    "-  one of the first random number generator was proposed by von Neumann, the so-called middle square algorithm\n",
    "\n",
    "\n",
    "-  write R code to implement this type of generator and, given a fixed digit number input, square it an remove the leading and trailing digits, in order to return a number with the same number of digits as the original number\n",
    "\n",
    "\n",
    "-  Suggestion : after having squared the number, convert it to a list of characters\n",
    "\n",
    "    $\\texttt{(number <- unlist(strsplit(as.character(x.squared),\"\")))}$\n",
    "    \n",
    "    and, after having removed the head and tail of the list, convert it back to a number \n",
    "    \n",
    "    $\\texttt{(as.numeric(paste(number.after.trimming, collapse=\"\")))}$\n"
   ]
  },
  {
   "cell_type": "code",
   "execution_count": 215,
   "metadata": {},
   "outputs": [],
   "source": [
    "neuman <- function (seed) {\n",
    "    options(scipen = 999) #This is to avoid scientific notation\n",
    "    if(seed !=0){\n",
    "        s_len <- floor(log10(seed)) + 1\n",
    "        x     <-  as.numeric(unlist(strsplit(as.character(seed**2), \"\")))\n",
    "        s2_len<- length(x)\n",
    "\n",
    "        if (2*s_len != s2_len) {x <-c(0,x)}\n",
    "        l <- length(x)/2\n",
    "        return(as.numeric(paste(x[(l-1):(l+2)], collapse=\"\")))\n",
    "    }\n",
    "    else {\n",
    "        print(\"The seed is equal to cero\")\n",
    "    }\n",
    "    \n",
    "}"
   ]
  },
  {
   "cell_type": "code",
   "execution_count": 219,
   "metadata": {},
   "outputs": [
    {
     "name": "stdout",
     "output_type": "stream",
     "text": [
      "[1] 99\n",
      "[1] 9801\n",
      "[1] 596\n",
      "[1] 5521\n",
      "[1] 4814\n",
      "[1] 1745\n",
      "[1] 450\n",
      "[1] 250\n",
      "[1] 6250\n",
      "[1] 625\n",
      "[1] 9062\n",
      "[1] 1198\n",
      "[1] 4352\n",
      "[1] 9399\n",
      "[1] 3412\n",
      "[1] 6417\n",
      "[1] 1778\n",
      "[1] 1612\n",
      "[1] 5985\n",
      "[1] 8202\n",
      "[1] 2728\n",
      "[1] 4419\n",
      "[1] 5275\n",
      "[1] 8256\n",
      "[1] 1615\n",
      "[1] 6082\n",
      "[1] 9907\n",
      "[1] 1486\n",
      "[1] 2081\n",
      "[1] 3305\n",
      "[1] 9230\n",
      "[1] 1929\n",
      "[1] 7210\n",
      "[1] 9841\n",
      "[1] 8452\n",
      "[1] 4363\n",
      "[1] 357\n",
      "[1] 2744\n",
      "[1] 5295\n",
      "[1] 370\n",
      "[1] 3690\n",
      "[1] 6161\n",
      "[1] 9579\n",
      "[1] 7572\n",
      "[1] 3351\n",
      "[1] 2292\n",
      "[1] 2532\n",
      "[1] 4110\n",
      "[1] 8921\n",
      "[1] 5842\n",
      "[1] 1289\n",
      "[1] 6615\n",
      "[1] 7582\n",
      "[1] 4867\n",
      "[1] 6876\n",
      "[1] 2793\n",
      "[1] 8008\n",
      "[1] 1280\n",
      "[1] 6384\n",
      "[1] 7554\n",
      "[1] 629\n",
      "[1] 9564\n",
      "[1] 4700\n",
      "[1] 900\n",
      "[1] 1000\n"
     ]
    }
   ],
   "source": [
    "#Now we can print a sequence\n",
    "seed <- 99\n",
    "for (i in 1:100){\n",
    "    print(seed) \n",
    "    seed <- neuman(seed)\n",
    "    if (seed==0){break}\n",
    "       \n",
    "}"
   ]
  }
 ],
 "metadata": {
  "kernelspec": {
   "display_name": "R [conda env:r-tutorial]",
   "language": "R",
   "name": "conda-env-r-tutorial-r"
  },
  "language_info": {
   "codemirror_mode": "r",
   "file_extension": ".r",
   "mimetype": "text/x-r-source",
   "name": "R",
   "pygments_lexer": "r",
   "version": "3.6.1"
  },
  "toc": {
   "base_numbering": 1,
   "nav_menu": {},
   "number_sections": true,
   "sideBar": true,
   "skip_h1_title": false,
   "title_cell": "Table of Contents",
   "title_sidebar": "Contents",
   "toc_cell": false,
   "toc_position": {},
   "toc_section_display": true,
   "toc_window_display": false
  }
 },
 "nbformat": 4,
 "nbformat_minor": 4
}
